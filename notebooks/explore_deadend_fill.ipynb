{
 "cells": [
  {
   "cell_type": "code",
   "execution_count": 1,
   "id": "177fd4c7",
   "metadata": {},
   "outputs": [],
   "source": [
    "# Import necessary modules\n",
    "import sys\n",
    "import os\n",
    "import torch \n",
    "# Set root folder to project root\n",
    "os.chdir(os.path.dirname(os.getcwd()))\n",
    "\n",
    "# Add root folder to path\n",
    "sys.path.append(os.getcwd())\n",
    "\n",
    "from src.utils.config import Hyperparameters\n",
    "from src.utils.model_loading import load_model\n",
    "from src.utils.maze_loading import load_mazes\n",
    "from src.utils.testing import is_correct\n",
    "from src.utils.analysis import plot_mazes"
   ]
  },
  {
   "cell_type": "code",
   "execution_count": 2,
   "id": "44238a9f",
   "metadata": {},
   "outputs": [
    {
     "name": "stderr",
     "output_type": "stream",
     "text": [
      "2025-04-26 15:10:10,720 - src.utils.model_loading - INFO - Loaded model: dt_net from models/dt_net/original.pth to device: mps\n",
      "2025-04-26 15:10:10,723 - src.utils.maze_loading - INFO - Attempting 10 mazes to generate 10 mazes with size: 9, percolation: 0, and deadend_start: True\n",
      "2025-04-26 15:10:10,738 - src.utils.maze_loading - INFO - Loaded 10 mazes with size: 9, percolation: 0, and deadend_start: True\n"
     ]
    },
    {
     "name": "stdout",
     "output_type": "stream",
     "text": [
      "10 out of 10 predictions are correct.\n",
      "Saving maze plots to outputs/visuals/mazes/predictions_dt_net_size-9_iters-300\n"
     ]
    }
   ],
   "source": [
    "# Load model\n",
    "dt_net_original = load_model(pretrained='models/dt_net/original.pth')\n",
    "model = dt_net_original\n",
    "\n",
    "# Load mazes\n",
    "hyperparams = Hyperparameters()\n",
    "hyperparams.iters = 300\n",
    "hyperparams.num_mazes = 10\n",
    "hyperparams.percolation = 0\n",
    "hyperparams.maze_size = 9\n",
    "inputs, solutions = load_mazes(hyperparams)\n",
    "\n",
    "# Predict\n",
    "predictions = model.predict(inputs, iters=hyperparams.iters)\n",
    "\n",
    "# Evaluate predictions\n",
    "corrects = is_correct(inputs, predictions, solutions)\n",
    "print(f'{corrects.sum()} out of {len(corrects)} predictions are correct.')\n",
    "\n",
    "# Plot results\n",
    "file_name=f'outputs/visuals/mazes/predictions_{model.name}_size-{hyperparams.maze_size}_iters-{hyperparams.iters}'\n",
    "print(f'Saving maze plots to {file_name}')\n",
    "plot_mazes(\n",
    "    inputs,\n",
    "    solutions,\n",
    "    predictions,\n",
    "    file_name=file_name\n",
    ")"
   ]
  }
 ],
 "metadata": {
  "kernelspec": {
   "display_name": ".venv",
   "language": "python",
   "name": "python3"
  },
  "language_info": {
   "codemirror_mode": {
    "name": "ipython",
    "version": 3
   },
   "file_extension": ".py",
   "mimetype": "text/x-python",
   "name": "python",
   "nbconvert_exporter": "python",
   "pygments_lexer": "ipython3",
   "version": "3.11.3"
  }
 },
 "nbformat": 4,
 "nbformat_minor": 5
}
