{
 "cells": [
  {
   "cell_type": "code",
   "execution_count": 1,
   "id": "177fd4c7",
   "metadata": {},
   "outputs": [],
   "source": [
    "# Import necessary modules\n",
    "import sys\n",
    "import os\n",
    "import torch \n",
    "# Set root folder to project root\n",
    "os.chdir(os.path.dirname(os.getcwd()))\n",
    "\n",
    "# Add root folder to path\n",
    "sys.path.append(os.getcwd())\n",
    "\n",
    "from src.utils.config import Hyperparameters\n",
    "from src.utils.model_loading import load_model\n",
    "from src.utils.maze_loading import load_mazes\n",
    "from src.utils.testing import is_correct\n",
    "from src.utils.analysis import plot_mazes"
   ]
  },
  {
   "cell_type": "code",
   "execution_count": 4,
   "id": "44238a9f",
   "metadata": {},
   "outputs": [
    {
     "name": "stderr",
     "output_type": "stream",
     "text": [
      "2025-04-26 17:41:32,663 - src.utils.model_loading - INFO - Loaded model: dt_net from models/dt_net/original.pth to device: mps\n",
      "2025-04-26 17:41:32,664 - src.utils.maze_loading - INFO - Attempting 10 mazes to generate 10 mazes with size: 9, percolation: 0.3, and deadend_start: True\n",
      "2025-04-26 17:41:32,670 - src.utils.maze_loading - INFO - Attempting 20 mazes to generate 10 mazes with size: 9, percolation: 0.3, and deadend_start: True\n",
      "2025-04-26 17:41:32,680 - src.utils.maze_loading - INFO - Loaded 10 mazes with size: 9, percolation: 0.3, and deadend_start: True\n"
     ]
    },
    {
     "name": "stdout",
     "output_type": "stream",
     "text": [
      "10 out of 10 predictions are correct.\n",
      "Saving maze plots to outputs/visuals/mazes/predictions_dt_net_size-9_iters-300\n"
     ]
    }
   ],
   "source": [
    "# Load model\n",
    "dt_net = load_model(pretrained='models/dt_net/original.pth')\n",
    "deadend_fill = load_model(model_name='deadend_fill')\n",
    "\n",
    "# Load mazes\n",
    "hyperparams = Hyperparameters()\n",
    "hyperparams.iters = 300\n",
    "hyperparams.num_mazes = 10\n",
    "hyperparams.percolation = 0.3\n",
    "hyperparams.maze_size = 9\n",
    "inputs, solutions = load_mazes(hyperparams)\n",
    "\n",
    "# Predict\n",
    "dt_net_predictions = dt_net.predict(inputs, iters=hyperparams.iters)\n",
    "deadend_fill_predictions = deadend_fill.predict(inputs, iters=hyperparams.iters)\n",
    "\n",
    "# Evaluate predictions\n",
    "corrects = is_correct(inputs, dt_net_predictions, deadend_fill_predictions)\n",
    "print(f'{corrects.sum()} out of {len(corrects)} predictions are correct.')\n",
    "\n",
    "# Plot results\n",
    "file_name=f'outputs/visuals/mazes/predictions_{dt_net.name}_size-{hyperparams.maze_size}_iters-{hyperparams.iters}'\n",
    "print(f'Saving maze plots to {file_name}')\n",
    "plot_mazes(\n",
    "    inputs,\n",
    "    dt_net_predictions,\n",
    "    deadend_fill_predictions,\n",
    "    file_name=file_name\n",
    ")"
   ]
  }
 ],
 "metadata": {
  "kernelspec": {
   "display_name": ".venv",
   "language": "python",
   "name": "python3"
  },
  "language_info": {
   "codemirror_mode": {
    "name": "ipython",
    "version": 3
   },
   "file_extension": ".py",
   "mimetype": "text/x-python",
   "name": "python",
   "nbconvert_exporter": "python",
   "pygments_lexer": "ipython3",
   "version": "3.11.3"
  }
 },
 "nbformat": 4,
 "nbformat_minor": 5
}
