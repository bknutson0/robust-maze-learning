{
 "cells": [
  {
   "cell_type": "code",
   "execution_count": 1,
   "id": "748685f3",
   "metadata": {},
   "outputs": [],
   "source": [
    "# Import necessary modules\n",
    "import sys\n",
    "import os\n",
    "import torch \n",
    "# Set root folder to project root\n",
    "os.chdir(os.path.dirname(os.getcwd()))\n",
    "\n",
    "# Add root folder to path\n",
    "sys.path.append(os.getcwd())\n",
    "\n",
    "from src.utils.config import Hyperparameters\n",
    "from src.utils.model_loading import load_model\n",
    "from src.utils.maze_loading import load_mazes\n",
    "from src.utils.testing import is_correct\n",
    "from src.utils.analysis import plot_mazes"
   ]
  },
  {
   "cell_type": "code",
   "execution_count": null,
   "id": "cab8749d",
   "metadata": {},
   "outputs": [
    {
     "name": "stderr",
     "output_type": "stream",
     "text": [
      "2025-05-14 20:32:21,023 - src.utils.model_loading - INFO - Loaded pi_net from models/pi_net/original.pth to device: cuda:1\n",
      "2025-05-14 20:32:21,033 - src.utils.maze_loading - INFO - Attempting 3 mazes to generate 3 mazes with size: 99, percolation: 0, and deadend_start: True\n",
      "2025-05-14 20:32:21,943 - src.utils.maze_loading - INFO - Loaded 3 mazes with size: 99, percolation: 0, and deadend_start: True\n"
     ]
    },
    {
     "ename": "NameError",
     "evalue": "name 'model' is not defined",
     "output_type": "error",
     "traceback": [
      "\u001b[0;31m---------------------------------------------------------------------------\u001b[0m",
      "\u001b[0;31mNameError\u001b[0m                                 Traceback (most recent call last)",
      "Cell \u001b[0;32mIn[2], line 15\u001b[0m\n\u001b[1;32m     12\u001b[0m \u001b[38;5;66;03m# Predict\u001b[39;00m\n\u001b[1;32m     13\u001b[0m \u001b[38;5;66;03m# predictions = model.predict(inputs, iters=hyperparams.iters)\u001b[39;00m\n\u001b[1;32m     14\u001b[0m \u001b[38;5;28;01mwith\u001b[39;00m torch\u001b[38;5;241m.\u001b[39mno_grad():\n\u001b[0;32m---> 15\u001b[0m     \u001b[43mmodel\u001b[49m\u001b[38;5;241m.\u001b[39meval()\n\u001b[1;32m     16\u001b[0m     latents \u001b[38;5;241m=\u001b[39m model\u001b[38;5;241m.\u001b[39minput_to_latent(inputs)\n\u001b[1;32m     17\u001b[0m     latents \u001b[38;5;241m=\u001b[39m model\u001b[38;5;241m.\u001b[39mlatent_forward(latents, inputs, iters\u001b[38;5;241m=\u001b[39mhyperparams\u001b[38;5;241m.\u001b[39miters)\n",
      "\u001b[0;31mNameError\u001b[0m: name 'model' is not defined"
     ]
    }
   ],
   "source": [
    "# Load model\n",
    "pi_net = load_model(pretrained='models/pi_net/original.pth')\n",
    "model = pi_net\n",
    "\n",
    "# Load mazes\n",
    "hyperparams = Hyperparameters()\n",
    "hyperparams.iters = 3000\n",
    "hyperparams.num_mazes = 3\n",
    "hyperparams.percolation = 0\n",
    "hyperparams.maze_size = 99\n",
    "inputs, solutions = load_mazes(hyperparams)\n",
    "\n",
    "# Predict\n",
    "# predictions = model.predict(inputs, iters=hyperparams.iters)\n",
    "with torch.no_grad():\n",
    "    model.eval()\n",
    "    latents = model.input_to_latent(inputs)\n",
    "    latents = model.latent_forward(latents, inputs, iters=hyperparams.iters)\n",
    "    #latents = model.latent_forward_layer(torch.cat([latents, inputs], dim=1))\n",
    "    outputs = model.latent_to_output(latents)\n",
    "    predictions = model.output_to_prediction(outputs, inputs)\n",
    "\n",
    "# Evaluate predictions\n",
    "corrects = is_correct(inputs, predictions, solutions)\n",
    "print(f'{corrects.sum()} out of {len(corrects)} predictions are correct.')\n",
    "\n",
    "# Plot results\n",
    "file_name=f'outputs/visuals/mazes/predictions_{model.name}_size-{hyperparams.maze_size}_iters-{hyperparams.iters}'\n",
    "print(f'Saving maze plots to {file_name}')\n",
    "plot_mazes(\n",
    "    inputs,\n",
    "    solutions,\n",
    "    predictions,\n",
    "    file_name=file_name\n",
    ")"
   ]
  }
 ],
 "metadata": {
  "kernelspec": {
   "display_name": ".venv",
   "language": "python",
   "name": "python3"
  },
  "language_info": {
   "codemirror_mode": {
    "name": "ipython",
    "version": 3
   },
   "file_extension": ".py",
   "mimetype": "text/x-python",
   "name": "python",
   "nbconvert_exporter": "python",
   "pygments_lexer": "ipython3",
   "version": "3.10.16"
  }
 },
 "nbformat": 4,
 "nbformat_minor": 5
}
