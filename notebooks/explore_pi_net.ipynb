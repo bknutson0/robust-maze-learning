{
 "cells": [
  {
   "cell_type": "code",
   "execution_count": 1,
   "id": "748685f3",
   "metadata": {},
   "outputs": [],
   "source": [
    "# Import necessary modules\n",
    "import sys\n",
    "import os\n",
    "import torch \n",
    "# Set root folder to project root\n",
    "os.chdir(os.path.dirname(os.getcwd()))\n",
    "\n",
    "# Add root folder to path\n",
    "sys.path.append(os.getcwd())\n",
    "\n",
    "from src.utils.config import Hyperparameters\n",
    "from src.utils.model_loading import load_model\n",
    "from src.utils.maze_loading import load_mazes\n",
    "from src.utils.testing import is_correct\n",
    "from src.utils.analysis import plot_mazes"
   ]
  },
  {
   "cell_type": "code",
   "execution_count": null,
   "id": "cab8749d",
   "metadata": {},
   "outputs": [
    {
     "name": "stderr",
     "output_type": "stream",
     "text": [
      "2025-05-14 21:10:12,551 - src.utils.model_loading - INFO - Loaded model: dt_net from models/dt_net/original.pth to device: cuda:1\n",
      "2025-05-14 21:10:12,580 - src.utils.model_loading - INFO - Loaded pi_net from models/pi_net/original.pth to device: cuda:1\n",
      "2025-05-14 21:10:12,581 - src.utils.maze_loading - INFO - Attempting 10 mazes to generate 10 mazes with size: 9, percolation: 0.3, and deadend_start: True\n",
      "2025-05-14 21:10:12,588 - src.utils.maze_loading - INFO - Attempting 20 mazes to generate 10 mazes with size: 9, percolation: 0.3, and deadend_start: True\n",
      "2025-05-14 21:10:12,607 - src.utils.maze_loading - INFO - Loaded 10 mazes with size: 9, percolation: 0.3, and deadend_start: True\n"
     ]
    },
    {
     "name": "stdout",
     "output_type": "stream",
     "text": [
      "DT Net solved 0/10 mazes correctly\n",
      "PI Net solved 0/10 mazes correctly\n"
     ]
    }
   ],
   "source": [
    "# Load model\n",
    "dt_net = load_model(pretrained='models/dt_net/original.pth')\n",
    "pi_net = load_model(pretrained='models/pi_net/original.pth')\n",
    "\n",
    "# Load mazes\n",
    "hyperparams = Hyperparameters()\n",
    "hyperparams.iters = 300\n",
    "hyperparams.num_mazes = 10\n",
    "hyperparams.percolation = 0.0\n",
    "hyperparams.maze_size = 9\n",
    "inputs, solutions = load_mazes(hyperparams)\n",
    "\n",
    "# Predict\n",
    "dt_predictions = dt_net.predict(inputs, iters=hyperparams.iters)\n",
    "pi_predictions = pi_net.predict(inputs, iters=hyperparams.iters)\n",
    "\n",
    "# Evaluate predictions\n",
    "dt_net_corrects = is_correct(inputs, dt_predictions, solutions)\n",
    "pi_net_corrects = is_correct(inputs, pi_predictions, solutions)\n",
    "print(f'DT Net solved {dt_net_corrects.sum()}/{hyperparams.num_mazes} mazes correctly')\n",
    "print(f'PI Net solved {pi_net_corrects.sum()}/{hyperparams.num_mazes} mazes correctly')\n",
    "\n",
    "# Plot results\n",
    "plot_mazes([('Input', inputs), ('Solution', solutions), ('DT-Net', dt_predictions), ('PI-Net', pi_predictions)])\n"
   ]
  }
 ],
 "metadata": {
  "kernelspec": {
   "display_name": ".venv",
   "language": "python",
   "name": "python3"
  },
  "language_info": {
   "codemirror_mode": {
    "name": "ipython",
    "version": 3
   },
   "file_extension": ".py",
   "mimetype": "text/x-python",
   "name": "python",
   "nbconvert_exporter": "python",
   "pygments_lexer": "ipython3",
   "version": "3.13.1"
  }
 },
 "nbformat": 4,
 "nbformat_minor": 5
}
