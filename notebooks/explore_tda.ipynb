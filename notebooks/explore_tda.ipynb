{
 "cells": [
  {
   "cell_type": "code",
   "execution_count": null,
   "id": "280234c2",
   "metadata": {},
   "outputs": [
    {
     "name": "stderr",
     "output_type": "stream",
     "text": [
      "2025-05-20 14:26:53,310 - src.utils.maze_loading - INFO - Attempting 1 mazes to generate 1 mazes with size: 69, percolation: 0.0, and deadend_start: True\n",
      "2025-05-20 14:26:53,627 - src.utils.maze_loading - INFO - Loaded 1 mazes with size: 69, percolation: 0.0, and deadend_start: True\n",
      "2025-05-20 14:26:53,643 - src.utils.model_loading - INFO - Loaded model: dt_net from models/dt_net/original.pth to device: cuda:1\n",
      "2025-05-20 14:26:58,803 - src.utils.tda - INFO - Performing TDA with embed_dim = 0, delay = 1, and X.shape = (400, 128, 144, 144) (4.247GB)\n",
      "2025-05-20 14:27:00,595 - src.utils.tda - INFO - Flattened X.shape = (400, 2654208)\n",
      "2025-05-20 14:27:02,789 - src.utils.tda - INFO - Reduced X.shape = (400, 400) (0.001GB)\n",
      "2025-05-20 14:27:02,855 - src.utils.tda - INFO - Computed distance_matrix.shape = (400, 400) with max_distance = 8.616\n",
      "2025-05-20 14:27:03,082 - src.utils.model_loading - INFO - Loaded model: dt_net from models/dt_net/2025-04-17_13:30:06/best.pth to device: cuda:1\n",
      "2025-05-20 14:27:08,103 - src.utils.tda - INFO - Performing TDA with embed_dim = 0, delay = 1, and X.shape = (400, 128, 144, 144) (4.247GB)\n",
      "2025-05-20 14:27:09,890 - src.utils.tda - INFO - Flattened X.shape = (400, 2654208)\n",
      "2025-05-20 14:27:12,025 - src.utils.tda - INFO - Reduced X.shape = (400, 400) (0.001GB)\n",
      "2025-05-20 14:27:12,091 - src.utils.tda - INFO - Computed distance_matrix.shape = (400, 400) with max_distance = 16.980\n",
      "2025-05-20 14:27:12,255 - src.utils.model_loading - INFO - Loaded pi_net from models/pi_net/original.pth to device: cuda:1\n",
      "2025-05-20 14:27:14,199 - src.utils.tda - INFO - Performing TDA with embed_dim = 0, delay = 1, and X.shape = (400, 128, 144, 144) (4.247GB)\n",
      "2025-05-20 14:27:14,199 - src.utils.tda - INFO - Flattened X.shape = (400, 2654208)\n",
      "2025-05-20 14:27:16,657 - src.utils.tda - INFO - Reduced X.shape = (400, 400) (0.001GB)\n",
      "2025-05-20 14:27:16,724 - src.utils.tda - INFO - Computed distance_matrix.shape = (400, 400) with max_distance = 0.002\n",
      "2025-05-20 14:27:16,929 - src.utils.model_loading - INFO - Loaded model: it_net from models/it_net/2025-03-27_16:16:36/best.pth to device: cuda:1\n",
      "2025-05-20 14:27:27,844 - src.utils.tda - INFO - Performing TDA with embed_dim = 0, delay = 1, and X.shape = (400, 128, 144, 144) (4.247GB)\n",
      "2025-05-20 14:27:29,634 - src.utils.tda - INFO - Flattened X.shape = (400, 2654208)\n",
      "2025-05-20 14:27:32,114 - src.utils.tda - INFO - Reduced X.shape = (400, 400) (0.001GB)\n",
      "2025-05-20 14:27:32,181 - src.utils.tda - INFO - Computed distance_matrix.shape = (400, 400) with max_distance = 0.028\n",
      "2025-05-20 14:27:32,435 - src.utils.tda - INFO - TDA results saved to outputs/tda/2025-05-20_14-26-53/results.csv\n"
     ]
    },
    {
     "name": "stdout",
     "output_type": "stream",
     "text": [
      "                                   model_name  train_percolation  \\\n",
      "0                  models/dt_net/original.pth                NaN   \n",
      "1  models/dt_net/2025-04-17_13:30:06/best.pth                0.0   \n",
      "2                  models/pi_net/original.pth                NaN   \n",
      "3  models/it_net/2025-03-27_16:16:36/best.pth                0.0   \n",
      "\n",
      "   test_maze_size  test_percolation  maze_index  max_distance  \\\n",
      "0              69               0.0           0      8.616173   \n",
      "1              69               0.0           0     16.979915   \n",
      "2              69               0.0           0      0.001614   \n",
      "3              69               0.0           0      0.027956   \n",
      "\n",
      "                                             diagram     time_s  \\\n",
      "0  [[[0.0, 0.11600019037723541], [0.0, 0.11697738...   9.369073   \n",
      "1  [[[0.0, 0.10091771930456161], [0.0, 0.10124156...   9.116402   \n",
      "2  [[[0.0, 1.0186340659856796e-10], [0.0, 1.01863...   4.635718   \n",
      "3  [[[0.0, 1.1641532182693481e-10], [0.0, 1.16415...  15.401739   \n",
      "\n",
      "   matches_solution  is_valid  is_minimal  \n",
      "0              True      True        True  \n",
      "1              True      True        True  \n",
      "2             False     False       False  \n",
      "3             False     False       False  \n"
     ]
    }
   ],
   "source": [
    "# Perform TDA\n",
    "\n",
    "import os\n",
    "import sys\n",
    "os.chdir(os.path.dirname(os.getcwd())) # Set root folder to project root\n",
    "sys.path.append(os.getcwd()) # Add root folder to path\n",
    "from src.utils.config import TDAParameters\n",
    "from src.utils.tda import tda, add_betti_column, make_betti_table\n",
    "from IPython.display import HTML\n",
    "\n",
    "\n",
    "params = TDAParameters()\n",
    "params.model_name = [\n",
    "    'models/dt_net/original.pth',\n",
    "    'models/dt_net/2025-04-17_13:30:06/best.pth',  # trained on percolation 0.0\n",
    "    'models/pi_net/original.pth',\n",
    "    'models/it_net/2025-03-27_16:16:36/best.pth',  # trained on percolation 0.0\n",
    "]\n",
    "params.num_mazes = 100\n",
    "params.maze_size = [9, 19, 29, 39, 49, 59, 69]\n",
    "params.iters = list(range(3001,3401))\n",
    "params.percolation = [0.0]\n",
    "\n",
    "# Perform TDA\n",
    "df = tda(params=params)\n",
    "\n",
    "# Analyze TDA results\n",
    "print(df.head(10))"
   ]
  },
  {
   "cell_type": "code",
   "execution_count": 2,
   "id": "1984b84a",
   "metadata": {},
   "outputs": [
    {
     "data": {
      "text/html": [
       "<table border=\"1\" class=\"dataframe\">\n",
       "  <thead>\n",
       "    <tr style=\"text-align: right;\">\n",
       "      <th>test_maze_size</th>\n",
       "      <th>69</th>\n",
       "    </tr>\n",
       "    <tr>\n",
       "      <th>model_name</th>\n",
       "      <th></th>\n",
       "    </tr>\n",
       "  </thead>\n",
       "  <tbody>\n",
       "    <tr>\n",
       "      <th>models/dt_net/2025-04-17_13:30:06/best.pth</th>\n",
       "      <td>[2,0]-1<br>Other-0</td>\n",
       "    </tr>\n",
       "    <tr>\n",
       "      <th>models/dt_net/original.pth</th>\n",
       "      <td>[2,0]-1<br>Other-0</td>\n",
       "    </tr>\n",
       "    <tr>\n",
       "      <th>models/it_net/2025-03-27_16:16:36/best.pth</th>\n",
       "      <td>[2,0]-1<br>Other-0</td>\n",
       "    </tr>\n",
       "    <tr>\n",
       "      <th>models/pi_net/original.pth</th>\n",
       "      <td>[2,0]-1<br>Other-0</td>\n",
       "    </tr>\n",
       "  </tbody>\n",
       "</table>"
      ],
      "text/plain": [
       "<IPython.core.display.HTML object>"
      ]
     },
     "metadata": {},
     "output_type": "display_data"
    }
   ],
   "source": [
    "df = add_betti_column(df=df, threshold=0.5)\n",
    "tbl = make_betti_table(df)\n",
    "display( HTML(tbl.to_html(escape=False)) )"
   ]
  }
 ],
 "metadata": {
  "kernelspec": {
   "display_name": ".venv",
   "language": "python",
   "name": "python3"
  },
  "language_info": {
   "codemirror_mode": {
    "name": "ipython",
    "version": 3
   },
   "file_extension": ".py",
   "mimetype": "text/x-python",
   "name": "python",
   "nbconvert_exporter": "python",
   "pygments_lexer": "ipython3",
   "version": "3.10.16"
  }
 },
 "nbformat": 4,
 "nbformat_minor": 5
}
