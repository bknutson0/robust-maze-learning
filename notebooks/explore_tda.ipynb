{
 "cells": [
  {
   "cell_type": "code",
   "execution_count": 1,
   "id": "280234c2",
   "metadata": {},
   "outputs": [],
   "source": [
    "# Import necessary dependencies\n",
    "\n",
    "import os\n",
    "import sys\n",
    "import pandas as pd\n",
    "os.chdir(os.path.dirname(os.getcwd())) # Set root folder to project root\n",
    "sys.path.append(os.getcwd()) # Add root folder to path\n",
    "from src.utils.config import TDAParameters\n",
    "from src.utils.tda import (\n",
    "    tda,\n",
    "    get_diagram,\n",
    "    get_max_finite_death,\n",
    "    plot_diagram,\n",
    "    get_betti_nums,\n",
    "    add_betti_column,\n",
    "    make_betti_table,\n",
    "    sample_circle,\n",
    "    sample_square,\n",
    "    sample_sphere,\n",
    "    sample_torus\n",
    ")\n",
    "import torch\n",
    "import numpy as np\n",
    "from IPython.display import HTML\n",
    "\n",
    "# For plotting in Jupyter Notebook\n",
    "%matplotlib notebook\n",
    "import plotly.express as px"
   ]
  },
  {
   "cell_type": "code",
   "execution_count": 2,
   "id": "4c267222",
   "metadata": {},
   "outputs": [],
   "source": [
    "# #Perform TDA\n",
    "# params = TDAParameters()\n",
    "# params.model_name = [\n",
    "#     'models/dt_net/original.pth',\n",
    "#     'models/dt_net/2025-04-17_13:30:06/best.pth',  # trained on percolation 0.0\n",
    "#     'models/pi_net/original.pth',\n",
    "#     'models/it_net/2025-03-27_16:16:36/best.pth',  # trained on percolation 0.0\n",
    "# ]\n",
    "# params.num_mazes = 100\n",
    "# params.maze_size = [9, 19, 29, 39, 49, 59, 69]\n",
    "# params.iters = list(range(3001,3401))\n",
    "# params.percolation = [0.0]\n",
    "\n",
    "# df = tda(params=params)"
   ]
  },
  {
   "cell_type": "code",
   "execution_count": 3,
   "id": "f9a7c6b0",
   "metadata": {},
   "outputs": [
    {
     "name": "stdout",
     "output_type": "stream",
     "text": [
      "df.columns = Index(['model_name', 'train_percolation', 'test_maze_size', 'test_percolation',\n",
      "       'maze_index', 'max_distance', 'diagram', 'time_s', 'matches_solution',\n",
      "       'is_valid', 'is_minimal'],\n",
      "      dtype='object')\n",
      "model_name: ['models/dt_net/original.pth' 'models/dt_net/2025-04-17_13:30:06/best.pth'\n",
      " 'models/pi_net/original.pth' 'models/it_net/2025-03-27_16:16:36/best.pth']\n",
      "test_maze_size: [ 9 19 29 39 49 59 69]\n"
     ]
    }
   ],
   "source": [
    "# Load dataframe\n",
    "df = pd.read_pickle('outputs/tda/2025-05-20_19-49-32/results.pkl')\n",
    "print(f'{df.columns = }')\n",
    "for col in ['model_name', 'test_maze_size']:\n",
    "    print(f'{col}: {df[col].unique()}')"
   ]
  },
  {
   "cell_type": "code",
   "execution_count": 4,
   "id": "97c69efc",
   "metadata": {},
   "outputs": [
    {
     "name": "stdout",
     "output_type": "stream",
     "text": [
      "TDA performed in 3.39 hours\n"
     ]
    }
   ],
   "source": [
    "print(f'TDA performed in {df[\"time_s\"].sum() / 3600:.2f} hours')"
   ]
  },
  {
   "cell_type": "code",
   "execution_count": 12,
   "id": "1984b84a",
   "metadata": {},
   "outputs": [
    {
     "data": {
      "text/html": [
       "<table border=\"1\" class=\"dataframe\">\n",
       "  <thead>\n",
       "    <tr style=\"text-align: right;\">\n",
       "      <th>test_maze_size</th>\n",
       "      <th>9</th>\n",
       "      <th>19</th>\n",
       "      <th>29</th>\n",
       "      <th>39</th>\n",
       "      <th>49</th>\n",
       "      <th>59</th>\n",
       "      <th>69</th>\n",
       "    </tr>\n",
       "    <tr>\n",
       "      <th>model_name</th>\n",
       "      <th></th>\n",
       "      <th></th>\n",
       "      <th></th>\n",
       "      <th></th>\n",
       "      <th></th>\n",
       "      <th></th>\n",
       "      <th></th>\n",
       "    </tr>\n",
       "  </thead>\n",
       "  <tbody>\n",
       "    <tr>\n",
       "      <th>models/dt_net/2025-04-17_13:30:06/best.pth</th>\n",
       "      <td>[400,0]-61<br>[2,0]-36<br>[57,0]-1<br>Other-2</td>\n",
       "      <td>[2,0]-66<br>[400,0]-31<br>[1,1]-2<br>Other-1</td>\n",
       "      <td>[2,0]-73<br>[400,0]-24<br>[1,1]-3<br>Other-0</td>\n",
       "      <td>[2,0]-86<br>[400,0]-11<br>[1,1]-2<br>Other-1</td>\n",
       "      <td>[2,0]-94<br>[400,0]-3<br>[2,2]-1<br>Other-2</td>\n",
       "      <td>[2,0]-97<br>[1,1]-1<br>[136,0]-1<br>Other-1</td>\n",
       "      <td>[2,0]-97<br>[31,0]-1<br>[396,0]-1<br>Other-1</td>\n",
       "    </tr>\n",
       "    <tr>\n",
       "      <th>models/dt_net/original.pth</th>\n",
       "      <td>[2,0]-79<br>[400,0]-15<br>[1,1]-6<br>Other-0</td>\n",
       "      <td>[2,0]-88<br>[1,1]-6<br>[2,2]-5<br>Other-1</td>\n",
       "      <td>[2,0]-95<br>[2,2]-5<br>Other-0</td>\n",
       "      <td>[2,0]-100<br>Other-0</td>\n",
       "      <td>[2,0]-98<br>[2,2]-2<br>Other-0</td>\n",
       "      <td>[2,0]-98<br>[2,2]-2<br>Other-0</td>\n",
       "      <td>[2,0]-98<br>[2,2]-2<br>Other-0</td>\n",
       "    </tr>\n",
       "    <tr>\n",
       "      <th>models/it_net/2025-03-27_16:16:36/best.pth</th>\n",
       "      <td>[2,0]-28<br>[3,0]-24<br>[5,0]-15<br>Other-33</td>\n",
       "      <td>[3,0]-26<br>[2,0]-18<br>[4,0]-14<br>Other-42</td>\n",
       "      <td>[2,0]-40<br>[3,0]-24<br>[4,0]-18<br>Other-18</td>\n",
       "      <td>[2,0]-58<br>[3,0]-26<br>[4,0]-8<br>Other-8</td>\n",
       "      <td>[2,0]-82<br>[3,0]-16<br>[4,0]-2<br>Other-0</td>\n",
       "      <td>[2,0]-96<br>[3,0]-4<br>Other-0</td>\n",
       "      <td>[2,0]-100<br>Other-0</td>\n",
       "    </tr>\n",
       "    <tr>\n",
       "      <th>models/pi_net/original.pth</th>\n",
       "      <td>[2,0]-24<br>[3,0]-19<br>[4,0]-13<br>Other-44</td>\n",
       "      <td>[2,0]-48<br>[3,0]-23<br>[4,0]-9<br>Other-20</td>\n",
       "      <td>[2,0]-80<br>[3,0]-14<br>[4,0]-4<br>Other-2</td>\n",
       "      <td>[2,0]-92<br>[3,0]-6<br>[4,0]-1<br>Other-1</td>\n",
       "      <td>[2,0]-97<br>[3,0]-2<br>[4,0]-1<br>Other-0</td>\n",
       "      <td>[2,0]-97<br>[3,0]-3<br>Other-0</td>\n",
       "      <td>[2,0]-99<br>[3,0]-1<br>Other-0</td>\n",
       "    </tr>\n",
       "  </tbody>\n",
       "</table>"
      ],
      "text/plain": [
       "<IPython.core.display.HTML object>"
      ]
     },
     "metadata": {},
     "output_type": "display_data"
    }
   ],
   "source": [
    "df = add_betti_column(df=df, threshold=0.5)\n",
    "tbl = make_betti_table(df)\n",
    "display( HTML(tbl.to_html(escape=False)) )"
   ]
  },
  {
   "cell_type": "code",
   "execution_count": 13,
   "id": "34c27714",
   "metadata": {},
   "outputs": [
    {
     "name": "stdout",
     "output_type": "stream",
     "text": [
      "Betti nums: [2 0]\n"
     ]
    },
    {
     "data": {
      "application/javascript": "/* Put everything inside the global mpl namespace */\n/* global mpl */\nwindow.mpl = {};\n\nmpl.get_websocket_type = function () {\n    if (typeof WebSocket !== 'undefined') {\n        return WebSocket;\n    } else if (typeof MozWebSocket !== 'undefined') {\n        return MozWebSocket;\n    } else {\n        alert(\n            'Your browser does not have WebSocket support. ' +\n                'Please try Chrome, Safari or Firefox ≥ 6. ' +\n                'Firefox 4 and 5 are also supported but you ' +\n                'have to enable WebSockets in about:config.'\n        );\n    }\n};\n\nmpl.figure = function (figure_id, websocket, ondownload, parent_element) {\n    this.id = figure_id;\n\n    this.ws = websocket;\n\n    this.supports_binary = this.ws.binaryType !== undefined;\n\n    if (!this.supports_binary) {\n        var warnings = document.getElementById('mpl-warnings');\n        if (warnings) {\n            warnings.style.display = 'block';\n            warnings.textContent =\n                'This browser does not support binary websocket messages. ' +\n                'Performance may be slow.';\n        }\n    }\n\n    this.imageObj = new Image();\n\n    this.context = undefined;\n    this.message = undefined;\n    this.canvas = undefined;\n    this.rubberband_canvas = undefined;\n    this.rubberband_context = undefined;\n    this.format_dropdown = undefined;\n\n    this.image_mode = 'full';\n\n    this.root = document.createElement('div');\n    this.root.setAttribute('style', 'display: inline-block');\n    this._root_extra_style(this.root);\n\n    parent_element.appendChild(this.root);\n\n    this._init_header(this);\n    this._init_canvas(this);\n    this._init_toolbar(this);\n\n    var fig = this;\n\n    this.waiting = false;\n\n    this.ws.onopen = function () {\n        fig.send_message('supports_binary', { value: fig.supports_binary });\n        fig.send_message('send_image_mode', {});\n        if (fig.ratio !== 1) {\n            fig.send_message('set_device_pixel_ratio', {\n                device_pixel_ratio: fig.ratio,\n            });\n        }\n        fig.send_message('refresh', {});\n    };\n\n    this.imageObj.onload = function () {\n        if (fig.image_mode === 'full') {\n            // Full images could contain transparency (where diff images\n            // almost always do), so we need to clear the canvas so that\n            // there is no ghosting.\n            fig.context.clearRect(0, 0, fig.canvas.width, fig.canvas.height);\n        }\n        fig.context.drawImage(fig.imageObj, 0, 0);\n    };\n\n    this.imageObj.onunload = function () {\n        fig.ws.close();\n    };\n\n    this.ws.onmessage = this._make_on_message_function(this);\n\n    this.ondownload = ondownload;\n};\n\nmpl.figure.prototype._init_header = function () {\n    var titlebar = document.createElement('div');\n    titlebar.classList =\n        'ui-dialog-titlebar ui-widget-header ui-corner-all ui-helper-clearfix';\n    var titletext = document.createElement('div');\n    titletext.classList = 'ui-dialog-title';\n    titletext.setAttribute(\n        'style',\n        'width: 100%; text-align: center; padding: 3px;'\n    );\n    titlebar.appendChild(titletext);\n    this.root.appendChild(titlebar);\n    this.header = titletext;\n};\n\nmpl.figure.prototype._canvas_extra_style = function (_canvas_div) {};\n\nmpl.figure.prototype._root_extra_style = function (_canvas_div) {};\n\nmpl.figure.prototype._init_canvas = function () {\n    var fig = this;\n\n    var canvas_div = (this.canvas_div = document.createElement('div'));\n    canvas_div.setAttribute('tabindex', '0');\n    canvas_div.setAttribute(\n        'style',\n        'border: 1px solid #ddd;' +\n            'box-sizing: content-box;' +\n            'clear: both;' +\n            'min-height: 1px;' +\n            'min-width: 1px;' +\n            'outline: 0;' +\n            'overflow: hidden;' +\n            'position: relative;' +\n            'resize: both;' +\n            'z-index: 2;'\n    );\n\n    function on_keyboard_event_closure(name) {\n        return function (event) {\n            return fig.key_event(event, name);\n        };\n    }\n\n    canvas_div.addEventListener(\n        'keydown',\n        on_keyboard_event_closure('key_press')\n    );\n    canvas_div.addEventListener(\n        'keyup',\n        on_keyboard_event_closure('key_release')\n    );\n\n    this._canvas_extra_style(canvas_div);\n    this.root.appendChild(canvas_div);\n\n    var canvas = (this.canvas = document.createElement('canvas'));\n    canvas.classList.add('mpl-canvas');\n    canvas.setAttribute(\n        'style',\n        'box-sizing: content-box;' +\n            'pointer-events: none;' +\n            'position: relative;' +\n            'z-index: 0;'\n    );\n\n    this.context = canvas.getContext('2d');\n\n    var backingStore =\n        this.context.backingStorePixelRatio ||\n        this.context.webkitBackingStorePixelRatio ||\n        this.context.mozBackingStorePixelRatio ||\n        this.context.msBackingStorePixelRatio ||\n        this.context.oBackingStorePixelRatio ||\n        this.context.backingStorePixelRatio ||\n        1;\n\n    this.ratio = (window.devicePixelRatio || 1) / backingStore;\n\n    var rubberband_canvas = (this.rubberband_canvas = document.createElement(\n        'canvas'\n    ));\n    rubberband_canvas.setAttribute(\n        'style',\n        'box-sizing: content-box;' +\n            'left: 0;' +\n            'pointer-events: none;' +\n            'position: absolute;' +\n            'top: 0;' +\n            'z-index: 1;'\n    );\n\n    // Apply a ponyfill if ResizeObserver is not implemented by browser.\n    if (this.ResizeObserver === undefined) {\n        if (window.ResizeObserver !== undefined) {\n            this.ResizeObserver = window.ResizeObserver;\n        } else {\n            var obs = _JSXTOOLS_RESIZE_OBSERVER({});\n            this.ResizeObserver = obs.ResizeObserver;\n        }\n    }\n\n    this.resizeObserverInstance = new this.ResizeObserver(function (entries) {\n        // There's no need to resize if the WebSocket is not connected:\n        // - If it is still connecting, then we will get an initial resize from\n        //   Python once it connects.\n        // - If it has disconnected, then resizing will clear the canvas and\n        //   never get anything back to refill it, so better to not resize and\n        //   keep something visible.\n        if (fig.ws.readyState != 1) {\n            return;\n        }\n        var nentries = entries.length;\n        for (var i = 0; i < nentries; i++) {\n            var entry = entries[i];\n            var width, height;\n            if (entry.contentBoxSize) {\n                if (entry.contentBoxSize instanceof Array) {\n                    // Chrome 84 implements new version of spec.\n                    width = entry.contentBoxSize[0].inlineSize;\n                    height = entry.contentBoxSize[0].blockSize;\n                } else {\n                    // Firefox implements old version of spec.\n                    width = entry.contentBoxSize.inlineSize;\n                    height = entry.contentBoxSize.blockSize;\n                }\n            } else {\n                // Chrome <84 implements even older version of spec.\n                width = entry.contentRect.width;\n                height = entry.contentRect.height;\n            }\n\n            // Keep the size of the canvas and rubber band canvas in sync with\n            // the canvas container.\n            if (entry.devicePixelContentBoxSize) {\n                // Chrome 84 implements new version of spec.\n                canvas.setAttribute(\n                    'width',\n                    entry.devicePixelContentBoxSize[0].inlineSize\n                );\n                canvas.setAttribute(\n                    'height',\n                    entry.devicePixelContentBoxSize[0].blockSize\n                );\n            } else {\n                canvas.setAttribute('width', width * fig.ratio);\n                canvas.setAttribute('height', height * fig.ratio);\n            }\n            /* This rescales the canvas back to display pixels, so that it\n             * appears correct on HiDPI screens. */\n            canvas.style.width = width + 'px';\n            canvas.style.height = height + 'px';\n\n            rubberband_canvas.setAttribute('width', width);\n            rubberband_canvas.setAttribute('height', height);\n\n            // And update the size in Python. We ignore the initial 0/0 size\n            // that occurs as the element is placed into the DOM, which should\n            // otherwise not happen due to the minimum size styling.\n            if (width != 0 && height != 0) {\n                fig.request_resize(width, height);\n            }\n        }\n    });\n    this.resizeObserverInstance.observe(canvas_div);\n\n    function on_mouse_event_closure(name) {\n        /* User Agent sniffing is bad, but WebKit is busted:\n         * https://bugs.webkit.org/show_bug.cgi?id=144526\n         * https://bugs.webkit.org/show_bug.cgi?id=181818\n         * The worst that happens here is that they get an extra browser\n         * selection when dragging, if this check fails to catch them.\n         */\n        var UA = navigator.userAgent;\n        var isWebKit = /AppleWebKit/.test(UA) && !/Chrome/.test(UA);\n        if(isWebKit) {\n            return function (event) {\n                /* This prevents the web browser from automatically changing to\n                 * the text insertion cursor when the button is pressed. We\n                 * want to control all of the cursor setting manually through\n                 * the 'cursor' event from matplotlib */\n                event.preventDefault()\n                return fig.mouse_event(event, name);\n            };\n        } else {\n            return function (event) {\n                return fig.mouse_event(event, name);\n            };\n        }\n    }\n\n    canvas_div.addEventListener(\n        'mousedown',\n        on_mouse_event_closure('button_press')\n    );\n    canvas_div.addEventListener(\n        'mouseup',\n        on_mouse_event_closure('button_release')\n    );\n    canvas_div.addEventListener(\n        'dblclick',\n        on_mouse_event_closure('dblclick')\n    );\n    // Throttle sequential mouse events to 1 every 20ms.\n    canvas_div.addEventListener(\n        'mousemove',\n        on_mouse_event_closure('motion_notify')\n    );\n\n    canvas_div.addEventListener(\n        'mouseenter',\n        on_mouse_event_closure('figure_enter')\n    );\n    canvas_div.addEventListener(\n        'mouseleave',\n        on_mouse_event_closure('figure_leave')\n    );\n\n    canvas_div.addEventListener('wheel', function (event) {\n        if (event.deltaY < 0) {\n            event.step = 1;\n        } else {\n            event.step = -1;\n        }\n        on_mouse_event_closure('scroll')(event);\n    });\n\n    canvas_div.appendChild(canvas);\n    canvas_div.appendChild(rubberband_canvas);\n\n    this.rubberband_context = rubberband_canvas.getContext('2d');\n    this.rubberband_context.strokeStyle = '#000000';\n\n    this._resize_canvas = function (width, height, forward) {\n        if (forward) {\n            canvas_div.style.width = width + 'px';\n            canvas_div.style.height = height + 'px';\n        }\n    };\n\n    // Disable right mouse context menu.\n    canvas_div.addEventListener('contextmenu', function (_e) {\n        event.preventDefault();\n        return false;\n    });\n\n    function set_focus() {\n        canvas.focus();\n        canvas_div.focus();\n    }\n\n    window.setTimeout(set_focus, 100);\n};\n\nmpl.figure.prototype._init_toolbar = function () {\n    var fig = this;\n\n    var toolbar = document.createElement('div');\n    toolbar.classList = 'mpl-toolbar';\n    this.root.appendChild(toolbar);\n\n    function on_click_closure(name) {\n        return function (_event) {\n            return fig.toolbar_button_onclick(name);\n        };\n    }\n\n    function on_mouseover_closure(tooltip) {\n        return function (event) {\n            if (!event.currentTarget.disabled) {\n                return fig.toolbar_button_onmouseover(tooltip);\n            }\n        };\n    }\n\n    fig.buttons = {};\n    var buttonGroup = document.createElement('div');\n    buttonGroup.classList = 'mpl-button-group';\n    for (var toolbar_ind in mpl.toolbar_items) {\n        var name = mpl.toolbar_items[toolbar_ind][0];\n        var tooltip = mpl.toolbar_items[toolbar_ind][1];\n        var image = mpl.toolbar_items[toolbar_ind][2];\n        var method_name = mpl.toolbar_items[toolbar_ind][3];\n\n        if (!name) {\n            /* Instead of a spacer, we start a new button group. */\n            if (buttonGroup.hasChildNodes()) {\n                toolbar.appendChild(buttonGroup);\n            }\n            buttonGroup = document.createElement('div');\n            buttonGroup.classList = 'mpl-button-group';\n            continue;\n        }\n\n        var button = (fig.buttons[name] = document.createElement('button'));\n        button.classList = 'mpl-widget';\n        button.setAttribute('role', 'button');\n        button.setAttribute('aria-disabled', 'false');\n        button.addEventListener('click', on_click_closure(method_name));\n        button.addEventListener('mouseover', on_mouseover_closure(tooltip));\n\n        var icon_img = document.createElement('img');\n        icon_img.src = '_images/' + image + '.png';\n        icon_img.srcset = '_images/' + image + '_large.png 2x';\n        icon_img.alt = tooltip;\n        button.appendChild(icon_img);\n\n        buttonGroup.appendChild(button);\n    }\n\n    if (buttonGroup.hasChildNodes()) {\n        toolbar.appendChild(buttonGroup);\n    }\n\n    var fmt_picker = document.createElement('select');\n    fmt_picker.classList = 'mpl-widget';\n    toolbar.appendChild(fmt_picker);\n    this.format_dropdown = fmt_picker;\n\n    for (var ind in mpl.extensions) {\n        var fmt = mpl.extensions[ind];\n        var option = document.createElement('option');\n        option.selected = fmt === mpl.default_extension;\n        option.innerHTML = fmt;\n        fmt_picker.appendChild(option);\n    }\n\n    var status_bar = document.createElement('span');\n    status_bar.classList = 'mpl-message';\n    toolbar.appendChild(status_bar);\n    this.message = status_bar;\n};\n\nmpl.figure.prototype.request_resize = function (x_pixels, y_pixels) {\n    // Request matplotlib to resize the figure. Matplotlib will then trigger a resize in the client,\n    // which will in turn request a refresh of the image.\n    this.send_message('resize', { width: x_pixels, height: y_pixels });\n};\n\nmpl.figure.prototype.send_message = function (type, properties) {\n    properties['type'] = type;\n    properties['figure_id'] = this.id;\n    this.ws.send(JSON.stringify(properties));\n};\n\nmpl.figure.prototype.send_draw_message = function () {\n    if (!this.waiting) {\n        this.waiting = true;\n        this.ws.send(JSON.stringify({ type: 'draw', figure_id: this.id }));\n    }\n};\n\nmpl.figure.prototype.handle_save = function (fig, _msg) {\n    var format_dropdown = fig.format_dropdown;\n    var format = format_dropdown.options[format_dropdown.selectedIndex].value;\n    fig.ondownload(fig, format);\n};\n\nmpl.figure.prototype.handle_resize = function (fig, msg) {\n    var size = msg['size'];\n    if (size[0] !== fig.canvas.width || size[1] !== fig.canvas.height) {\n        fig._resize_canvas(size[0], size[1], msg['forward']);\n        fig.send_message('refresh', {});\n    }\n};\n\nmpl.figure.prototype.handle_rubberband = function (fig, msg) {\n    var x0 = msg['x0'] / fig.ratio;\n    var y0 = (fig.canvas.height - msg['y0']) / fig.ratio;\n    var x1 = msg['x1'] / fig.ratio;\n    var y1 = (fig.canvas.height - msg['y1']) / fig.ratio;\n    x0 = Math.floor(x0) + 0.5;\n    y0 = Math.floor(y0) + 0.5;\n    x1 = Math.floor(x1) + 0.5;\n    y1 = Math.floor(y1) + 0.5;\n    var min_x = Math.min(x0, x1);\n    var min_y = Math.min(y0, y1);\n    var width = Math.abs(x1 - x0);\n    var height = Math.abs(y1 - y0);\n\n    fig.rubberband_context.clearRect(\n        0,\n        0,\n        fig.canvas.width / fig.ratio,\n        fig.canvas.height / fig.ratio\n    );\n\n    fig.rubberband_context.strokeRect(min_x, min_y, width, height);\n};\n\nmpl.figure.prototype.handle_figure_label = function (fig, msg) {\n    // Updates the figure title.\n    fig.header.textContent = msg['label'];\n};\n\nmpl.figure.prototype.handle_cursor = function (fig, msg) {\n    fig.canvas_div.style.cursor = msg['cursor'];\n};\n\nmpl.figure.prototype.handle_message = function (fig, msg) {\n    fig.message.textContent = msg['message'];\n};\n\nmpl.figure.prototype.handle_draw = function (fig, _msg) {\n    // Request the server to send over a new figure.\n    fig.send_draw_message();\n};\n\nmpl.figure.prototype.handle_image_mode = function (fig, msg) {\n    fig.image_mode = msg['mode'];\n};\n\nmpl.figure.prototype.handle_history_buttons = function (fig, msg) {\n    for (var key in msg) {\n        if (!(key in fig.buttons)) {\n            continue;\n        }\n        fig.buttons[key].disabled = !msg[key];\n        fig.buttons[key].setAttribute('aria-disabled', !msg[key]);\n    }\n};\n\nmpl.figure.prototype.handle_navigate_mode = function (fig, msg) {\n    if (msg['mode'] === 'PAN') {\n        fig.buttons['Pan'].classList.add('active');\n        fig.buttons['Zoom'].classList.remove('active');\n    } else if (msg['mode'] === 'ZOOM') {\n        fig.buttons['Pan'].classList.remove('active');\n        fig.buttons['Zoom'].classList.add('active');\n    } else {\n        fig.buttons['Pan'].classList.remove('active');\n        fig.buttons['Zoom'].classList.remove('active');\n    }\n};\n\nmpl.figure.prototype.updated_canvas_event = function () {\n    // Called whenever the canvas gets updated.\n    this.send_message('ack', {});\n};\n\n// A function to construct a web socket function for onmessage handling.\n// Called in the figure constructor.\nmpl.figure.prototype._make_on_message_function = function (fig) {\n    return function socket_on_message(evt) {\n        if (evt.data instanceof Blob) {\n            var img = evt.data;\n            if (img.type !== 'image/png') {\n                /* FIXME: We get \"Resource interpreted as Image but\n                 * transferred with MIME type text/plain:\" errors on\n                 * Chrome.  But how to set the MIME type?  It doesn't seem\n                 * to be part of the websocket stream */\n                img.type = 'image/png';\n            }\n\n            /* Free the memory for the previous frames */\n            if (fig.imageObj.src) {\n                (window.URL || window.webkitURL).revokeObjectURL(\n                    fig.imageObj.src\n                );\n            }\n\n            fig.imageObj.src = (window.URL || window.webkitURL).createObjectURL(\n                img\n            );\n            fig.updated_canvas_event();\n            fig.waiting = false;\n            return;\n        } else if (\n            typeof evt.data === 'string' &&\n            evt.data.slice(0, 21) === 'data:image/png;base64'\n        ) {\n            fig.imageObj.src = evt.data;\n            fig.updated_canvas_event();\n            fig.waiting = false;\n            return;\n        }\n\n        var msg = JSON.parse(evt.data);\n        var msg_type = msg['type'];\n\n        // Call the  \"handle_{type}\" callback, which takes\n        // the figure and JSON message as its only arguments.\n        try {\n            var callback = fig['handle_' + msg_type];\n        } catch (e) {\n            console.log(\n                \"No handler for the '\" + msg_type + \"' message type: \",\n                msg\n            );\n            return;\n        }\n\n        if (callback) {\n            try {\n                // console.log(\"Handling '\" + msg_type + \"' message: \", msg);\n                callback(fig, msg);\n            } catch (e) {\n                console.log(\n                    \"Exception inside the 'handler_\" + msg_type + \"' callback:\",\n                    e,\n                    e.stack,\n                    msg\n                );\n            }\n        }\n    };\n};\n\nfunction getModifiers(event) {\n    var mods = [];\n    if (event.ctrlKey) {\n        mods.push('ctrl');\n    }\n    if (event.altKey) {\n        mods.push('alt');\n    }\n    if (event.shiftKey) {\n        mods.push('shift');\n    }\n    if (event.metaKey) {\n        mods.push('meta');\n    }\n    return mods;\n}\n\n/*\n * return a copy of an object with only non-object keys\n * we need this to avoid circular references\n * https://stackoverflow.com/a/24161582/3208463\n */\nfunction simpleKeys(original) {\n    return Object.keys(original).reduce(function (obj, key) {\n        if (typeof original[key] !== 'object') {\n            obj[key] = original[key];\n        }\n        return obj;\n    }, {});\n}\n\nmpl.figure.prototype.mouse_event = function (event, name) {\n    if (name === 'button_press') {\n        this.canvas.focus();\n        this.canvas_div.focus();\n    }\n\n    // from https://stackoverflow.com/q/1114465\n    var boundingRect = this.canvas.getBoundingClientRect();\n    var x = (event.clientX - boundingRect.left) * this.ratio;\n    var y = (event.clientY - boundingRect.top) * this.ratio;\n\n    this.send_message(name, {\n        x: x,\n        y: y,\n        button: event.button,\n        step: event.step,\n        buttons: event.buttons,\n        modifiers: getModifiers(event),\n        guiEvent: simpleKeys(event),\n    });\n\n    return false;\n};\n\nmpl.figure.prototype._key_event_extra = function (_event, _name) {\n    // Handle any extra behaviour associated with a key event\n};\n\nmpl.figure.prototype.key_event = function (event, name) {\n    // Prevent repeat events\n    if (name === 'key_press') {\n        if (event.key === this._key) {\n            return;\n        } else {\n            this._key = event.key;\n        }\n    }\n    if (name === 'key_release') {\n        this._key = null;\n    }\n\n    var value = '';\n    if (event.ctrlKey && event.key !== 'Control') {\n        value += 'ctrl+';\n    }\n    else if (event.altKey && event.key !== 'Alt') {\n        value += 'alt+';\n    }\n    else if (event.shiftKey && event.key !== 'Shift') {\n        value += 'shift+';\n    }\n\n    value += 'k' + event.key;\n\n    this._key_event_extra(event, name);\n\n    this.send_message(name, { key: value, guiEvent: simpleKeys(event) });\n    return false;\n};\n\nmpl.figure.prototype.toolbar_button_onclick = function (name) {\n    if (name === 'download') {\n        this.handle_save(this, null);\n    } else {\n        this.send_message('toolbar_button', { name: name });\n    }\n};\n\nmpl.figure.prototype.toolbar_button_onmouseover = function (tooltip) {\n    this.message.textContent = tooltip;\n};\n\n///////////////// REMAINING CONTENT GENERATED BY embed_js.py /////////////////\n// prettier-ignore\nvar _JSXTOOLS_RESIZE_OBSERVER=function(A){var t,i=new WeakMap,n=new WeakMap,a=new WeakMap,r=new WeakMap,o=new Set;function s(e){if(!(this instanceof s))throw new TypeError(\"Constructor requires 'new' operator\");i.set(this,e)}function h(){throw new TypeError(\"Function is not a constructor\")}function c(e,t,i,n){e=0 in arguments?Number(arguments[0]):0,t=1 in arguments?Number(arguments[1]):0,i=2 in arguments?Number(arguments[2]):0,n=3 in arguments?Number(arguments[3]):0,this.right=(this.x=this.left=e)+(this.width=i),this.bottom=(this.y=this.top=t)+(this.height=n),Object.freeze(this)}function d(){t=requestAnimationFrame(d);var s=new WeakMap,p=new Set;o.forEach((function(t){r.get(t).forEach((function(i){var r=t instanceof window.SVGElement,o=a.get(t),d=r?0:parseFloat(o.paddingTop),f=r?0:parseFloat(o.paddingRight),l=r?0:parseFloat(o.paddingBottom),u=r?0:parseFloat(o.paddingLeft),g=r?0:parseFloat(o.borderTopWidth),m=r?0:parseFloat(o.borderRightWidth),w=r?0:parseFloat(o.borderBottomWidth),b=u+f,F=d+l,v=(r?0:parseFloat(o.borderLeftWidth))+m,W=g+w,y=r?0:t.offsetHeight-W-t.clientHeight,E=r?0:t.offsetWidth-v-t.clientWidth,R=b+v,z=F+W,M=r?t.width:parseFloat(o.width)-R-E,O=r?t.height:parseFloat(o.height)-z-y;if(n.has(t)){var k=n.get(t);if(k[0]===M&&k[1]===O)return}n.set(t,[M,O]);var S=Object.create(h.prototype);S.target=t,S.contentRect=new c(u,d,M,O),s.has(i)||(s.set(i,[]),p.add(i)),s.get(i).push(S)}))})),p.forEach((function(e){i.get(e).call(e,s.get(e),e)}))}return s.prototype.observe=function(i){if(i instanceof window.Element){r.has(i)||(r.set(i,new Set),o.add(i),a.set(i,window.getComputedStyle(i)));var n=r.get(i);n.has(this)||n.add(this),cancelAnimationFrame(t),t=requestAnimationFrame(d)}},s.prototype.unobserve=function(i){if(i instanceof window.Element&&r.has(i)){var n=r.get(i);n.has(this)&&(n.delete(this),n.size||(r.delete(i),o.delete(i))),n.size||r.delete(i),o.size||cancelAnimationFrame(t)}},A.DOMRectReadOnly=c,A.ResizeObserver=s,A.ResizeObserverEntry=h,A}; // eslint-disable-line\nmpl.toolbar_items = [[\"Home\", \"Reset original view\", \"fa fa-home\", \"home\"], [\"Back\", \"Back to previous view\", \"fa fa-arrow-left\", \"back\"], [\"Forward\", \"Forward to next view\", \"fa fa-arrow-right\", \"forward\"], [\"\", \"\", \"\", \"\"], [\"Pan\", \"Left button pans, Right button zooms\\nx/y fixes axis, CTRL fixes aspect\", \"fa fa-arrows\", \"pan\"], [\"Zoom\", \"Zoom to rectangle\\nx/y fixes axis\", \"fa fa-square-o\", \"zoom\"], [\"\", \"\", \"\", \"\"], [\"Download\", \"Download plot\", \"fa fa-floppy-o\", \"download\"]];\n\nmpl.extensions = [\"eps\", \"jpeg\", \"pgf\", \"pdf\", \"png\", \"ps\", \"raw\", \"svg\", \"tif\", \"webp\"];\n\nmpl.default_extension = \"png\";/* global mpl */\n\nvar comm_websocket_adapter = function (comm) {\n    // Create a \"websocket\"-like object which calls the given IPython comm\n    // object with the appropriate methods. Currently this is a non binary\n    // socket, so there is still some room for performance tuning.\n    var ws = {};\n\n    ws.binaryType = comm.kernel.ws.binaryType;\n    ws.readyState = comm.kernel.ws.readyState;\n    function updateReadyState(_event) {\n        if (comm.kernel.ws) {\n            ws.readyState = comm.kernel.ws.readyState;\n        } else {\n            ws.readyState = 3; // Closed state.\n        }\n    }\n    comm.kernel.ws.addEventListener('open', updateReadyState);\n    comm.kernel.ws.addEventListener('close', updateReadyState);\n    comm.kernel.ws.addEventListener('error', updateReadyState);\n\n    ws.close = function () {\n        comm.close();\n    };\n    ws.send = function (m) {\n        //console.log('sending', m);\n        comm.send(m);\n    };\n    // Register the callback with on_msg.\n    comm.on_msg(function (msg) {\n        //console.log('receiving', msg['content']['data'], msg);\n        var data = msg['content']['data'];\n        if (data['blob'] !== undefined) {\n            data = {\n                data: new Blob(msg['buffers'], { type: data['blob'] }),\n            };\n        }\n        // Pass the mpl event to the overridden (by mpl) onmessage function.\n        ws.onmessage(data);\n    });\n    return ws;\n};\n\nmpl.mpl_figure_comm = function (comm, msg) {\n    // This is the function which gets called when the mpl process\n    // starts-up an IPython Comm through the \"matplotlib\" channel.\n\n    var id = msg.content.data.id;\n    // Get hold of the div created by the display call when the Comm\n    // socket was opened in Python.\n    var element = document.getElementById(id);\n    var ws_proxy = comm_websocket_adapter(comm);\n\n    function ondownload(figure, _format) {\n        window.open(figure.canvas.toDataURL());\n    }\n\n    var fig = new mpl.figure(id, ws_proxy, ondownload, element);\n\n    // Call onopen now - mpl needs it, as it is assuming we've passed it a real\n    // web socket which is closed, not our websocket->open comm proxy.\n    ws_proxy.onopen();\n\n    fig.parent_element = element;\n    fig.cell_info = mpl.find_output_cell(\"<div id='\" + id + \"'></div>\");\n    if (!fig.cell_info) {\n        console.error('Failed to find cell for figure', id, fig);\n        return;\n    }\n    fig.cell_info[0].output_area.element.on(\n        'cleared',\n        { fig: fig },\n        fig._remove_fig_handler\n    );\n};\n\nmpl.figure.prototype.handle_close = function (fig, msg) {\n    var width = fig.canvas.width / fig.ratio;\n    fig.cell_info[0].output_area.element.off(\n        'cleared',\n        fig._remove_fig_handler\n    );\n    fig.resizeObserverInstance.unobserve(fig.canvas_div);\n\n    // Update the output cell to use the data from the current canvas.\n    fig.push_to_output();\n    var dataURL = fig.canvas.toDataURL();\n    // Re-enable the keyboard manager in IPython - without this line, in FF,\n    // the notebook keyboard shortcuts fail.\n    IPython.keyboard_manager.enable();\n    fig.parent_element.innerHTML =\n        '<img src=\"' + dataURL + '\" width=\"' + width + '\">';\n    fig.close_ws(fig, msg);\n};\n\nmpl.figure.prototype.close_ws = function (fig, msg) {\n    fig.send_message('closing', msg);\n    // fig.ws.close()\n};\n\nmpl.figure.prototype.push_to_output = function (_remove_interactive) {\n    // Turn the data on the canvas into data in the output cell.\n    var width = this.canvas.width / this.ratio;\n    var dataURL = this.canvas.toDataURL();\n    this.cell_info[1]['text/html'] =\n        '<img src=\"' + dataURL + '\" width=\"' + width + '\">';\n};\n\nmpl.figure.prototype.updated_canvas_event = function () {\n    // Tell IPython that the notebook contents must change.\n    IPython.notebook.set_dirty(true);\n    this.send_message('ack', {});\n    var fig = this;\n    // Wait a second, then push the new image to the DOM so\n    // that it is saved nicely (might be nice to debounce this).\n    setTimeout(function () {\n        fig.push_to_output();\n    }, 1000);\n};\n\nmpl.figure.prototype._init_toolbar = function () {\n    var fig = this;\n\n    var toolbar = document.createElement('div');\n    toolbar.classList = 'btn-toolbar';\n    this.root.appendChild(toolbar);\n\n    function on_click_closure(name) {\n        return function (_event) {\n            return fig.toolbar_button_onclick(name);\n        };\n    }\n\n    function on_mouseover_closure(tooltip) {\n        return function (event) {\n            if (!event.currentTarget.disabled) {\n                return fig.toolbar_button_onmouseover(tooltip);\n            }\n        };\n    }\n\n    fig.buttons = {};\n    var buttonGroup = document.createElement('div');\n    buttonGroup.classList = 'btn-group';\n    var button;\n    for (var toolbar_ind in mpl.toolbar_items) {\n        var name = mpl.toolbar_items[toolbar_ind][0];\n        var tooltip = mpl.toolbar_items[toolbar_ind][1];\n        var image = mpl.toolbar_items[toolbar_ind][2];\n        var method_name = mpl.toolbar_items[toolbar_ind][3];\n\n        if (!name) {\n            /* Instead of a spacer, we start a new button group. */\n            if (buttonGroup.hasChildNodes()) {\n                toolbar.appendChild(buttonGroup);\n            }\n            buttonGroup = document.createElement('div');\n            buttonGroup.classList = 'btn-group';\n            continue;\n        }\n\n        button = fig.buttons[name] = document.createElement('button');\n        button.classList = 'btn btn-default';\n        button.href = '#';\n        button.title = name;\n        button.innerHTML = '<i class=\"fa ' + image + ' fa-lg\"></i>';\n        button.addEventListener('click', on_click_closure(method_name));\n        button.addEventListener('mouseover', on_mouseover_closure(tooltip));\n        buttonGroup.appendChild(button);\n    }\n\n    if (buttonGroup.hasChildNodes()) {\n        toolbar.appendChild(buttonGroup);\n    }\n\n    // Add the status bar.\n    var status_bar = document.createElement('span');\n    status_bar.classList = 'mpl-message pull-right';\n    toolbar.appendChild(status_bar);\n    this.message = status_bar;\n\n    // Add the close button to the window.\n    var buttongrp = document.createElement('div');\n    buttongrp.classList = 'btn-group inline pull-right';\n    button = document.createElement('button');\n    button.classList = 'btn btn-mini btn-primary';\n    button.href = '#';\n    button.title = 'Stop Interaction';\n    button.innerHTML = '<i class=\"fa fa-power-off icon-remove icon-large\"></i>';\n    button.addEventListener('click', function (_evt) {\n        fig.handle_close(fig, {});\n    });\n    button.addEventListener(\n        'mouseover',\n        on_mouseover_closure('Stop Interaction')\n    );\n    buttongrp.appendChild(button);\n    var titlebar = this.root.querySelector('.ui-dialog-titlebar');\n    titlebar.insertBefore(buttongrp, titlebar.firstChild);\n};\n\nmpl.figure.prototype._remove_fig_handler = function (event) {\n    var fig = event.data.fig;\n    if (event.target !== this) {\n        // Ignore bubbled events from children.\n        return;\n    }\n    fig.close_ws(fig, {});\n};\n\nmpl.figure.prototype._root_extra_style = function (el) {\n    el.style.boxSizing = 'content-box'; // override notebook setting of border-box.\n};\n\nmpl.figure.prototype._canvas_extra_style = function (el) {\n    // this is important to make the div 'focusable\n    el.setAttribute('tabindex', 0);\n    // reach out to IPython and tell the keyboard manager to turn it's self\n    // off when our div gets focus\n\n    // location in version 3\n    if (IPython.notebook.keyboard_manager) {\n        IPython.notebook.keyboard_manager.register_events(el);\n    } else {\n        // location in version 2\n        IPython.keyboard_manager.register_events(el);\n    }\n};\n\nmpl.figure.prototype._key_event_extra = function (event, _name) {\n    // Check for shift+enter\n    if (event.shiftKey && event.which === 13) {\n        this.canvas_div.blur();\n        // select the cell after this one\n        var index = IPython.notebook.find_cell_index(this.cell_info[0]);\n        IPython.notebook.select(index + 1);\n    }\n};\n\nmpl.figure.prototype.handle_save = function (fig, _msg) {\n    fig.ondownload(fig, null);\n};\n\nmpl.find_output_cell = function (html_output) {\n    // Return the cell and output element which can be found *uniquely* in the notebook.\n    // Note - this is a bit hacky, but it is done because the \"notebook_saving.Notebook\"\n    // IPython event is triggered only after the cells have been serialised, which for\n    // our purposes (turning an active figure into a static one), is too late.\n    var cells = IPython.notebook.get_cells();\n    var ncells = cells.length;\n    for (var i = 0; i < ncells; i++) {\n        var cell = cells[i];\n        if (cell.cell_type === 'code') {\n            for (var j = 0; j < cell.output_area.outputs.length; j++) {\n                var data = cell.output_area.outputs[j];\n                if (data.data) {\n                    // IPython >= 3 moved mimebundle to data attribute of output\n                    data = data.data;\n                }\n                if (data['text/html'] === html_output) {\n                    return [cell, data, j];\n                }\n            }\n        }\n    }\n};\n\n// Register the function which deals with the matplotlib target/channel.\n// The kernel may be null if the page has been refreshed.\nif (IPython.notebook.kernel !== null) {\n    IPython.notebook.kernel.comm_manager.register_target(\n        'matplotlib',\n        mpl.mpl_figure_comm\n    );\n}\n",
      "text/plain": [
       "<IPython.core.display.Javascript object>"
      ]
     },
     "metadata": {},
     "output_type": "display_data"
    },
    {
     "data": {
      "text/html": [
       "<div id='138a2191-5b5f-4d4b-8015-477519f1c065'></div>"
      ],
      "text/plain": [
       "<IPython.core.display.HTML object>"
      ]
     },
     "metadata": {},
     "output_type": "display_data"
    }
   ],
   "source": [
    "# Analyze particular model on particular maze\n",
    "diagram = df.loc[\n",
    "    (df['model_name'] == 'models/dt_net/original.pth') &\n",
    "    (df['test_maze_size'] == 19) &\n",
    "    (df['maze_index'] == 1),\n",
    "    'diagram'\n",
    "].values[0]\n",
    "threshold = 0.3\n",
    "print(f'Betti nums: {get_betti_nums(diagram, threshold)}')\n",
    "plot_diagram(diagram=diagram, threshold=threshold);"
   ]
  },
  {
   "cell_type": "code",
   "execution_count": 14,
   "id": "bf6f93d0",
   "metadata": {},
   "outputs": [
    {
     "name": "stderr",
     "output_type": "stream",
     "text": [
      "2025-05-22 10:41:25,982 - src.utils.tda - INFO - Performing TDA with embed_dim = 0, delay = 1, and X.shape = (500, 3) (0.000GB)\n",
      "2025-05-22 10:41:25,983 - src.utils.tda - INFO - Flattened X.shape = (500, 3)\n",
      "2025-05-22 10:41:26,066 - src.utils.tda - INFO - Computed distance_matrix.shape = (500, 500) with max_distance = 2.000\n"
     ]
    },
    {
     "name": "stdout",
     "output_type": "stream",
     "text": [
      "get_max_finite_death(diagram) = 0.4754422605037689\n"
     ]
    },
    {
     "data": {
      "application/javascript": "/* Put everything inside the global mpl namespace */\n/* global mpl */\nwindow.mpl = {};\n\nmpl.get_websocket_type = function () {\n    if (typeof WebSocket !== 'undefined') {\n        return WebSocket;\n    } else if (typeof MozWebSocket !== 'undefined') {\n        return MozWebSocket;\n    } else {\n        alert(\n            'Your browser does not have WebSocket support. ' +\n                'Please try Chrome, Safari or Firefox ≥ 6. ' +\n                'Firefox 4 and 5 are also supported but you ' +\n                'have to enable WebSockets in about:config.'\n        );\n    }\n};\n\nmpl.figure = function (figure_id, websocket, ondownload, parent_element) {\n    this.id = figure_id;\n\n    this.ws = websocket;\n\n    this.supports_binary = this.ws.binaryType !== undefined;\n\n    if (!this.supports_binary) {\n        var warnings = document.getElementById('mpl-warnings');\n        if (warnings) {\n            warnings.style.display = 'block';\n            warnings.textContent =\n                'This browser does not support binary websocket messages. ' +\n                'Performance may be slow.';\n        }\n    }\n\n    this.imageObj = new Image();\n\n    this.context = undefined;\n    this.message = undefined;\n    this.canvas = undefined;\n    this.rubberband_canvas = undefined;\n    this.rubberband_context = undefined;\n    this.format_dropdown = undefined;\n\n    this.image_mode = 'full';\n\n    this.root = document.createElement('div');\n    this.root.setAttribute('style', 'display: inline-block');\n    this._root_extra_style(this.root);\n\n    parent_element.appendChild(this.root);\n\n    this._init_header(this);\n    this._init_canvas(this);\n    this._init_toolbar(this);\n\n    var fig = this;\n\n    this.waiting = false;\n\n    this.ws.onopen = function () {\n        fig.send_message('supports_binary', { value: fig.supports_binary });\n        fig.send_message('send_image_mode', {});\n        if (fig.ratio !== 1) {\n            fig.send_message('set_device_pixel_ratio', {\n                device_pixel_ratio: fig.ratio,\n            });\n        }\n        fig.send_message('refresh', {});\n    };\n\n    this.imageObj.onload = function () {\n        if (fig.image_mode === 'full') {\n            // Full images could contain transparency (where diff images\n            // almost always do), so we need to clear the canvas so that\n            // there is no ghosting.\n            fig.context.clearRect(0, 0, fig.canvas.width, fig.canvas.height);\n        }\n        fig.context.drawImage(fig.imageObj, 0, 0);\n    };\n\n    this.imageObj.onunload = function () {\n        fig.ws.close();\n    };\n\n    this.ws.onmessage = this._make_on_message_function(this);\n\n    this.ondownload = ondownload;\n};\n\nmpl.figure.prototype._init_header = function () {\n    var titlebar = document.createElement('div');\n    titlebar.classList =\n        'ui-dialog-titlebar ui-widget-header ui-corner-all ui-helper-clearfix';\n    var titletext = document.createElement('div');\n    titletext.classList = 'ui-dialog-title';\n    titletext.setAttribute(\n        'style',\n        'width: 100%; text-align: center; padding: 3px;'\n    );\n    titlebar.appendChild(titletext);\n    this.root.appendChild(titlebar);\n    this.header = titletext;\n};\n\nmpl.figure.prototype._canvas_extra_style = function (_canvas_div) {};\n\nmpl.figure.prototype._root_extra_style = function (_canvas_div) {};\n\nmpl.figure.prototype._init_canvas = function () {\n    var fig = this;\n\n    var canvas_div = (this.canvas_div = document.createElement('div'));\n    canvas_div.setAttribute('tabindex', '0');\n    canvas_div.setAttribute(\n        'style',\n        'border: 1px solid #ddd;' +\n            'box-sizing: content-box;' +\n            'clear: both;' +\n            'min-height: 1px;' +\n            'min-width: 1px;' +\n            'outline: 0;' +\n            'overflow: hidden;' +\n            'position: relative;' +\n            'resize: both;' +\n            'z-index: 2;'\n    );\n\n    function on_keyboard_event_closure(name) {\n        return function (event) {\n            return fig.key_event(event, name);\n        };\n    }\n\n    canvas_div.addEventListener(\n        'keydown',\n        on_keyboard_event_closure('key_press')\n    );\n    canvas_div.addEventListener(\n        'keyup',\n        on_keyboard_event_closure('key_release')\n    );\n\n    this._canvas_extra_style(canvas_div);\n    this.root.appendChild(canvas_div);\n\n    var canvas = (this.canvas = document.createElement('canvas'));\n    canvas.classList.add('mpl-canvas');\n    canvas.setAttribute(\n        'style',\n        'box-sizing: content-box;' +\n            'pointer-events: none;' +\n            'position: relative;' +\n            'z-index: 0;'\n    );\n\n    this.context = canvas.getContext('2d');\n\n    var backingStore =\n        this.context.backingStorePixelRatio ||\n        this.context.webkitBackingStorePixelRatio ||\n        this.context.mozBackingStorePixelRatio ||\n        this.context.msBackingStorePixelRatio ||\n        this.context.oBackingStorePixelRatio ||\n        this.context.backingStorePixelRatio ||\n        1;\n\n    this.ratio = (window.devicePixelRatio || 1) / backingStore;\n\n    var rubberband_canvas = (this.rubberband_canvas = document.createElement(\n        'canvas'\n    ));\n    rubberband_canvas.setAttribute(\n        'style',\n        'box-sizing: content-box;' +\n            'left: 0;' +\n            'pointer-events: none;' +\n            'position: absolute;' +\n            'top: 0;' +\n            'z-index: 1;'\n    );\n\n    // Apply a ponyfill if ResizeObserver is not implemented by browser.\n    if (this.ResizeObserver === undefined) {\n        if (window.ResizeObserver !== undefined) {\n            this.ResizeObserver = window.ResizeObserver;\n        } else {\n            var obs = _JSXTOOLS_RESIZE_OBSERVER({});\n            this.ResizeObserver = obs.ResizeObserver;\n        }\n    }\n\n    this.resizeObserverInstance = new this.ResizeObserver(function (entries) {\n        // There's no need to resize if the WebSocket is not connected:\n        // - If it is still connecting, then we will get an initial resize from\n        //   Python once it connects.\n        // - If it has disconnected, then resizing will clear the canvas and\n        //   never get anything back to refill it, so better to not resize and\n        //   keep something visible.\n        if (fig.ws.readyState != 1) {\n            return;\n        }\n        var nentries = entries.length;\n        for (var i = 0; i < nentries; i++) {\n            var entry = entries[i];\n            var width, height;\n            if (entry.contentBoxSize) {\n                if (entry.contentBoxSize instanceof Array) {\n                    // Chrome 84 implements new version of spec.\n                    width = entry.contentBoxSize[0].inlineSize;\n                    height = entry.contentBoxSize[0].blockSize;\n                } else {\n                    // Firefox implements old version of spec.\n                    width = entry.contentBoxSize.inlineSize;\n                    height = entry.contentBoxSize.blockSize;\n                }\n            } else {\n                // Chrome <84 implements even older version of spec.\n                width = entry.contentRect.width;\n                height = entry.contentRect.height;\n            }\n\n            // Keep the size of the canvas and rubber band canvas in sync with\n            // the canvas container.\n            if (entry.devicePixelContentBoxSize) {\n                // Chrome 84 implements new version of spec.\n                canvas.setAttribute(\n                    'width',\n                    entry.devicePixelContentBoxSize[0].inlineSize\n                );\n                canvas.setAttribute(\n                    'height',\n                    entry.devicePixelContentBoxSize[0].blockSize\n                );\n            } else {\n                canvas.setAttribute('width', width * fig.ratio);\n                canvas.setAttribute('height', height * fig.ratio);\n            }\n            /* This rescales the canvas back to display pixels, so that it\n             * appears correct on HiDPI screens. */\n            canvas.style.width = width + 'px';\n            canvas.style.height = height + 'px';\n\n            rubberband_canvas.setAttribute('width', width);\n            rubberband_canvas.setAttribute('height', height);\n\n            // And update the size in Python. We ignore the initial 0/0 size\n            // that occurs as the element is placed into the DOM, which should\n            // otherwise not happen due to the minimum size styling.\n            if (width != 0 && height != 0) {\n                fig.request_resize(width, height);\n            }\n        }\n    });\n    this.resizeObserverInstance.observe(canvas_div);\n\n    function on_mouse_event_closure(name) {\n        /* User Agent sniffing is bad, but WebKit is busted:\n         * https://bugs.webkit.org/show_bug.cgi?id=144526\n         * https://bugs.webkit.org/show_bug.cgi?id=181818\n         * The worst that happens here is that they get an extra browser\n         * selection when dragging, if this check fails to catch them.\n         */\n        var UA = navigator.userAgent;\n        var isWebKit = /AppleWebKit/.test(UA) && !/Chrome/.test(UA);\n        if(isWebKit) {\n            return function (event) {\n                /* This prevents the web browser from automatically changing to\n                 * the text insertion cursor when the button is pressed. We\n                 * want to control all of the cursor setting manually through\n                 * the 'cursor' event from matplotlib */\n                event.preventDefault()\n                return fig.mouse_event(event, name);\n            };\n        } else {\n            return function (event) {\n                return fig.mouse_event(event, name);\n            };\n        }\n    }\n\n    canvas_div.addEventListener(\n        'mousedown',\n        on_mouse_event_closure('button_press')\n    );\n    canvas_div.addEventListener(\n        'mouseup',\n        on_mouse_event_closure('button_release')\n    );\n    canvas_div.addEventListener(\n        'dblclick',\n        on_mouse_event_closure('dblclick')\n    );\n    // Throttle sequential mouse events to 1 every 20ms.\n    canvas_div.addEventListener(\n        'mousemove',\n        on_mouse_event_closure('motion_notify')\n    );\n\n    canvas_div.addEventListener(\n        'mouseenter',\n        on_mouse_event_closure('figure_enter')\n    );\n    canvas_div.addEventListener(\n        'mouseleave',\n        on_mouse_event_closure('figure_leave')\n    );\n\n    canvas_div.addEventListener('wheel', function (event) {\n        if (event.deltaY < 0) {\n            event.step = 1;\n        } else {\n            event.step = -1;\n        }\n        on_mouse_event_closure('scroll')(event);\n    });\n\n    canvas_div.appendChild(canvas);\n    canvas_div.appendChild(rubberband_canvas);\n\n    this.rubberband_context = rubberband_canvas.getContext('2d');\n    this.rubberband_context.strokeStyle = '#000000';\n\n    this._resize_canvas = function (width, height, forward) {\n        if (forward) {\n            canvas_div.style.width = width + 'px';\n            canvas_div.style.height = height + 'px';\n        }\n    };\n\n    // Disable right mouse context menu.\n    canvas_div.addEventListener('contextmenu', function (_e) {\n        event.preventDefault();\n        return false;\n    });\n\n    function set_focus() {\n        canvas.focus();\n        canvas_div.focus();\n    }\n\n    window.setTimeout(set_focus, 100);\n};\n\nmpl.figure.prototype._init_toolbar = function () {\n    var fig = this;\n\n    var toolbar = document.createElement('div');\n    toolbar.classList = 'mpl-toolbar';\n    this.root.appendChild(toolbar);\n\n    function on_click_closure(name) {\n        return function (_event) {\n            return fig.toolbar_button_onclick(name);\n        };\n    }\n\n    function on_mouseover_closure(tooltip) {\n        return function (event) {\n            if (!event.currentTarget.disabled) {\n                return fig.toolbar_button_onmouseover(tooltip);\n            }\n        };\n    }\n\n    fig.buttons = {};\n    var buttonGroup = document.createElement('div');\n    buttonGroup.classList = 'mpl-button-group';\n    for (var toolbar_ind in mpl.toolbar_items) {\n        var name = mpl.toolbar_items[toolbar_ind][0];\n        var tooltip = mpl.toolbar_items[toolbar_ind][1];\n        var image = mpl.toolbar_items[toolbar_ind][2];\n        var method_name = mpl.toolbar_items[toolbar_ind][3];\n\n        if (!name) {\n            /* Instead of a spacer, we start a new button group. */\n            if (buttonGroup.hasChildNodes()) {\n                toolbar.appendChild(buttonGroup);\n            }\n            buttonGroup = document.createElement('div');\n            buttonGroup.classList = 'mpl-button-group';\n            continue;\n        }\n\n        var button = (fig.buttons[name] = document.createElement('button'));\n        button.classList = 'mpl-widget';\n        button.setAttribute('role', 'button');\n        button.setAttribute('aria-disabled', 'false');\n        button.addEventListener('click', on_click_closure(method_name));\n        button.addEventListener('mouseover', on_mouseover_closure(tooltip));\n\n        var icon_img = document.createElement('img');\n        icon_img.src = '_images/' + image + '.png';\n        icon_img.srcset = '_images/' + image + '_large.png 2x';\n        icon_img.alt = tooltip;\n        button.appendChild(icon_img);\n\n        buttonGroup.appendChild(button);\n    }\n\n    if (buttonGroup.hasChildNodes()) {\n        toolbar.appendChild(buttonGroup);\n    }\n\n    var fmt_picker = document.createElement('select');\n    fmt_picker.classList = 'mpl-widget';\n    toolbar.appendChild(fmt_picker);\n    this.format_dropdown = fmt_picker;\n\n    for (var ind in mpl.extensions) {\n        var fmt = mpl.extensions[ind];\n        var option = document.createElement('option');\n        option.selected = fmt === mpl.default_extension;\n        option.innerHTML = fmt;\n        fmt_picker.appendChild(option);\n    }\n\n    var status_bar = document.createElement('span');\n    status_bar.classList = 'mpl-message';\n    toolbar.appendChild(status_bar);\n    this.message = status_bar;\n};\n\nmpl.figure.prototype.request_resize = function (x_pixels, y_pixels) {\n    // Request matplotlib to resize the figure. Matplotlib will then trigger a resize in the client,\n    // which will in turn request a refresh of the image.\n    this.send_message('resize', { width: x_pixels, height: y_pixels });\n};\n\nmpl.figure.prototype.send_message = function (type, properties) {\n    properties['type'] = type;\n    properties['figure_id'] = this.id;\n    this.ws.send(JSON.stringify(properties));\n};\n\nmpl.figure.prototype.send_draw_message = function () {\n    if (!this.waiting) {\n        this.waiting = true;\n        this.ws.send(JSON.stringify({ type: 'draw', figure_id: this.id }));\n    }\n};\n\nmpl.figure.prototype.handle_save = function (fig, _msg) {\n    var format_dropdown = fig.format_dropdown;\n    var format = format_dropdown.options[format_dropdown.selectedIndex].value;\n    fig.ondownload(fig, format);\n};\n\nmpl.figure.prototype.handle_resize = function (fig, msg) {\n    var size = msg['size'];\n    if (size[0] !== fig.canvas.width || size[1] !== fig.canvas.height) {\n        fig._resize_canvas(size[0], size[1], msg['forward']);\n        fig.send_message('refresh', {});\n    }\n};\n\nmpl.figure.prototype.handle_rubberband = function (fig, msg) {\n    var x0 = msg['x0'] / fig.ratio;\n    var y0 = (fig.canvas.height - msg['y0']) / fig.ratio;\n    var x1 = msg['x1'] / fig.ratio;\n    var y1 = (fig.canvas.height - msg['y1']) / fig.ratio;\n    x0 = Math.floor(x0) + 0.5;\n    y0 = Math.floor(y0) + 0.5;\n    x1 = Math.floor(x1) + 0.5;\n    y1 = Math.floor(y1) + 0.5;\n    var min_x = Math.min(x0, x1);\n    var min_y = Math.min(y0, y1);\n    var width = Math.abs(x1 - x0);\n    var height = Math.abs(y1 - y0);\n\n    fig.rubberband_context.clearRect(\n        0,\n        0,\n        fig.canvas.width / fig.ratio,\n        fig.canvas.height / fig.ratio\n    );\n\n    fig.rubberband_context.strokeRect(min_x, min_y, width, height);\n};\n\nmpl.figure.prototype.handle_figure_label = function (fig, msg) {\n    // Updates the figure title.\n    fig.header.textContent = msg['label'];\n};\n\nmpl.figure.prototype.handle_cursor = function (fig, msg) {\n    fig.canvas_div.style.cursor = msg['cursor'];\n};\n\nmpl.figure.prototype.handle_message = function (fig, msg) {\n    fig.message.textContent = msg['message'];\n};\n\nmpl.figure.prototype.handle_draw = function (fig, _msg) {\n    // Request the server to send over a new figure.\n    fig.send_draw_message();\n};\n\nmpl.figure.prototype.handle_image_mode = function (fig, msg) {\n    fig.image_mode = msg['mode'];\n};\n\nmpl.figure.prototype.handle_history_buttons = function (fig, msg) {\n    for (var key in msg) {\n        if (!(key in fig.buttons)) {\n            continue;\n        }\n        fig.buttons[key].disabled = !msg[key];\n        fig.buttons[key].setAttribute('aria-disabled', !msg[key]);\n    }\n};\n\nmpl.figure.prototype.handle_navigate_mode = function (fig, msg) {\n    if (msg['mode'] === 'PAN') {\n        fig.buttons['Pan'].classList.add('active');\n        fig.buttons['Zoom'].classList.remove('active');\n    } else if (msg['mode'] === 'ZOOM') {\n        fig.buttons['Pan'].classList.remove('active');\n        fig.buttons['Zoom'].classList.add('active');\n    } else {\n        fig.buttons['Pan'].classList.remove('active');\n        fig.buttons['Zoom'].classList.remove('active');\n    }\n};\n\nmpl.figure.prototype.updated_canvas_event = function () {\n    // Called whenever the canvas gets updated.\n    this.send_message('ack', {});\n};\n\n// A function to construct a web socket function for onmessage handling.\n// Called in the figure constructor.\nmpl.figure.prototype._make_on_message_function = function (fig) {\n    return function socket_on_message(evt) {\n        if (evt.data instanceof Blob) {\n            var img = evt.data;\n            if (img.type !== 'image/png') {\n                /* FIXME: We get \"Resource interpreted as Image but\n                 * transferred with MIME type text/plain:\" errors on\n                 * Chrome.  But how to set the MIME type?  It doesn't seem\n                 * to be part of the websocket stream */\n                img.type = 'image/png';\n            }\n\n            /* Free the memory for the previous frames */\n            if (fig.imageObj.src) {\n                (window.URL || window.webkitURL).revokeObjectURL(\n                    fig.imageObj.src\n                );\n            }\n\n            fig.imageObj.src = (window.URL || window.webkitURL).createObjectURL(\n                img\n            );\n            fig.updated_canvas_event();\n            fig.waiting = false;\n            return;\n        } else if (\n            typeof evt.data === 'string' &&\n            evt.data.slice(0, 21) === 'data:image/png;base64'\n        ) {\n            fig.imageObj.src = evt.data;\n            fig.updated_canvas_event();\n            fig.waiting = false;\n            return;\n        }\n\n        var msg = JSON.parse(evt.data);\n        var msg_type = msg['type'];\n\n        // Call the  \"handle_{type}\" callback, which takes\n        // the figure and JSON message as its only arguments.\n        try {\n            var callback = fig['handle_' + msg_type];\n        } catch (e) {\n            console.log(\n                \"No handler for the '\" + msg_type + \"' message type: \",\n                msg\n            );\n            return;\n        }\n\n        if (callback) {\n            try {\n                // console.log(\"Handling '\" + msg_type + \"' message: \", msg);\n                callback(fig, msg);\n            } catch (e) {\n                console.log(\n                    \"Exception inside the 'handler_\" + msg_type + \"' callback:\",\n                    e,\n                    e.stack,\n                    msg\n                );\n            }\n        }\n    };\n};\n\nfunction getModifiers(event) {\n    var mods = [];\n    if (event.ctrlKey) {\n        mods.push('ctrl');\n    }\n    if (event.altKey) {\n        mods.push('alt');\n    }\n    if (event.shiftKey) {\n        mods.push('shift');\n    }\n    if (event.metaKey) {\n        mods.push('meta');\n    }\n    return mods;\n}\n\n/*\n * return a copy of an object with only non-object keys\n * we need this to avoid circular references\n * https://stackoverflow.com/a/24161582/3208463\n */\nfunction simpleKeys(original) {\n    return Object.keys(original).reduce(function (obj, key) {\n        if (typeof original[key] !== 'object') {\n            obj[key] = original[key];\n        }\n        return obj;\n    }, {});\n}\n\nmpl.figure.prototype.mouse_event = function (event, name) {\n    if (name === 'button_press') {\n        this.canvas.focus();\n        this.canvas_div.focus();\n    }\n\n    // from https://stackoverflow.com/q/1114465\n    var boundingRect = this.canvas.getBoundingClientRect();\n    var x = (event.clientX - boundingRect.left) * this.ratio;\n    var y = (event.clientY - boundingRect.top) * this.ratio;\n\n    this.send_message(name, {\n        x: x,\n        y: y,\n        button: event.button,\n        step: event.step,\n        buttons: event.buttons,\n        modifiers: getModifiers(event),\n        guiEvent: simpleKeys(event),\n    });\n\n    return false;\n};\n\nmpl.figure.prototype._key_event_extra = function (_event, _name) {\n    // Handle any extra behaviour associated with a key event\n};\n\nmpl.figure.prototype.key_event = function (event, name) {\n    // Prevent repeat events\n    if (name === 'key_press') {\n        if (event.key === this._key) {\n            return;\n        } else {\n            this._key = event.key;\n        }\n    }\n    if (name === 'key_release') {\n        this._key = null;\n    }\n\n    var value = '';\n    if (event.ctrlKey && event.key !== 'Control') {\n        value += 'ctrl+';\n    }\n    else if (event.altKey && event.key !== 'Alt') {\n        value += 'alt+';\n    }\n    else if (event.shiftKey && event.key !== 'Shift') {\n        value += 'shift+';\n    }\n\n    value += 'k' + event.key;\n\n    this._key_event_extra(event, name);\n\n    this.send_message(name, { key: value, guiEvent: simpleKeys(event) });\n    return false;\n};\n\nmpl.figure.prototype.toolbar_button_onclick = function (name) {\n    if (name === 'download') {\n        this.handle_save(this, null);\n    } else {\n        this.send_message('toolbar_button', { name: name });\n    }\n};\n\nmpl.figure.prototype.toolbar_button_onmouseover = function (tooltip) {\n    this.message.textContent = tooltip;\n};\n\n///////////////// REMAINING CONTENT GENERATED BY embed_js.py /////////////////\n// prettier-ignore\nvar _JSXTOOLS_RESIZE_OBSERVER=function(A){var t,i=new WeakMap,n=new WeakMap,a=new WeakMap,r=new WeakMap,o=new Set;function s(e){if(!(this instanceof s))throw new TypeError(\"Constructor requires 'new' operator\");i.set(this,e)}function h(){throw new TypeError(\"Function is not a constructor\")}function c(e,t,i,n){e=0 in arguments?Number(arguments[0]):0,t=1 in arguments?Number(arguments[1]):0,i=2 in arguments?Number(arguments[2]):0,n=3 in arguments?Number(arguments[3]):0,this.right=(this.x=this.left=e)+(this.width=i),this.bottom=(this.y=this.top=t)+(this.height=n),Object.freeze(this)}function d(){t=requestAnimationFrame(d);var s=new WeakMap,p=new Set;o.forEach((function(t){r.get(t).forEach((function(i){var r=t instanceof window.SVGElement,o=a.get(t),d=r?0:parseFloat(o.paddingTop),f=r?0:parseFloat(o.paddingRight),l=r?0:parseFloat(o.paddingBottom),u=r?0:parseFloat(o.paddingLeft),g=r?0:parseFloat(o.borderTopWidth),m=r?0:parseFloat(o.borderRightWidth),w=r?0:parseFloat(o.borderBottomWidth),b=u+f,F=d+l,v=(r?0:parseFloat(o.borderLeftWidth))+m,W=g+w,y=r?0:t.offsetHeight-W-t.clientHeight,E=r?0:t.offsetWidth-v-t.clientWidth,R=b+v,z=F+W,M=r?t.width:parseFloat(o.width)-R-E,O=r?t.height:parseFloat(o.height)-z-y;if(n.has(t)){var k=n.get(t);if(k[0]===M&&k[1]===O)return}n.set(t,[M,O]);var S=Object.create(h.prototype);S.target=t,S.contentRect=new c(u,d,M,O),s.has(i)||(s.set(i,[]),p.add(i)),s.get(i).push(S)}))})),p.forEach((function(e){i.get(e).call(e,s.get(e),e)}))}return s.prototype.observe=function(i){if(i instanceof window.Element){r.has(i)||(r.set(i,new Set),o.add(i),a.set(i,window.getComputedStyle(i)));var n=r.get(i);n.has(this)||n.add(this),cancelAnimationFrame(t),t=requestAnimationFrame(d)}},s.prototype.unobserve=function(i){if(i instanceof window.Element&&r.has(i)){var n=r.get(i);n.has(this)&&(n.delete(this),n.size||(r.delete(i),o.delete(i))),n.size||r.delete(i),o.size||cancelAnimationFrame(t)}},A.DOMRectReadOnly=c,A.ResizeObserver=s,A.ResizeObserverEntry=h,A}; // eslint-disable-line\nmpl.toolbar_items = [[\"Home\", \"Reset original view\", \"fa fa-home\", \"home\"], [\"Back\", \"Back to previous view\", \"fa fa-arrow-left\", \"back\"], [\"Forward\", \"Forward to next view\", \"fa fa-arrow-right\", \"forward\"], [\"\", \"\", \"\", \"\"], [\"Pan\", \"Left button pans, Right button zooms\\nx/y fixes axis, CTRL fixes aspect\", \"fa fa-arrows\", \"pan\"], [\"Zoom\", \"Zoom to rectangle\\nx/y fixes axis\", \"fa fa-square-o\", \"zoom\"], [\"\", \"\", \"\", \"\"], [\"Download\", \"Download plot\", \"fa fa-floppy-o\", \"download\"]];\n\nmpl.extensions = [\"eps\", \"jpeg\", \"pgf\", \"pdf\", \"png\", \"ps\", \"raw\", \"svg\", \"tif\", \"webp\"];\n\nmpl.default_extension = \"png\";/* global mpl */\n\nvar comm_websocket_adapter = function (comm) {\n    // Create a \"websocket\"-like object which calls the given IPython comm\n    // object with the appropriate methods. Currently this is a non binary\n    // socket, so there is still some room for performance tuning.\n    var ws = {};\n\n    ws.binaryType = comm.kernel.ws.binaryType;\n    ws.readyState = comm.kernel.ws.readyState;\n    function updateReadyState(_event) {\n        if (comm.kernel.ws) {\n            ws.readyState = comm.kernel.ws.readyState;\n        } else {\n            ws.readyState = 3; // Closed state.\n        }\n    }\n    comm.kernel.ws.addEventListener('open', updateReadyState);\n    comm.kernel.ws.addEventListener('close', updateReadyState);\n    comm.kernel.ws.addEventListener('error', updateReadyState);\n\n    ws.close = function () {\n        comm.close();\n    };\n    ws.send = function (m) {\n        //console.log('sending', m);\n        comm.send(m);\n    };\n    // Register the callback with on_msg.\n    comm.on_msg(function (msg) {\n        //console.log('receiving', msg['content']['data'], msg);\n        var data = msg['content']['data'];\n        if (data['blob'] !== undefined) {\n            data = {\n                data: new Blob(msg['buffers'], { type: data['blob'] }),\n            };\n        }\n        // Pass the mpl event to the overridden (by mpl) onmessage function.\n        ws.onmessage(data);\n    });\n    return ws;\n};\n\nmpl.mpl_figure_comm = function (comm, msg) {\n    // This is the function which gets called when the mpl process\n    // starts-up an IPython Comm through the \"matplotlib\" channel.\n\n    var id = msg.content.data.id;\n    // Get hold of the div created by the display call when the Comm\n    // socket was opened in Python.\n    var element = document.getElementById(id);\n    var ws_proxy = comm_websocket_adapter(comm);\n\n    function ondownload(figure, _format) {\n        window.open(figure.canvas.toDataURL());\n    }\n\n    var fig = new mpl.figure(id, ws_proxy, ondownload, element);\n\n    // Call onopen now - mpl needs it, as it is assuming we've passed it a real\n    // web socket which is closed, not our websocket->open comm proxy.\n    ws_proxy.onopen();\n\n    fig.parent_element = element;\n    fig.cell_info = mpl.find_output_cell(\"<div id='\" + id + \"'></div>\");\n    if (!fig.cell_info) {\n        console.error('Failed to find cell for figure', id, fig);\n        return;\n    }\n    fig.cell_info[0].output_area.element.on(\n        'cleared',\n        { fig: fig },\n        fig._remove_fig_handler\n    );\n};\n\nmpl.figure.prototype.handle_close = function (fig, msg) {\n    var width = fig.canvas.width / fig.ratio;\n    fig.cell_info[0].output_area.element.off(\n        'cleared',\n        fig._remove_fig_handler\n    );\n    fig.resizeObserverInstance.unobserve(fig.canvas_div);\n\n    // Update the output cell to use the data from the current canvas.\n    fig.push_to_output();\n    var dataURL = fig.canvas.toDataURL();\n    // Re-enable the keyboard manager in IPython - without this line, in FF,\n    // the notebook keyboard shortcuts fail.\n    IPython.keyboard_manager.enable();\n    fig.parent_element.innerHTML =\n        '<img src=\"' + dataURL + '\" width=\"' + width + '\">';\n    fig.close_ws(fig, msg);\n};\n\nmpl.figure.prototype.close_ws = function (fig, msg) {\n    fig.send_message('closing', msg);\n    // fig.ws.close()\n};\n\nmpl.figure.prototype.push_to_output = function (_remove_interactive) {\n    // Turn the data on the canvas into data in the output cell.\n    var width = this.canvas.width / this.ratio;\n    var dataURL = this.canvas.toDataURL();\n    this.cell_info[1]['text/html'] =\n        '<img src=\"' + dataURL + '\" width=\"' + width + '\">';\n};\n\nmpl.figure.prototype.updated_canvas_event = function () {\n    // Tell IPython that the notebook contents must change.\n    IPython.notebook.set_dirty(true);\n    this.send_message('ack', {});\n    var fig = this;\n    // Wait a second, then push the new image to the DOM so\n    // that it is saved nicely (might be nice to debounce this).\n    setTimeout(function () {\n        fig.push_to_output();\n    }, 1000);\n};\n\nmpl.figure.prototype._init_toolbar = function () {\n    var fig = this;\n\n    var toolbar = document.createElement('div');\n    toolbar.classList = 'btn-toolbar';\n    this.root.appendChild(toolbar);\n\n    function on_click_closure(name) {\n        return function (_event) {\n            return fig.toolbar_button_onclick(name);\n        };\n    }\n\n    function on_mouseover_closure(tooltip) {\n        return function (event) {\n            if (!event.currentTarget.disabled) {\n                return fig.toolbar_button_onmouseover(tooltip);\n            }\n        };\n    }\n\n    fig.buttons = {};\n    var buttonGroup = document.createElement('div');\n    buttonGroup.classList = 'btn-group';\n    var button;\n    for (var toolbar_ind in mpl.toolbar_items) {\n        var name = mpl.toolbar_items[toolbar_ind][0];\n        var tooltip = mpl.toolbar_items[toolbar_ind][1];\n        var image = mpl.toolbar_items[toolbar_ind][2];\n        var method_name = mpl.toolbar_items[toolbar_ind][3];\n\n        if (!name) {\n            /* Instead of a spacer, we start a new button group. */\n            if (buttonGroup.hasChildNodes()) {\n                toolbar.appendChild(buttonGroup);\n            }\n            buttonGroup = document.createElement('div');\n            buttonGroup.classList = 'btn-group';\n            continue;\n        }\n\n        button = fig.buttons[name] = document.createElement('button');\n        button.classList = 'btn btn-default';\n        button.href = '#';\n        button.title = name;\n        button.innerHTML = '<i class=\"fa ' + image + ' fa-lg\"></i>';\n        button.addEventListener('click', on_click_closure(method_name));\n        button.addEventListener('mouseover', on_mouseover_closure(tooltip));\n        buttonGroup.appendChild(button);\n    }\n\n    if (buttonGroup.hasChildNodes()) {\n        toolbar.appendChild(buttonGroup);\n    }\n\n    // Add the status bar.\n    var status_bar = document.createElement('span');\n    status_bar.classList = 'mpl-message pull-right';\n    toolbar.appendChild(status_bar);\n    this.message = status_bar;\n\n    // Add the close button to the window.\n    var buttongrp = document.createElement('div');\n    buttongrp.classList = 'btn-group inline pull-right';\n    button = document.createElement('button');\n    button.classList = 'btn btn-mini btn-primary';\n    button.href = '#';\n    button.title = 'Stop Interaction';\n    button.innerHTML = '<i class=\"fa fa-power-off icon-remove icon-large\"></i>';\n    button.addEventListener('click', function (_evt) {\n        fig.handle_close(fig, {});\n    });\n    button.addEventListener(\n        'mouseover',\n        on_mouseover_closure('Stop Interaction')\n    );\n    buttongrp.appendChild(button);\n    var titlebar = this.root.querySelector('.ui-dialog-titlebar');\n    titlebar.insertBefore(buttongrp, titlebar.firstChild);\n};\n\nmpl.figure.prototype._remove_fig_handler = function (event) {\n    var fig = event.data.fig;\n    if (event.target !== this) {\n        // Ignore bubbled events from children.\n        return;\n    }\n    fig.close_ws(fig, {});\n};\n\nmpl.figure.prototype._root_extra_style = function (el) {\n    el.style.boxSizing = 'content-box'; // override notebook setting of border-box.\n};\n\nmpl.figure.prototype._canvas_extra_style = function (el) {\n    // this is important to make the div 'focusable\n    el.setAttribute('tabindex', 0);\n    // reach out to IPython and tell the keyboard manager to turn it's self\n    // off when our div gets focus\n\n    // location in version 3\n    if (IPython.notebook.keyboard_manager) {\n        IPython.notebook.keyboard_manager.register_events(el);\n    } else {\n        // location in version 2\n        IPython.keyboard_manager.register_events(el);\n    }\n};\n\nmpl.figure.prototype._key_event_extra = function (event, _name) {\n    // Check for shift+enter\n    if (event.shiftKey && event.which === 13) {\n        this.canvas_div.blur();\n        // select the cell after this one\n        var index = IPython.notebook.find_cell_index(this.cell_info[0]);\n        IPython.notebook.select(index + 1);\n    }\n};\n\nmpl.figure.prototype.handle_save = function (fig, _msg) {\n    fig.ondownload(fig, null);\n};\n\nmpl.find_output_cell = function (html_output) {\n    // Return the cell and output element which can be found *uniquely* in the notebook.\n    // Note - this is a bit hacky, but it is done because the \"notebook_saving.Notebook\"\n    // IPython event is triggered only after the cells have been serialised, which for\n    // our purposes (turning an active figure into a static one), is too late.\n    var cells = IPython.notebook.get_cells();\n    var ncells = cells.length;\n    for (var i = 0; i < ncells; i++) {\n        var cell = cells[i];\n        if (cell.cell_type === 'code') {\n            for (var j = 0; j < cell.output_area.outputs.length; j++) {\n                var data = cell.output_area.outputs[j];\n                if (data.data) {\n                    // IPython >= 3 moved mimebundle to data attribute of output\n                    data = data.data;\n                }\n                if (data['text/html'] === html_output) {\n                    return [cell, data, j];\n                }\n            }\n        }\n    }\n};\n\n// Register the function which deals with the matplotlib target/channel.\n// The kernel may be null if the page has been refreshed.\nif (IPython.notebook.kernel !== null) {\n    IPython.notebook.kernel.comm_manager.register_target(\n        'matplotlib',\n        mpl.mpl_figure_comm\n    );\n}\n",
      "text/plain": [
       "<IPython.core.display.Javascript object>"
      ]
     },
     "metadata": {},
     "output_type": "display_data"
    },
    {
     "data": {
      "text/html": [
       "<div id='a3ca6185-b5ec-4155-a630-83640ace1bd9'></div>"
      ],
      "text/plain": [
       "<IPython.core.display.HTML object>"
      ]
     },
     "metadata": {},
     "output_type": "display_data"
    },
    {
     "data": {
      "image/png": "[encoded data removed]",
      "text/plain": [
       "<Figure size 500x500 with 1 Axes>"
      ]
     },
     "execution_count": 14,
     "metadata": {},
     "output_type": "execute_result"
    }
   ],
   "source": [
    "# Sample shape\n",
    "sample = sample_sphere(n=500, hollow=True)\n",
    "\n",
    "# Perform TDA\n",
    "params = TDAParameters()\n",
    "params.max_homo = 1\n",
    "params.dtype     = np.float64\n",
    "torch_dtype      = torch.float64 if params.dtype == np.float64 else torch.float32\n",
    "threshold        = 0.7\n",
    "latent_series    = [\n",
    "    torch.tensor(sample[i:i+1,:], dtype=torch_dtype)\n",
    "    for i in range(len(sample))\n",
    "]\n",
    "diagram, _ = get_diagram(latent_series=latent_series, dtype=params.dtype, max_homo=params.max_homo)\n",
    "\n",
    "# show persistence diagram\n",
    "print(f'{get_max_finite_death(diagram) = }')\n",
    "plot_diagram(diagram=diagram, threshold=threshold)\n"
   ]
  },
  {
   "cell_type": "code",
   "execution_count": 15,
   "id": "2845f2c5",
   "metadata": {},
   "outputs": [
    {
     "name": "stdout",
     "output_type": "stream",
     "text": [
      "betti_nums = [1 0]\n"
     ]
    },
    {
     "data": {
      "application/vnd.plotly.v1+json": {
       "config": {
        "plotlyServerURL": "https://plot.ly"
       },
       "data": [
        {
         "hovertemplate": "X=%{x}<br>Y=%{y}<br>Z=%{z}<extra></extra>",
         "legendgroup": "",
         "marker": {
          "color": "#636efa",
          "size": 3,
          "symbol": "circle"
         },
         "mode": "markers",
         "name": "",
         "scene": "scene",
         "showlegend": false,
         "type": "scatter3d",
         "x": {
          "bdata": "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",
          "dtype": "f8"
         },
         "y": {
          "bdata": "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",
          "dtype": "f8"
         },
         "z": {
          "bdata": "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",
          "dtype": "f8"
         }
        }
       ],
       "layout": {
        "height": 600,
        "legend": {
         "tracegroupgap": 0
        },
        "margin": {
         "t": 60
        },
        "scene": {
         "aspectmode": "manual",
         "aspectratio": {
          "x": 1,
          "y": 1,
          "z": 1
         },
         "domain": {
          "x": [
           0,
           1
          ],
          "y": [
           0,
           1
          ]
         },
         "xaxis": {
          "range": [
           -0.9995777460255715,
           0.9938002824757539
          ],
          "title": {
           "text": "X"
          }
         },
         "yaxis": {
          "range": [
           -0.9953792963735686,
           0.9979987321277568
          ],
          "title": {
           "text": "Y"
          }
         },
         "zaxis": {
          "range": [
           -0.9952265259814386,
           0.9981515025198868
          ],
          "title": {
           "text": "Z"
          }
         }
        },
        "template": {
         "data": {
          "bar": [
           {
            "error_x": {
             "color": "#2a3f5f"
            },
            "error_y": {
             "color": "#2a3f5f"
            },
            "marker": {
             "line": {
              "color": "#E5ECF6",
              "width": 0.5
             },
             "pattern": {
              "fillmode": "overlay",
              "size": 10,
              "solidity": 0.2
             }
            },
            "type": "bar"
           }
          ],
          "barpolar": [
           {
            "marker": {
             "line": {
              "color": "#E5ECF6",
              "width": 0.5
             },
             "pattern": {
              "fillmode": "overlay",
              "size": 10,
              "solidity": 0.2
             }
            },
            "type": "barpolar"
           }
          ],
          "carpet": [
           {
            "aaxis": {
             "endlinecolor": "#2a3f5f",
             "gridcolor": "white",
             "linecolor": "white",
             "minorgridcolor": "white",
             "startlinecolor": "#2a3f5f"
            },
            "baxis": {
             "endlinecolor": "#2a3f5f",
             "gridcolor": "white",
             "linecolor": "white",
             "minorgridcolor": "white",
             "startlinecolor": "#2a3f5f"
            },
            "type": "carpet"
           }
          ],
          "choropleth": [
           {
            "colorbar": {
             "outlinewidth": 0,
             "ticks": ""
            },
            "type": "choropleth"
           }
          ],
          "contour": [
           {
            "colorbar": {
             "outlinewidth": 0,
             "ticks": ""
            },
            "colorscale": [
             [
              0,
              "#0d0887"
             ],
             [
              0.1111111111111111,
              "#46039f"
             ],
             [
              0.2222222222222222,
              "#7201a8"
             ],
             [
              0.3333333333333333,
              "#9c179e"
             ],
             [
              0.4444444444444444,
              "#bd3786"
             ],
             [
              0.5555555555555556,
              "#d8576b"
             ],
             [
              0.6666666666666666,
              "#ed7953"
             ],
             [
              0.7777777777777778,
              "#fb9f3a"
             ],
             [
              0.8888888888888888,
              "#fdca26"
             ],
             [
              1,
              "#f0f921"
             ]
            ],
            "type": "contour"
           }
          ],
          "contourcarpet": [
           {
            "colorbar": {
             "outlinewidth": 0,
             "ticks": ""
            },
            "type": "contourcarpet"
           }
          ],
          "heatmap": [
           {
            "colorbar": {
             "outlinewidth": 0,
             "ticks": ""
            },
            "colorscale": [
             [
              0,
              "#0d0887"
             ],
             [
              0.1111111111111111,
              "#46039f"
             ],
             [
              0.2222222222222222,
              "#7201a8"
             ],
             [
              0.3333333333333333,
              "#9c179e"
             ],
             [
              0.4444444444444444,
              "#bd3786"
             ],
             [
              0.5555555555555556,
              "#d8576b"
             ],
             [
              0.6666666666666666,
              "#ed7953"
             ],
             [
              0.7777777777777778,
              "#fb9f3a"
             ],
             [
              0.8888888888888888,
              "#fdca26"
             ],
             [
              1,
              "#f0f921"
             ]
            ],
            "type": "heatmap"
           }
          ],
          "histogram": [
           {
            "marker": {
             "pattern": {
              "fillmode": "overlay",
              "size": 10,
              "solidity": 0.2
             }
            },
            "type": "histogram"
           }
          ],
          "histogram2d": [
           {
            "colorbar": {
             "outlinewidth": 0,
             "ticks": ""
            },
            "colorscale": [
             [
              0,
              "#0d0887"
             ],
             [
              0.1111111111111111,
              "#46039f"
             ],
             [
              0.2222222222222222,
              "#7201a8"
             ],
             [
              0.3333333333333333,
              "#9c179e"
             ],
             [
              0.4444444444444444,
              "#bd3786"
             ],
             [
              0.5555555555555556,
              "#d8576b"
             ],
             [
              0.6666666666666666,
              "#ed7953"
             ],
             [
              0.7777777777777778,
              "#fb9f3a"
             ],
             [
              0.8888888888888888,
              "#fdca26"
             ],
             [
              1,
              "#f0f921"
             ]
            ],
            "type": "histogram2d"
           }
          ],
          "histogram2dcontour": [
           {
            "colorbar": {
             "outlinewidth": 0,
             "ticks": ""
            },
            "colorscale": [
             [
              0,
              "#0d0887"
             ],
             [
              0.1111111111111111,
              "#46039f"
             ],
             [
              0.2222222222222222,
              "#7201a8"
             ],
             [
              0.3333333333333333,
              "#9c179e"
             ],
             [
              0.4444444444444444,
              "#bd3786"
             ],
             [
              0.5555555555555556,
              "#d8576b"
             ],
             [
              0.6666666666666666,
              "#ed7953"
             ],
             [
              0.7777777777777778,
              "#fb9f3a"
             ],
             [
              0.8888888888888888,
              "#fdca26"
             ],
             [
              1,
              "#f0f921"
             ]
            ],
            "type": "histogram2dcontour"
           }
          ],
          "mesh3d": [
           {
            "colorbar": {
             "outlinewidth": 0,
             "ticks": ""
            },
            "type": "mesh3d"
           }
          ],
          "parcoords": [
           {
            "line": {
             "colorbar": {
              "outlinewidth": 0,
              "ticks": ""
             }
            },
            "type": "parcoords"
           }
          ],
          "pie": [
           {
            "automargin": true,
            "type": "pie"
           }
          ],
          "scatter": [
           {
            "fillpattern": {
             "fillmode": "overlay",
             "size": 10,
             "solidity": 0.2
            },
            "type": "scatter"
           }
          ],
          "scatter3d": [
           {
            "line": {
             "colorbar": {
              "outlinewidth": 0,
              "ticks": ""
             }
            },
            "marker": {
             "colorbar": {
              "outlinewidth": 0,
              "ticks": ""
             }
            },
            "type": "scatter3d"
           }
          ],
          "scattercarpet": [
           {
            "marker": {
             "colorbar": {
              "outlinewidth": 0,
              "ticks": ""
             }
            },
            "type": "scattercarpet"
           }
          ],
          "scattergeo": [
           {
            "marker": {
             "colorbar": {
              "outlinewidth": 0,
              "ticks": ""
             }
            },
            "type": "scattergeo"
           }
          ],
          "scattergl": [
           {
            "marker": {
             "colorbar": {
              "outlinewidth": 0,
              "ticks": ""
             }
            },
            "type": "scattergl"
           }
          ],
          "scattermap": [
           {
            "marker": {
             "colorbar": {
              "outlinewidth": 0,
              "ticks": ""
             }
            },
            "type": "scattermap"
           }
          ],
          "scattermapbox": [
           {
            "marker": {
             "colorbar": {
              "outlinewidth": 0,
              "ticks": ""
             }
            },
            "type": "scattermapbox"
           }
          ],
          "scatterpolar": [
           {
            "marker": {
             "colorbar": {
              "outlinewidth": 0,
              "ticks": ""
             }
            },
            "type": "scatterpolar"
           }
          ],
          "scatterpolargl": [
           {
            "marker": {
             "colorbar": {
              "outlinewidth": 0,
              "ticks": ""
             }
            },
            "type": "scatterpolargl"
           }
          ],
          "scatterternary": [
           {
            "marker": {
             "colorbar": {
              "outlinewidth": 0,
              "ticks": ""
             }
            },
            "type": "scatterternary"
           }
          ],
          "surface": [
           {
            "colorbar": {
             "outlinewidth": 0,
             "ticks": ""
            },
            "colorscale": [
             [
              0,
              "#0d0887"
             ],
             [
              0.1111111111111111,
              "#46039f"
             ],
             [
              0.2222222222222222,
              "#7201a8"
             ],
             [
              0.3333333333333333,
              "#9c179e"
             ],
             [
              0.4444444444444444,
              "#bd3786"
             ],
             [
              0.5555555555555556,
              "#d8576b"
             ],
             [
              0.6666666666666666,
              "#ed7953"
             ],
             [
              0.7777777777777778,
              "#fb9f3a"
             ],
             [
              0.8888888888888888,
              "#fdca26"
             ],
             [
              1,
              "#f0f921"
             ]
            ],
            "type": "surface"
           }
          ],
          "table": [
           {
            "cells": {
             "fill": {
              "color": "#EBF0F8"
             },
             "line": {
              "color": "white"
             }
            },
            "header": {
             "fill": {
              "color": "#C8D4E3"
             },
             "line": {
              "color": "white"
             }
            },
            "type": "table"
           }
          ]
         },
         "layout": {
          "annotationdefaults": {
           "arrowcolor": "#2a3f5f",
           "arrowhead": 0,
           "arrowwidth": 1
          },
          "autotypenumbers": "strict",
          "coloraxis": {
           "colorbar": {
            "outlinewidth": 0,
            "ticks": ""
           }
          },
          "colorscale": {
           "diverging": [
            [
             0,
             "#8e0152"
            ],
            [
             0.1,
             "#c51b7d"
            ],
            [
             0.2,
             "#de77ae"
            ],
            [
             0.3,
             "#f1b6da"
            ],
            [
             0.4,
             "#fde0ef"
            ],
            [
             0.5,
             "#f7f7f7"
            ],
            [
             0.6,
             "#e6f5d0"
            ],
            [
             0.7,
             "#b8e186"
            ],
            [
             0.8,
             "#7fbc41"
            ],
            [
             0.9,
             "#4d9221"
            ],
            [
             1,
             "#276419"
            ]
           ],
           "sequential": [
            [
             0,
             "#0d0887"
            ],
            [
             0.1111111111111111,
             "#46039f"
            ],
            [
             0.2222222222222222,
             "#7201a8"
            ],
            [
             0.3333333333333333,
             "#9c179e"
            ],
            [
             0.4444444444444444,
             "#bd3786"
            ],
            [
             0.5555555555555556,
             "#d8576b"
            ],
            [
             0.6666666666666666,
             "#ed7953"
            ],
            [
             0.7777777777777778,
             "#fb9f3a"
            ],
            [
             0.8888888888888888,
             "#fdca26"
            ],
            [
             1,
             "#f0f921"
            ]
           ],
           "sequentialminus": [
            [
             0,
             "#0d0887"
            ],
            [
             0.1111111111111111,
             "#46039f"
            ],
            [
             0.2222222222222222,
             "#7201a8"
            ],
            [
             0.3333333333333333,
             "#9c179e"
            ],
            [
             0.4444444444444444,
             "#bd3786"
            ],
            [
             0.5555555555555556,
             "#d8576b"
            ],
            [
             0.6666666666666666,
             "#ed7953"
            ],
            [
             0.7777777777777778,
             "#fb9f3a"
            ],
            [
             0.8888888888888888,
             "#fdca26"
            ],
            [
             1,
             "#f0f921"
            ]
           ]
          },
          "colorway": [
           "#636efa",
           "#EF553B",
           "#00cc96",
           "#ab63fa",
           "#FFA15A",
           "#19d3f3",
           "#FF6692",
           "#B6E880",
           "#FF97FF",
           "#FECB52"
          ],
          "font": {
           "color": "#2a3f5f"
          },
          "geo": {
           "bgcolor": "white",
           "lakecolor": "white",
           "landcolor": "#E5ECF6",
           "showlakes": true,
           "showland": true,
           "subunitcolor": "white"
          },
          "hoverlabel": {
           "align": "left"
          },
          "hovermode": "closest",
          "mapbox": {
           "style": "light"
          },
          "paper_bgcolor": "white",
          "plot_bgcolor": "#E5ECF6",
          "polar": {
           "angularaxis": {
            "gridcolor": "white",
            "linecolor": "white",
            "ticks": ""
           },
           "bgcolor": "#E5ECF6",
           "radialaxis": {
            "gridcolor": "white",
            "linecolor": "white",
            "ticks": ""
           }
          },
          "scene": {
           "xaxis": {
            "backgroundcolor": "#E5ECF6",
            "gridcolor": "white",
            "gridwidth": 2,
            "linecolor": "white",
            "showbackground": true,
            "ticks": "",
            "zerolinecolor": "white"
           },
           "yaxis": {
            "backgroundcolor": "#E5ECF6",
            "gridcolor": "white",
            "gridwidth": 2,
            "linecolor": "white",
            "showbackground": true,
            "ticks": "",
            "zerolinecolor": "white"
           },
           "zaxis": {
            "backgroundcolor": "#E5ECF6",
            "gridcolor": "white",
            "gridwidth": 2,
            "linecolor": "white",
            "showbackground": true,
            "ticks": "",
            "zerolinecolor": "white"
           }
          },
          "shapedefaults": {
           "line": {
            "color": "#2a3f5f"
           }
          },
          "ternary": {
           "aaxis": {
            "gridcolor": "white",
            "linecolor": "white",
            "ticks": ""
           },
           "baxis": {
            "gridcolor": "white",
            "linecolor": "white",
            "ticks": ""
           },
           "bgcolor": "#E5ECF6",
           "caxis": {
            "gridcolor": "white",
            "linecolor": "white",
            "ticks": ""
           }
          },
          "title": {
           "x": 0.05
          },
          "xaxis": {
           "automargin": true,
           "gridcolor": "white",
           "linecolor": "white",
           "ticks": "",
           "title": {
            "standoff": 15
           },
           "zerolinecolor": "white",
           "zerolinewidth": 2
          },
          "yaxis": {
           "automargin": true,
           "gridcolor": "white",
           "linecolor": "white",
           "ticks": "",
           "title": {
            "standoff": 15
           },
           "zerolinecolor": "white",
           "zerolinewidth": 2
          }
         }
        },
        "width": 600
       }
      }
     },
     "metadata": {},
     "output_type": "display_data"
    }
   ],
   "source": [
    "# Betti numbers\n",
    "betti_nums = get_betti_nums(diagram, threshold)\n",
    "print(f'betti_nums = {betti_nums}')\n",
    "\n",
    "# Now the interactive 3D scatter\n",
    "x, y, z = sample[:,0], sample[:,1], sample[:,2]\n",
    "\n",
    "fig = px.scatter_3d(\n",
    "    x=x, y=y, z=z,\n",
    "    labels={'x': 'X', 'y': 'Y', 'z': 'Z'},\n",
    "    width=600, height=600,\n",
    ")\n",
    "fig.update_traces(marker={'size': 3})\n",
    "# lock axes to equal scale\n",
    "rng = max(x.max()-x.min(), y.max()-y.min(), z.max()-z.min())/2\n",
    "center = [(a.max()+a.min())/2 for a in (x,y,z)]\n",
    "axis_kwargs = [\n",
    "    {'range': (center[i]-rng, center[i]+rng)}\n",
    "    for i in range(3)\n",
    "]\n",
    "\n",
    "fig.update_layout(scene={\n",
    "    'xaxis': axis_kwargs[0],\n",
    "    'yaxis': axis_kwargs[1],\n",
    "    'zaxis': axis_kwargs[2],\n",
    "    'aspectmode': 'manual',\n",
    "    'aspectratio': {'x': 1, 'y': 1, 'z': 1}\n",
    "})\n",
    "fig.show()"
   ]
  },
  {
   "cell_type": "code",
   "execution_count": 16,
   "id": "8a18a8ba",
   "metadata": {},
   "outputs": [
    {
     "name": "stderr",
     "output_type": "stream",
     "text": [
      "2025-05-22 10:41:26,347 - src.utils.maze_loading - INFO - Attempting 100 mazes to generate 100 mazes with size: 19, percolation: 0.0, and deadend_start: True\n",
      "2025-05-22 10:41:26,452 - src.utils.maze_loading - INFO - Loaded 100 mazes with size: 19, percolation: 0.0, and deadend_start: True\n",
      "2025-05-22 10:41:26,505 - src.utils.model_loading - INFO - Loaded pi_net from models/pi_net/original.pth to device: cuda:1\n",
      "2025-05-22 10:41:26,820 - src.utils.tda - INFO - Performing TDA with embed_dim = 0, delay = 1, and X.shape = (399, 128, 44, 44) (0.791GB)\n",
      "2025-05-22 10:41:26,821 - src.utils.tda - INFO - Flattened X.shape = (399, 247808)\n"
     ]
    },
    {
     "name": "stdout",
     "output_type": "stream",
     "text": [
      "sum(latent_series).sum().item() = 4424911.0\n"
     ]
    },
    {
     "name": "stderr",
     "output_type": "stream",
     "text": [
      "2025-05-22 10:41:28,055 - src.utils.tda - INFO - Reduced X.shape = (399, 399) (0.001GB)\n",
      "2025-05-22 10:41:28,122 - src.utils.tda - INFO - Computed distance_matrix.shape = (399, 399) with max_distance = 0.000\n"
     ]
    },
    {
     "name": "stdout",
     "output_type": "stream",
     "text": [
      "[1 0]\n"
     ]
    }
   ],
   "source": [
    "from src.utils.maze_loading import load_mazes\n",
    "from src.utils.model_loading import load_model\n",
    "from src.utils.config import Hyperparameters, TDAParameters\n",
    "\n",
    "# Load mazes\n",
    "hyperparams = Hyperparameters()\n",
    "hyperparams.maze_size = 19\n",
    "hyperparams.num_mazes = 100\n",
    "inputs, solutions = load_mazes(params=hyperparams)\n",
    "\n",
    "# Load model\n",
    "#model = load_model(pretrained='models/dt_net/original.pth')\n",
    "model = load_model(pretrained='models/pi_net/original.pth')\n",
    "\n",
    "# Get latent series\n",
    "tda_params = TDAParameters()\n",
    "tda_params.iters = list(range(3001,3400))\n",
    "maze_index = 44\n",
    "input = inputs[maze_index:maze_index+1]\n",
    "latent = model.input_to_latent(inputs=input)\n",
    "latent_series = model.latent_forward(latents=latent, inputs=input, iters=tda_params.iters)\n",
    "output = model.latent_to_output(latents=latent)\n",
    "prediction = model.output_to_prediction(outputs=output, inputs=input)\n",
    "print(f'{sum(latent_series).sum().item() = }')\n",
    "\n",
    "# Get persistence diagram\n",
    "threshold = 0.5\n",
    "diagram, _ = get_diagram(latent_series=latent_series, dtype=tda_params.dtype, max_homo=tda_params.max_homo)\n",
    "print(get_betti_nums(diagram=diagram, threshold=threshold))\n",
    "plot_diagram(diagram=diagram, threshold=threshold)"
   ]
  },
  {
   "cell_type": "code",
   "execution_count": 17,
   "id": "fcef2345",
   "metadata": {},
   "outputs": [
    {
     "name": "stderr",
     "output_type": "stream",
     "text": [
      "/home/brandon/robust-maze-learning/src/utils/tda.py:425: UserWarning:\n",
      "\n",
      "To copy construct from a tensor, it is recommended to use sourceTensor.clone().detach() or sourceTensor.clone().detach().requires_grad_(True), rather than torch.tensor(sourceTensor).\n",
      "\n"
     ]
    },
    {
     "data": {
      "application/vnd.plotly.v1+json": {
       "config": {
        "plotlyServerURL": "https://plot.ly"
       },
       "data": [
        {
         "hovertemplate": "PC1=%{x}<br>PC2=%{y}<br>PC3=%{z}<extra></extra>",
         "legendgroup": "",
         "marker": {
          "color": "#636efa",
          "size": 3,
          "symbol": "circle"
         },
         "mode": "markers",
         "name": "",
         "scene": "scene",
         "showlegend": false,
         "type": "scatter3d",
         "x": {
          "bdata": "gdE2N4HRNjeB0TY3gdE2N4HRNjeB0TY3gdE2N4HRNjeB0TY3gdE2N4HRNjeB0TY3gdE2N4HRNjeB0TY3gdE2N4HRNjeB0TY3gdE2N4HRNjeB0TY3gdE2N4HRNjeB0TY3gdE2N4HRNjeB0TY3gdE2N4HRNjeB0TY3gdE2N4HRNjeB0TY3gdE2N4HRNjeB0TY3gdE2N4HRNjeB0TY3gdE2N4HRNjeB0TY3gdE2N4HRNjeB0TY3gdE2N4HRNjeB0TY3gdE2N4HRNjeB0TY3gdE2N4HRNjeB0TY3gdE2N4HRNjeB0TY3gdE2N4HRNjeB0TY3gdE2N4HRNjeB0TY3gdE2N4HRNjeB0TY3gdE2N4HRNjeB0TY3gdE2N4HRNjeB0TY3gdE2N4HRNjeB0TY3gdE2N4HRNjeB0TY3gdE2N4HRNjeB0TY3gdE2N4HRNjeB0TY3gdE2N4HRNjeB0TY3gdE2N4HRNjeB0TY3gdE2N4HRNjeB0TY3gdE2N4HRNjeB0TY3gdE2N4HRNjeB0TY3gdE2N4HRNjeB0TY3gdE2N4HRNjeB0TY3gdE2N4HRNjeB0TY3gdE2N4HRNjeB0TY3gdE2N4HRNjeB0TY3gdE2N4HRNjeB0TY3gdE2N4HRNjeB0TY3gdE2N4HRNjeB0TY3gdE2N4HRNjeB0TY3gdE2N4HRNjeB0TY3gdE2N4HRNjeB0TY3gdE2N4HRNjeB0TY3gdE2N4HRNjeB0TY3gdE2N4HRNjeB0TY3gdE2N4HRNjeB0TY3gdE2N4HRNjeB0TY3gdE2N4HRNjeB0TY3gdE2N4HRNjeB0TY3gdE2N4HRNjeB0TY3gdE2N4HRNjeB0TY3gdE2N4HRNjeB0TY3gdE2N4HRNjeB0TY3gdE2N4HRNjeB0TY3gdE2N4HRNjeB0TY3gdE2N4HRNjeB0TY3gdE2N4HRNjeB0TY3gdE2N4HRNjeB0TY3gdE2N4HRNjeB0TY3gdE2N4HRNjeB0TY3gdE2N4HRNjeB0TY3gdE2N4HRNjeB0TY3gdE2N4HRNjeB0TY3gdE2N4HRNjeB0TY3gdE2N4HRNjeB0TY3gdE2N4HRNjeB0TY3gdE2N4HRNjeB0TY3gdE2N4HRNjeB0TY3gdE2N4HRNjeB0TY3gdE2N4HRNjeB0TY3gdE2N4HRNjeB0TY3gdE2N4HRNjeB0TY3gdE2N4HRNjeB0TY3gdE2N4HRNjeB0TY3gdE2N4HRNjeB0TY3gdE2N4HRNjeB0TY3gdE2N4HRNjeB0TY3gdE2N4HRNjeB0TY3gdE2N4HRNjeB0TY3gdE2N4HRNjeB0TY3gdE2N4HRNjeB0TY3gdE2N4HRNjeB0TY3gdE2N4HRNjeB0TY3gdE2N4HRNjeB0TY3gdE2N4HRNjeB0TY3gdE2N4HRNjeB0TY3gdE2N4HRNjeB0TY3gdE2N4HRNjeB0TY3gdE2N4HRNjeB0TY3gdE2N4HRNjeB0TY3gdE2N4HRNjeB0TY3gdE2N4HRNjeB0TY3gdE2N4HRNjeB0TY3gdE2N4HRNjeB0TY3gdE2N4HRNjeB0TY3gdE2N4HRNjeB0TY3gdE2N4HRNjeB0TY3gdE2N4HRNjeB0TY3gdE2N4HRNjeB0TY3gdE2N4HRNjeB0TY3gdE2N4HRNjeB0TY3gdE2N4HRNjeB0TY3gdE2N4HRNjeB0TY3gdE2N4HRNjeB0TY3gdE2N4HRNjeB0TY3gdE2N4HRNjeB0TY3gdE2N4HRNjeB0TY3gdE2N4HRNjeB0TY3gdE2N4HRNjeB0TY3gdE2N4HRNjeB0TY3gdE2N4HRNjeB0TY3gdE2N4HRNjeB0TY3gdE2N4HRNjeB0TY3gdE2N4HRNjeB0TY3gdE2N4HRNjeB0TY3gdE2N4HRNjeB0TY3gdE2N4HRNjeB0TY3gdE2N4HRNjeB0TY3gdE2N4HRNjeB0TY3gdE2N4HRNjeB0TY3gdE2N4HRNjeB0TY3gdE2N4HRNjeB0TY3gdE2N4HRNjeB0TY3gdE2N4HRNjeB0TY3gdE2N4HRNjeB0TY3gdE2N4HRNjeB0TY3gdE2N4HRNjeB0TY3gdE2N4HRNjeB0TY3gdE2N4HRNjeB0TY3gdE2N4HRNjeB0TY3gdE2N4HRNjeB0TY3",
          "dtype": "f4"
         },
         "y": {
          "bdata": "EPAOrhDwDq4Q8A6uEPAOrhDwDq4Q8A6uEPAOrhDwDq4Q8A6uEPAOrhDwDq4Q8A6uEPAOrhDwDq4Q8A6uEPAOrhDwDq4Q8A6uEPAOrhDwDq4Q8A6uEPAOrhDwDq4Q8A6uEPAOrhDwDq4Q8A6uEPAOrhDwDq4Q8A6uEPAOrhDwDq4Q8A6uEPAOrhDwDq4Q8A6uEPAOrhDwDq4Q8A6uEPAOrhDwDq4Q8A6uEPAOrhDwDq4Q8A6uEPAOrhDwDq4Q8A6uEPAOrhDwDq4Q8A6uEPAOrhDwDq4Q8A6uEPAOrhDwDq4Q8A6uEPAOrhDwDq4Q8A6uEPAOrhDwDq4Q8A6uEPAOrhDwDq4Q8A6uEPAOrhDwDq4Q8A6uEPAOrhDwDq4Q8A6uEPAOrhDwDq4Q8A6uEPAOrhDwDq4Q8A6uEPAOrhDwDq4Q8A6uEPAOrhDwDq4Q8A6uEPAOrhDwDq4Q8A6uEPAOrhDwDq4Q8A6uEPAOrhDwDq4Q8A6uEPAOrhDwDq4Q8A6uEPAOrhDwDq4Q8A6uEPAOrhDwDq4Q8A6uEPAOrhDwDq4Q8A6uEPAOrhDwDq4Q8A6uEPAOrhDwDq4Q8A6uEPAOrhDwDq4Q8A6uEPAOrhDwDq4Q8A6uEPAOrhDwDq4Q8A6uEPAOrhDwDq4Q8A6uEPAOrhDwDq4Q8A6uEPAOrhDwDq4Q8A6uEPAOrhDwDq4Q8A6uEPAOrhDwDq4Q8A6uEPAOrhDwDq4Q8A6uEPAOrhDwDq4Q8A6uEPAOrhDwDq4Q8A6uEPAOrhDwDq4Q8A6uEPAOrhDwDq4Q8A6uEPAOrhDwDq4Q8A6uEPAOrhDwDq4Q8A6uEPAOrhDwDq4Q8A6uEPAOrhDwDq4Q8A6uEPAOrhDwDq4Q8A6uEPAOrhDwDq4Q8A6uEPAOrhDwDq4Q8A6uEPAOrhDwDq4Q8A6uEPAOrhDwDq4Q8A6uEPAOrhDwDq4Q8A6uEPAOrhDwDq4Q8A6uEPAOrhDwDq4Q8A6uEPAOrhDwDq4Q8A6uEPAOrhDwDq4Q8A6uEPAOrhDwDq4Q8A6uEPAOrhDwDq4Q8A6uEPAOrhDwDq4Q8A6uEPAOrhDwDq4Q8A6uEPAOrhDwDq4Q8A6uEPAOrhDwDq4Q8A6uEPAOrhDwDq4Q8A6uEPAOrhDwDq4Q8A6uEPAOrhDwDq4Q8A6uEPAOrhDwDq4Q8A6uEPAOrhDwDq4Q8A6uEPAOrhDwDq4Q8A6uEPAOrhDwDq4Q8A6uEPAOrhDwDq4Q8A6uEPAOrhDwDq4Q8A6uEPAOrhDwDq4Q8A6uEPAOrhDwDq4Q8A6uEPAOrhDwDq4Q8A6uEPAOrhDwDq4Q8A6uEPAOrhDwDq4Q8A6uEPAOrhDwDq4Q8A6uEPAOrhDwDq4Q8A6uEPAOrhDwDq4Q8A6uEPAOrhDwDq4Q8A6uEPAOrhDwDq4Q8A6uEPAOrhDwDq4Q8A6uEPAOrhDwDq4Q8A6uEPAOrhDwDq4Q8A6uEPAOrhDwDq4Q8A6uEPAOrhDwDq4Q8A6uEPAOrhDwDq4Q8A6uEPAOrhDwDq4Q8A6uEPAOrhDwDq4Q8A6uEPAOrhDwDq4Q8A6uEPAOrhDwDq4Q8A6uEPAOrhDwDq4Q8A6uEPAOrhDwDq4Q8A6uEPAOrhDwDq4Q8A6uEPAOrhDwDq4Q8A6uEPAOrhDwDq4Q8A6uEPAOrhDwDq4Q8A6uEPAOrhDwDq4Q8A6uEPAOrhDwDq4Q8A6uEPAOrhDwDq4Q8A6uEPAOrhDwDq4Q8A6uEPAOrhDwDq4Q8A6uEPAOrhDwDq4Q8A6uEPAOrhDwDq4Q8A6uEPAOrhDwDq4Q8A6uEPAOrhDwDq4Q8A6uEPAOrhDwDq4Q8A6uEPAOrhDwDq4Q8A6uEPAOrhDwDq4Q8A6uEPAOrhDwDq4Q8A6uEPAOrhDwDq4Q8A6uEPAOrhDwDq4Q8A6uEPAOrhDwDq4Q8A6uEPAOrhDwDq4Q8A6uEPAOrhDwDq4Q8A6uEPAOrhDwDq4Q8A6uEPAOrhDwDq4Q8A6uEPAOrhDwDq4Q8A6uEPAOrhDwDq4Q8A6uEPAOrhDwDq4Q8A6uEPAOrhDwDq4Q8A6uEPAOrhDwDq4Q8A6uEPAOrhDwDq4Q8A6uEPAOrhDwDq4Q8A6uEPAOrhDwDq4Q8A6u",
          "dtype": "f4"
         },
         "z": {
          "bdata": "wBEcrcARHK3AERytwBEcrcARHK3AERytwBEcrcARHK3AERytwBEcrcARHK3AERytwBEcrcARHK3AERytwBEcrcARHK3AERytwBEcrcARHK3AERytwBEcrcARHK3AERytwBEcrcARHK3AERytwBEcrcARHK3AERytwBEcrcARHK3AERytwBEcrcARHK3AERytwBEcrcARHK3AERytwBEcrcARHK3AERytwBEcrcARHK3AERytwBEcrcARHK3AERytwBEcrcARHK3AERytwBEcrcARHK3AERytwBEcrcARHK3AERytwBEcrcARHK3AERytwBEcrcARHK3AERytwBEcrcARHK3AERytwBEcrcARHK3AERytwBEcrcARHK3AERytwBEcrcARHK3AERytwBEcrcARHK3AERytwBEcrcARHK3AERytwBEcrcARHK3AERytwBEcrcARHK3AERytwBEcrcARHK3AERytwBEcrcARHK3AERytwBEcrcARHK3AERytwBEcrcARHK3AERytwBEcrcARHK3AERytwBEcrcARHK3AERytwBEcrcARHK3AERytwBEcrcARHK3AERytwBEcrcARHK3AERytwBEcrcARHK3AERytwBEcrcARHK3AERytwBEcrcARHK3AERytwBEcrcARHK3AERytwBEcrcARHK3AERytwBEcrcARHK3AERytwBEcrcARHK3AERytwBEcrcARHK3AERytwBEcrcARHK3AERytwBEcrcARHK3AERytwBEcrcARHK3AERytwBEcrcARHK3AERytwBEcrcARHK3AERytwBEcrcARHK3AERytwBEcrcARHK3AERytwBEcrcARHK3AERytwBEcrcARHK3AERytwBEcrcARHK3AERytwBEcrcARHK3AERytwBEcrcARHK3AERytwBEcrcARHK3AERytwBEcrcARHK3AERytwBEcrcARHK3AERytwBEcrcARHK3AERytwBEcrcARHK3AERytwBEcrcARHK3AERytwBEcrcARHK3AERytwBEcrcARHK3AERytwBEcrcARHK3AERytwBEcrcARHK3AERytwBEcrcARHK3AERytwBEcrcARHK3AERytwBEcrcARHK3AERytwBEcrcARHK3AERytwBEcrcARHK3AERytwBEcrcARHK3AERytwBEcrcARHK3AERytwBEcrcARHK3AERytwBEcrcARHK3AERytwBEcrcARHK3AERytwBEcrcARHK3AERytwBEcrcARHK3AERytwBEcrcARHK3AERytwBEcrcARHK3AERytwBEcrcARHK3AERytwBEcrcARHK3AERytwBEcrcARHK3AERytwBEcrcARHK3AERytwBEcrcARHK3AERytwBEcrcARHK3AERytwBEcrcARHK3AERytwBEcrcARHK3AERytwBEcrcARHK3AERytwBEcrcARHK3AERytwBEcrcARHK3AERytwBEcrcARHK3AERytwBEcrcARHK3AERytwBEcrcARHK3AERytwBEcrcARHK3AERytwBEcrcARHK3AERytwBEcrcARHK3AERytwBEcrcARHK3AERytwBEcrcARHK3AERytwBEcrcARHK3AERytwBEcrcARHK3AERytwBEcrcARHK3AERytwBEcrcARHK3AERytwBEcrcARHK3AERytwBEcrcARHK3AERytwBEcrcARHK3AERytwBEcrcARHK3AERytwBEcrcARHK3AERytwBEcrcARHK3AERytwBEcrcARHK3AERytwBEcrcARHK3AERytwBEcrcARHK3AERytwBEcrcARHK3AERytwBEcrcARHK3AERytwBEcrcARHK3AERytwBEcrcARHK3AERytwBEcrcARHK3AERytwBEcrcARHK3AERytwBEcrcARHK3AERytwBEcrcARHK3AERytwBEcrcARHK3AERytwBEcrcARHK3AERytwBEcrcARHK3AERytwBEcrcARHK3AERytwBEcrcARHK3AERytwBEcrcARHK3AERytwBEcrcARHK3AERytwBEcrcARHK3AERytwBEcrcARHK3AERytwBEcrcARHK3AERytwBEcrcARHK3AERyt",
          "dtype": "f4"
         }
        }
       ],
       "layout": {
        "height": 600,
        "legend": {
         "tracegroupgap": 0
        },
        "margin": {
         "t": 60
        },
        "scene": {
         "aspectmode": "manual",
         "aspectratio": {
          "x": 1,
          "y": 1,
          "z": 1
         },
         "domain": {
          "x": [
           0,
           1
          ],
          "y": [
           0,
           1
          ]
         },
         "xaxis": {
          "title": {
           "text": "PC1"
          }
         },
         "yaxis": {
          "title": {
           "text": "PC2"
          }
         },
         "zaxis": {
          "title": {
           "text": "PC3"
          }
         }
        },
        "template": {
         "data": {
          "bar": [
           {
            "error_x": {
             "color": "#2a3f5f"
            },
            "error_y": {
             "color": "#2a3f5f"
            },
            "marker": {
             "line": {
              "color": "#E5ECF6",
              "width": 0.5
             },
             "pattern": {
              "fillmode": "overlay",
              "size": 10,
              "solidity": 0.2
             }
            },
            "type": "bar"
           }
          ],
          "barpolar": [
           {
            "marker": {
             "line": {
              "color": "#E5ECF6",
              "width": 0.5
             },
             "pattern": {
              "fillmode": "overlay",
              "size": 10,
              "solidity": 0.2
             }
            },
            "type": "barpolar"
           }
          ],
          "carpet": [
           {
            "aaxis": {
             "endlinecolor": "#2a3f5f",
             "gridcolor": "white",
             "linecolor": "white",
             "minorgridcolor": "white",
             "startlinecolor": "#2a3f5f"
            },
            "baxis": {
             "endlinecolor": "#2a3f5f",
             "gridcolor": "white",
             "linecolor": "white",
             "minorgridcolor": "white",
             "startlinecolor": "#2a3f5f"
            },
            "type": "carpet"
           }
          ],
          "choropleth": [
           {
            "colorbar": {
             "outlinewidth": 0,
             "ticks": ""
            },
            "type": "choropleth"
           }
          ],
          "contour": [
           {
            "colorbar": {
             "outlinewidth": 0,
             "ticks": ""
            },
            "colorscale": [
             [
              0,
              "#0d0887"
             ],
             [
              0.1111111111111111,
              "#46039f"
             ],
             [
              0.2222222222222222,
              "#7201a8"
             ],
             [
              0.3333333333333333,
              "#9c179e"
             ],
             [
              0.4444444444444444,
              "#bd3786"
             ],
             [
              0.5555555555555556,
              "#d8576b"
             ],
             [
              0.6666666666666666,
              "#ed7953"
             ],
             [
              0.7777777777777778,
              "#fb9f3a"
             ],
             [
              0.8888888888888888,
              "#fdca26"
             ],
             [
              1,
              "#f0f921"
             ]
            ],
            "type": "contour"
           }
          ],
          "contourcarpet": [
           {
            "colorbar": {
             "outlinewidth": 0,
             "ticks": ""
            },
            "type": "contourcarpet"
           }
          ],
          "heatmap": [
           {
            "colorbar": {
             "outlinewidth": 0,
             "ticks": ""
            },
            "colorscale": [
             [
              0,
              "#0d0887"
             ],
             [
              0.1111111111111111,
              "#46039f"
             ],
             [
              0.2222222222222222,
              "#7201a8"
             ],
             [
              0.3333333333333333,
              "#9c179e"
             ],
             [
              0.4444444444444444,
              "#bd3786"
             ],
             [
              0.5555555555555556,
              "#d8576b"
             ],
             [
              0.6666666666666666,
              "#ed7953"
             ],
             [
              0.7777777777777778,
              "#fb9f3a"
             ],
             [
              0.8888888888888888,
              "#fdca26"
             ],
             [
              1,
              "#f0f921"
             ]
            ],
            "type": "heatmap"
           }
          ],
          "histogram": [
           {
            "marker": {
             "pattern": {
              "fillmode": "overlay",
              "size": 10,
              "solidity": 0.2
             }
            },
            "type": "histogram"
           }
          ],
          "histogram2d": [
           {
            "colorbar": {
             "outlinewidth": 0,
             "ticks": ""
            },
            "colorscale": [
             [
              0,
              "#0d0887"
             ],
             [
              0.1111111111111111,
              "#46039f"
             ],
             [
              0.2222222222222222,
              "#7201a8"
             ],
             [
              0.3333333333333333,
              "#9c179e"
             ],
             [
              0.4444444444444444,
              "#bd3786"
             ],
             [
              0.5555555555555556,
              "#d8576b"
             ],
             [
              0.6666666666666666,
              "#ed7953"
             ],
             [
              0.7777777777777778,
              "#fb9f3a"
             ],
             [
              0.8888888888888888,
              "#fdca26"
             ],
             [
              1,
              "#f0f921"
             ]
            ],
            "type": "histogram2d"
           }
          ],
          "histogram2dcontour": [
           {
            "colorbar": {
             "outlinewidth": 0,
             "ticks": ""
            },
            "colorscale": [
             [
              0,
              "#0d0887"
             ],
             [
              0.1111111111111111,
              "#46039f"
             ],
             [
              0.2222222222222222,
              "#7201a8"
             ],
             [
              0.3333333333333333,
              "#9c179e"
             ],
             [
              0.4444444444444444,
              "#bd3786"
             ],
             [
              0.5555555555555556,
              "#d8576b"
             ],
             [
              0.6666666666666666,
              "#ed7953"
             ],
             [
              0.7777777777777778,
              "#fb9f3a"
             ],
             [
              0.8888888888888888,
              "#fdca26"
             ],
             [
              1,
              "#f0f921"
             ]
            ],
            "type": "histogram2dcontour"
           }
          ],
          "mesh3d": [
           {
            "colorbar": {
             "outlinewidth": 0,
             "ticks": ""
            },
            "type": "mesh3d"
           }
          ],
          "parcoords": [
           {
            "line": {
             "colorbar": {
              "outlinewidth": 0,
              "ticks": ""
             }
            },
            "type": "parcoords"
           }
          ],
          "pie": [
           {
            "automargin": true,
            "type": "pie"
           }
          ],
          "scatter": [
           {
            "fillpattern": {
             "fillmode": "overlay",
             "size": 10,
             "solidity": 0.2
            },
            "type": "scatter"
           }
          ],
          "scatter3d": [
           {
            "line": {
             "colorbar": {
              "outlinewidth": 0,
              "ticks": ""
             }
            },
            "marker": {
             "colorbar": {
              "outlinewidth": 0,
              "ticks": ""
             }
            },
            "type": "scatter3d"
           }
          ],
          "scattercarpet": [
           {
            "marker": {
             "colorbar": {
              "outlinewidth": 0,
              "ticks": ""
             }
            },
            "type": "scattercarpet"
           }
          ],
          "scattergeo": [
           {
            "marker": {
             "colorbar": {
              "outlinewidth": 0,
              "ticks": ""
             }
            },
            "type": "scattergeo"
           }
          ],
          "scattergl": [
           {
            "marker": {
             "colorbar": {
              "outlinewidth": 0,
              "ticks": ""
             }
            },
            "type": "scattergl"
           }
          ],
          "scattermap": [
           {
            "marker": {
             "colorbar": {
              "outlinewidth": 0,
              "ticks": ""
             }
            },
            "type": "scattermap"
           }
          ],
          "scattermapbox": [
           {
            "marker": {
             "colorbar": {
              "outlinewidth": 0,
              "ticks": ""
             }
            },
            "type": "scattermapbox"
           }
          ],
          "scatterpolar": [
           {
            "marker": {
             "colorbar": {
              "outlinewidth": 0,
              "ticks": ""
             }
            },
            "type": "scatterpolar"
           }
          ],
          "scatterpolargl": [
           {
            "marker": {
             "colorbar": {
              "outlinewidth": 0,
              "ticks": ""
             }
            },
            "type": "scatterpolargl"
           }
          ],
          "scatterternary": [
           {
            "marker": {
             "colorbar": {
              "outlinewidth": 0,
              "ticks": ""
             }
            },
            "type": "scatterternary"
           }
          ],
          "surface": [
           {
            "colorbar": {
             "outlinewidth": 0,
             "ticks": ""
            },
            "colorscale": [
             [
              0,
              "#0d0887"
             ],
             [
              0.1111111111111111,
              "#46039f"
             ],
             [
              0.2222222222222222,
              "#7201a8"
             ],
             [
              0.3333333333333333,
              "#9c179e"
             ],
             [
              0.4444444444444444,
              "#bd3786"
             ],
             [
              0.5555555555555556,
              "#d8576b"
             ],
             [
              0.6666666666666666,
              "#ed7953"
             ],
             [
              0.7777777777777778,
              "#fb9f3a"
             ],
             [
              0.8888888888888888,
              "#fdca26"
             ],
             [
              1,
              "#f0f921"
             ]
            ],
            "type": "surface"
           }
          ],
          "table": [
           {
            "cells": {
             "fill": {
              "color": "#EBF0F8"
             },
             "line": {
              "color": "white"
             }
            },
            "header": {
             "fill": {
              "color": "#C8D4E3"
             },
             "line": {
              "color": "white"
             }
            },
            "type": "table"
           }
          ]
         },
         "layout": {
          "annotationdefaults": {
           "arrowcolor": "#2a3f5f",
           "arrowhead": 0,
           "arrowwidth": 1
          },
          "autotypenumbers": "strict",
          "coloraxis": {
           "colorbar": {
            "outlinewidth": 0,
            "ticks": ""
           }
          },
          "colorscale": {
           "diverging": [
            [
             0,
             "#8e0152"
            ],
            [
             0.1,
             "#c51b7d"
            ],
            [
             0.2,
             "#de77ae"
            ],
            [
             0.3,
             "#f1b6da"
            ],
            [
             0.4,
             "#fde0ef"
            ],
            [
             0.5,
             "#f7f7f7"
            ],
            [
             0.6,
             "#e6f5d0"
            ],
            [
             0.7,
             "#b8e186"
            ],
            [
             0.8,
             "#7fbc41"
            ],
            [
             0.9,
             "#4d9221"
            ],
            [
             1,
             "#276419"
            ]
           ],
           "sequential": [
            [
             0,
             "#0d0887"
            ],
            [
             0.1111111111111111,
             "#46039f"
            ],
            [
             0.2222222222222222,
             "#7201a8"
            ],
            [
             0.3333333333333333,
             "#9c179e"
            ],
            [
             0.4444444444444444,
             "#bd3786"
            ],
            [
             0.5555555555555556,
             "#d8576b"
            ],
            [
             0.6666666666666666,
             "#ed7953"
            ],
            [
             0.7777777777777778,
             "#fb9f3a"
            ],
            [
             0.8888888888888888,
             "#fdca26"
            ],
            [
             1,
             "#f0f921"
            ]
           ],
           "sequentialminus": [
            [
             0,
             "#0d0887"
            ],
            [
             0.1111111111111111,
             "#46039f"
            ],
            [
             0.2222222222222222,
             "#7201a8"
            ],
            [
             0.3333333333333333,
             "#9c179e"
            ],
            [
             0.4444444444444444,
             "#bd3786"
            ],
            [
             0.5555555555555556,
             "#d8576b"
            ],
            [
             0.6666666666666666,
             "#ed7953"
            ],
            [
             0.7777777777777778,
             "#fb9f3a"
            ],
            [
             0.8888888888888888,
             "#fdca26"
            ],
            [
             1,
             "#f0f921"
            ]
           ]
          },
          "colorway": [
           "#636efa",
           "#EF553B",
           "#00cc96",
           "#ab63fa",
           "#FFA15A",
           "#19d3f3",
           "#FF6692",
           "#B6E880",
           "#FF97FF",
           "#FECB52"
          ],
          "font": {
           "color": "#2a3f5f"
          },
          "geo": {
           "bgcolor": "white",
           "lakecolor": "white",
           "landcolor": "#E5ECF6",
           "showlakes": true,
           "showland": true,
           "subunitcolor": "white"
          },
          "hoverlabel": {
           "align": "left"
          },
          "hovermode": "closest",
          "mapbox": {
           "style": "light"
          },
          "paper_bgcolor": "white",
          "plot_bgcolor": "#E5ECF6",
          "polar": {
           "angularaxis": {
            "gridcolor": "white",
            "linecolor": "white",
            "ticks": ""
           },
           "bgcolor": "#E5ECF6",
           "radialaxis": {
            "gridcolor": "white",
            "linecolor": "white",
            "ticks": ""
           }
          },
          "scene": {
           "xaxis": {
            "backgroundcolor": "#E5ECF6",
            "gridcolor": "white",
            "gridwidth": 2,
            "linecolor": "white",
            "showbackground": true,
            "ticks": "",
            "zerolinecolor": "white"
           },
           "yaxis": {
            "backgroundcolor": "#E5ECF6",
            "gridcolor": "white",
            "gridwidth": 2,
            "linecolor": "white",
            "showbackground": true,
            "ticks": "",
            "zerolinecolor": "white"
           },
           "zaxis": {
            "backgroundcolor": "#E5ECF6",
            "gridcolor": "white",
            "gridwidth": 2,
            "linecolor": "white",
            "showbackground": true,
            "ticks": "",
            "zerolinecolor": "white"
           }
          },
          "shapedefaults": {
           "line": {
            "color": "#2a3f5f"
           }
          },
          "ternary": {
           "aaxis": {
            "gridcolor": "white",
            "linecolor": "white",
            "ticks": ""
           },
           "baxis": {
            "gridcolor": "white",
            "linecolor": "white",
            "ticks": ""
           },
           "bgcolor": "#E5ECF6",
           "caxis": {
            "gridcolor": "white",
            "linecolor": "white",
            "ticks": ""
           }
          },
          "title": {
           "x": 0.05
          },
          "xaxis": {
           "automargin": true,
           "gridcolor": "white",
           "linecolor": "white",
           "ticks": "",
           "title": {
            "standoff": 15
           },
           "zerolinecolor": "white",
           "zerolinewidth": 2
          },
          "yaxis": {
           "automargin": true,
           "gridcolor": "white",
           "linecolor": "white",
           "ticks": "",
           "title": {
            "standoff": 15
           },
           "zerolinecolor": "white",
           "zerolinewidth": 2
          }
         }
        },
        "width": 600
       }
      }
     },
     "metadata": {},
     "output_type": "display_data"
    }
   ],
   "source": [
    "from src.utils.tda import get_pca\n",
    "pca = get_pca(X=latent_series, n=3)\n",
    "\n",
    "# Now the interactive 3D scatter\n",
    "pc1, pc2, pc3 = pca[:,0], pca[:,1], pca[:,2]\n",
    "\n",
    "fig = px.scatter_3d(\n",
    "    x=pc1, y=pc2, z=pc3,\n",
    "    labels={'x': 'PC1', 'y': 'PC2', 'z': 'PC3'},\n",
    "    width=600, height=600,\n",
    ")\n",
    "fig.update_traces(marker={'size': 3})\n",
    "# lock axes to equal scale\n",
    "rng = max(pc1.max()-pc1.min(), pc2.max()-pc2.min(), pc3.max()-pc3.min())/2\n",
    "center = [(a.max()+a.min())/2 for a in (pc1, pc2, pc3)]\n",
    "axis_kwargs = [\n",
    "    {'range': (center[i]-rng, center[i]+rng)}\n",
    "    for i in range(3)\n",
    "]\n",
    "\n",
    "fig.update_layout(scene={\n",
    "    'xaxis_title':'PC1',\n",
    "    'yaxis_title':'PC2',\n",
    "    'zaxis_title':'PC3',\n",
    "    'aspectmode': 'manual',\n",
    "    'aspectratio': {'x': 1, 'y': 1, 'z': 1}\n",
    "})\n",
    "fig.show()\n"
   ]
  },
  {
   "cell_type": "code",
   "execution_count": 18,
   "id": "1e79ff4e",
   "metadata": {},
   "outputs": [
    {
     "data": {
      "application/javascript": "/* Put everything inside the global mpl namespace */\n/* global mpl */\nwindow.mpl = {};\n\nmpl.get_websocket_type = function () {\n    if (typeof WebSocket !== 'undefined') {\n        return WebSocket;\n    } else if (typeof MozWebSocket !== 'undefined') {\n        return MozWebSocket;\n    } else {\n        alert(\n            'Your browser does not have WebSocket support. ' +\n                'Please try Chrome, Safari or Firefox ≥ 6. ' +\n                'Firefox 4 and 5 are also supported but you ' +\n                'have to enable WebSockets in about:config.'\n        );\n    }\n};\n\nmpl.figure = function (figure_id, websocket, ondownload, parent_element) {\n    this.id = figure_id;\n\n    this.ws = websocket;\n\n    this.supports_binary = this.ws.binaryType !== undefined;\n\n    if (!this.supports_binary) {\n        var warnings = document.getElementById('mpl-warnings');\n        if (warnings) {\n            warnings.style.display = 'block';\n            warnings.textContent =\n                'This browser does not support binary websocket messages. ' +\n                'Performance may be slow.';\n        }\n    }\n\n    this.imageObj = new Image();\n\n    this.context = undefined;\n    this.message = undefined;\n    this.canvas = undefined;\n    this.rubberband_canvas = undefined;\n    this.rubberband_context = undefined;\n    this.format_dropdown = undefined;\n\n    this.image_mode = 'full';\n\n    this.root = document.createElement('div');\n    this.root.setAttribute('style', 'display: inline-block');\n    this._root_extra_style(this.root);\n\n    parent_element.appendChild(this.root);\n\n    this._init_header(this);\n    this._init_canvas(this);\n    this._init_toolbar(this);\n\n    var fig = this;\n\n    this.waiting = false;\n\n    this.ws.onopen = function () {\n        fig.send_message('supports_binary', { value: fig.supports_binary });\n        fig.send_message('send_image_mode', {});\n        if (fig.ratio !== 1) {\n            fig.send_message('set_device_pixel_ratio', {\n                device_pixel_ratio: fig.ratio,\n            });\n        }\n        fig.send_message('refresh', {});\n    };\n\n    this.imageObj.onload = function () {\n        if (fig.image_mode === 'full') {\n            // Full images could contain transparency (where diff images\n            // almost always do), so we need to clear the canvas so that\n            // there is no ghosting.\n            fig.context.clearRect(0, 0, fig.canvas.width, fig.canvas.height);\n        }\n        fig.context.drawImage(fig.imageObj, 0, 0);\n    };\n\n    this.imageObj.onunload = function () {\n        fig.ws.close();\n    };\n\n    this.ws.onmessage = this._make_on_message_function(this);\n\n    this.ondownload = ondownload;\n};\n\nmpl.figure.prototype._init_header = function () {\n    var titlebar = document.createElement('div');\n    titlebar.classList =\n        'ui-dialog-titlebar ui-widget-header ui-corner-all ui-helper-clearfix';\n    var titletext = document.createElement('div');\n    titletext.classList = 'ui-dialog-title';\n    titletext.setAttribute(\n        'style',\n        'width: 100%; text-align: center; padding: 3px;'\n    );\n    titlebar.appendChild(titletext);\n    this.root.appendChild(titlebar);\n    this.header = titletext;\n};\n\nmpl.figure.prototype._canvas_extra_style = function (_canvas_div) {};\n\nmpl.figure.prototype._root_extra_style = function (_canvas_div) {};\n\nmpl.figure.prototype._init_canvas = function () {\n    var fig = this;\n\n    var canvas_div = (this.canvas_div = document.createElement('div'));\n    canvas_div.setAttribute('tabindex', '0');\n    canvas_div.setAttribute(\n        'style',\n        'border: 1px solid #ddd;' +\n            'box-sizing: content-box;' +\n            'clear: both;' +\n            'min-height: 1px;' +\n            'min-width: 1px;' +\n            'outline: 0;' +\n            'overflow: hidden;' +\n            'position: relative;' +\n            'resize: both;' +\n            'z-index: 2;'\n    );\n\n    function on_keyboard_event_closure(name) {\n        return function (event) {\n            return fig.key_event(event, name);\n        };\n    }\n\n    canvas_div.addEventListener(\n        'keydown',\n        on_keyboard_event_closure('key_press')\n    );\n    canvas_div.addEventListener(\n        'keyup',\n        on_keyboard_event_closure('key_release')\n    );\n\n    this._canvas_extra_style(canvas_div);\n    this.root.appendChild(canvas_div);\n\n    var canvas = (this.canvas = document.createElement('canvas'));\n    canvas.classList.add('mpl-canvas');\n    canvas.setAttribute(\n        'style',\n        'box-sizing: content-box;' +\n            'pointer-events: none;' +\n            'position: relative;' +\n            'z-index: 0;'\n    );\n\n    this.context = canvas.getContext('2d');\n\n    var backingStore =\n        this.context.backingStorePixelRatio ||\n        this.context.webkitBackingStorePixelRatio ||\n        this.context.mozBackingStorePixelRatio ||\n        this.context.msBackingStorePixelRatio ||\n        this.context.oBackingStorePixelRatio ||\n        this.context.backingStorePixelRatio ||\n        1;\n\n    this.ratio = (window.devicePixelRatio || 1) / backingStore;\n\n    var rubberband_canvas = (this.rubberband_canvas = document.createElement(\n        'canvas'\n    ));\n    rubberband_canvas.setAttribute(\n        'style',\n        'box-sizing: content-box;' +\n            'left: 0;' +\n            'pointer-events: none;' +\n            'position: absolute;' +\n            'top: 0;' +\n            'z-index: 1;'\n    );\n\n    // Apply a ponyfill if ResizeObserver is not implemented by browser.\n    if (this.ResizeObserver === undefined) {\n        if (window.ResizeObserver !== undefined) {\n            this.ResizeObserver = window.ResizeObserver;\n        } else {\n            var obs = _JSXTOOLS_RESIZE_OBSERVER({});\n            this.ResizeObserver = obs.ResizeObserver;\n        }\n    }\n\n    this.resizeObserverInstance = new this.ResizeObserver(function (entries) {\n        // There's no need to resize if the WebSocket is not connected:\n        // - If it is still connecting, then we will get an initial resize from\n        //   Python once it connects.\n        // - If it has disconnected, then resizing will clear the canvas and\n        //   never get anything back to refill it, so better to not resize and\n        //   keep something visible.\n        if (fig.ws.readyState != 1) {\n            return;\n        }\n        var nentries = entries.length;\n        for (var i = 0; i < nentries; i++) {\n            var entry = entries[i];\n            var width, height;\n            if (entry.contentBoxSize) {\n                if (entry.contentBoxSize instanceof Array) {\n                    // Chrome 84 implements new version of spec.\n                    width = entry.contentBoxSize[0].inlineSize;\n                    height = entry.contentBoxSize[0].blockSize;\n                } else {\n                    // Firefox implements old version of spec.\n                    width = entry.contentBoxSize.inlineSize;\n                    height = entry.contentBoxSize.blockSize;\n                }\n            } else {\n                // Chrome <84 implements even older version of spec.\n                width = entry.contentRect.width;\n                height = entry.contentRect.height;\n            }\n\n            // Keep the size of the canvas and rubber band canvas in sync with\n            // the canvas container.\n            if (entry.devicePixelContentBoxSize) {\n                // Chrome 84 implements new version of spec.\n                canvas.setAttribute(\n                    'width',\n                    entry.devicePixelContentBoxSize[0].inlineSize\n                );\n                canvas.setAttribute(\n                    'height',\n                    entry.devicePixelContentBoxSize[0].blockSize\n                );\n            } else {\n                canvas.setAttribute('width', width * fig.ratio);\n                canvas.setAttribute('height', height * fig.ratio);\n            }\n            /* This rescales the canvas back to display pixels, so that it\n             * appears correct on HiDPI screens. */\n            canvas.style.width = width + 'px';\n            canvas.style.height = height + 'px';\n\n            rubberband_canvas.setAttribute('width', width);\n            rubberband_canvas.setAttribute('height', height);\n\n            // And update the size in Python. We ignore the initial 0/0 size\n            // that occurs as the element is placed into the DOM, which should\n            // otherwise not happen due to the minimum size styling.\n            if (width != 0 && height != 0) {\n                fig.request_resize(width, height);\n            }\n        }\n    });\n    this.resizeObserverInstance.observe(canvas_div);\n\n    function on_mouse_event_closure(name) {\n        /* User Agent sniffing is bad, but WebKit is busted:\n         * https://bugs.webkit.org/show_bug.cgi?id=144526\n         * https://bugs.webkit.org/show_bug.cgi?id=181818\n         * The worst that happens here is that they get an extra browser\n         * selection when dragging, if this check fails to catch them.\n         */\n        var UA = navigator.userAgent;\n        var isWebKit = /AppleWebKit/.test(UA) && !/Chrome/.test(UA);\n        if(isWebKit) {\n            return function (event) {\n                /* This prevents the web browser from automatically changing to\n                 * the text insertion cursor when the button is pressed. We\n                 * want to control all of the cursor setting manually through\n                 * the 'cursor' event from matplotlib */\n                event.preventDefault()\n                return fig.mouse_event(event, name);\n            };\n        } else {\n            return function (event) {\n                return fig.mouse_event(event, name);\n            };\n        }\n    }\n\n    canvas_div.addEventListener(\n        'mousedown',\n        on_mouse_event_closure('button_press')\n    );\n    canvas_div.addEventListener(\n        'mouseup',\n        on_mouse_event_closure('button_release')\n    );\n    canvas_div.addEventListener(\n        'dblclick',\n        on_mouse_event_closure('dblclick')\n    );\n    // Throttle sequential mouse events to 1 every 20ms.\n    canvas_div.addEventListener(\n        'mousemove',\n        on_mouse_event_closure('motion_notify')\n    );\n\n    canvas_div.addEventListener(\n        'mouseenter',\n        on_mouse_event_closure('figure_enter')\n    );\n    canvas_div.addEventListener(\n        'mouseleave',\n        on_mouse_event_closure('figure_leave')\n    );\n\n    canvas_div.addEventListener('wheel', function (event) {\n        if (event.deltaY < 0) {\n            event.step = 1;\n        } else {\n            event.step = -1;\n        }\n        on_mouse_event_closure('scroll')(event);\n    });\n\n    canvas_div.appendChild(canvas);\n    canvas_div.appendChild(rubberband_canvas);\n\n    this.rubberband_context = rubberband_canvas.getContext('2d');\n    this.rubberband_context.strokeStyle = '#000000';\n\n    this._resize_canvas = function (width, height, forward) {\n        if (forward) {\n            canvas_div.style.width = width + 'px';\n            canvas_div.style.height = height + 'px';\n        }\n    };\n\n    // Disable right mouse context menu.\n    canvas_div.addEventListener('contextmenu', function (_e) {\n        event.preventDefault();\n        return false;\n    });\n\n    function set_focus() {\n        canvas.focus();\n        canvas_div.focus();\n    }\n\n    window.setTimeout(set_focus, 100);\n};\n\nmpl.figure.prototype._init_toolbar = function () {\n    var fig = this;\n\n    var toolbar = document.createElement('div');\n    toolbar.classList = 'mpl-toolbar';\n    this.root.appendChild(toolbar);\n\n    function on_click_closure(name) {\n        return function (_event) {\n            return fig.toolbar_button_onclick(name);\n        };\n    }\n\n    function on_mouseover_closure(tooltip) {\n        return function (event) {\n            if (!event.currentTarget.disabled) {\n                return fig.toolbar_button_onmouseover(tooltip);\n            }\n        };\n    }\n\n    fig.buttons = {};\n    var buttonGroup = document.createElement('div');\n    buttonGroup.classList = 'mpl-button-group';\n    for (var toolbar_ind in mpl.toolbar_items) {\n        var name = mpl.toolbar_items[toolbar_ind][0];\n        var tooltip = mpl.toolbar_items[toolbar_ind][1];\n        var image = mpl.toolbar_items[toolbar_ind][2];\n        var method_name = mpl.toolbar_items[toolbar_ind][3];\n\n        if (!name) {\n            /* Instead of a spacer, we start a new button group. */\n            if (buttonGroup.hasChildNodes()) {\n                toolbar.appendChild(buttonGroup);\n            }\n            buttonGroup = document.createElement('div');\n            buttonGroup.classList = 'mpl-button-group';\n            continue;\n        }\n\n        var button = (fig.buttons[name] = document.createElement('button'));\n        button.classList = 'mpl-widget';\n        button.setAttribute('role', 'button');\n        button.setAttribute('aria-disabled', 'false');\n        button.addEventListener('click', on_click_closure(method_name));\n        button.addEventListener('mouseover', on_mouseover_closure(tooltip));\n\n        var icon_img = document.createElement('img');\n        icon_img.src = '_images/' + image + '.png';\n        icon_img.srcset = '_images/' + image + '_large.png 2x';\n        icon_img.alt = tooltip;\n        button.appendChild(icon_img);\n\n        buttonGroup.appendChild(button);\n    }\n\n    if (buttonGroup.hasChildNodes()) {\n        toolbar.appendChild(buttonGroup);\n    }\n\n    var fmt_picker = document.createElement('select');\n    fmt_picker.classList = 'mpl-widget';\n    toolbar.appendChild(fmt_picker);\n    this.format_dropdown = fmt_picker;\n\n    for (var ind in mpl.extensions) {\n        var fmt = mpl.extensions[ind];\n        var option = document.createElement('option');\n        option.selected = fmt === mpl.default_extension;\n        option.innerHTML = fmt;\n        fmt_picker.appendChild(option);\n    }\n\n    var status_bar = document.createElement('span');\n    status_bar.classList = 'mpl-message';\n    toolbar.appendChild(status_bar);\n    this.message = status_bar;\n};\n\nmpl.figure.prototype.request_resize = function (x_pixels, y_pixels) {\n    // Request matplotlib to resize the figure. Matplotlib will then trigger a resize in the client,\n    // which will in turn request a refresh of the image.\n    this.send_message('resize', { width: x_pixels, height: y_pixels });\n};\n\nmpl.figure.prototype.send_message = function (type, properties) {\n    properties['type'] = type;\n    properties['figure_id'] = this.id;\n    this.ws.send(JSON.stringify(properties));\n};\n\nmpl.figure.prototype.send_draw_message = function () {\n    if (!this.waiting) {\n        this.waiting = true;\n        this.ws.send(JSON.stringify({ type: 'draw', figure_id: this.id }));\n    }\n};\n\nmpl.figure.prototype.handle_save = function (fig, _msg) {\n    var format_dropdown = fig.format_dropdown;\n    var format = format_dropdown.options[format_dropdown.selectedIndex].value;\n    fig.ondownload(fig, format);\n};\n\nmpl.figure.prototype.handle_resize = function (fig, msg) {\n    var size = msg['size'];\n    if (size[0] !== fig.canvas.width || size[1] !== fig.canvas.height) {\n        fig._resize_canvas(size[0], size[1], msg['forward']);\n        fig.send_message('refresh', {});\n    }\n};\n\nmpl.figure.prototype.handle_rubberband = function (fig, msg) {\n    var x0 = msg['x0'] / fig.ratio;\n    var y0 = (fig.canvas.height - msg['y0']) / fig.ratio;\n    var x1 = msg['x1'] / fig.ratio;\n    var y1 = (fig.canvas.height - msg['y1']) / fig.ratio;\n    x0 = Math.floor(x0) + 0.5;\n    y0 = Math.floor(y0) + 0.5;\n    x1 = Math.floor(x1) + 0.5;\n    y1 = Math.floor(y1) + 0.5;\n    var min_x = Math.min(x0, x1);\n    var min_y = Math.min(y0, y1);\n    var width = Math.abs(x1 - x0);\n    var height = Math.abs(y1 - y0);\n\n    fig.rubberband_context.clearRect(\n        0,\n        0,\n        fig.canvas.width / fig.ratio,\n        fig.canvas.height / fig.ratio\n    );\n\n    fig.rubberband_context.strokeRect(min_x, min_y, width, height);\n};\n\nmpl.figure.prototype.handle_figure_label = function (fig, msg) {\n    // Updates the figure title.\n    fig.header.textContent = msg['label'];\n};\n\nmpl.figure.prototype.handle_cursor = function (fig, msg) {\n    fig.canvas_div.style.cursor = msg['cursor'];\n};\n\nmpl.figure.prototype.handle_message = function (fig, msg) {\n    fig.message.textContent = msg['message'];\n};\n\nmpl.figure.prototype.handle_draw = function (fig, _msg) {\n    // Request the server to send over a new figure.\n    fig.send_draw_message();\n};\n\nmpl.figure.prototype.handle_image_mode = function (fig, msg) {\n    fig.image_mode = msg['mode'];\n};\n\nmpl.figure.prototype.handle_history_buttons = function (fig, msg) {\n    for (var key in msg) {\n        if (!(key in fig.buttons)) {\n            continue;\n        }\n        fig.buttons[key].disabled = !msg[key];\n        fig.buttons[key].setAttribute('aria-disabled', !msg[key]);\n    }\n};\n\nmpl.figure.prototype.handle_navigate_mode = function (fig, msg) {\n    if (msg['mode'] === 'PAN') {\n        fig.buttons['Pan'].classList.add('active');\n        fig.buttons['Zoom'].classList.remove('active');\n    } else if (msg['mode'] === 'ZOOM') {\n        fig.buttons['Pan'].classList.remove('active');\n        fig.buttons['Zoom'].classList.add('active');\n    } else {\n        fig.buttons['Pan'].classList.remove('active');\n        fig.buttons['Zoom'].classList.remove('active');\n    }\n};\n\nmpl.figure.prototype.updated_canvas_event = function () {\n    // Called whenever the canvas gets updated.\n    this.send_message('ack', {});\n};\n\n// A function to construct a web socket function for onmessage handling.\n// Called in the figure constructor.\nmpl.figure.prototype._make_on_message_function = function (fig) {\n    return function socket_on_message(evt) {\n        if (evt.data instanceof Blob) {\n            var img = evt.data;\n            if (img.type !== 'image/png') {\n                /* FIXME: We get \"Resource interpreted as Image but\n                 * transferred with MIME type text/plain:\" errors on\n                 * Chrome.  But how to set the MIME type?  It doesn't seem\n                 * to be part of the websocket stream */\n                img.type = 'image/png';\n            }\n\n            /* Free the memory for the previous frames */\n            if (fig.imageObj.src) {\n                (window.URL || window.webkitURL).revokeObjectURL(\n                    fig.imageObj.src\n                );\n            }\n\n            fig.imageObj.src = (window.URL || window.webkitURL).createObjectURL(\n                img\n            );\n            fig.updated_canvas_event();\n            fig.waiting = false;\n            return;\n        } else if (\n            typeof evt.data === 'string' &&\n            evt.data.slice(0, 21) === 'data:image/png;base64'\n        ) {\n            fig.imageObj.src = evt.data;\n            fig.updated_canvas_event();\n            fig.waiting = false;\n            return;\n        }\n\n        var msg = JSON.parse(evt.data);\n        var msg_type = msg['type'];\n\n        // Call the  \"handle_{type}\" callback, which takes\n        // the figure and JSON message as its only arguments.\n        try {\n            var callback = fig['handle_' + msg_type];\n        } catch (e) {\n            console.log(\n                \"No handler for the '\" + msg_type + \"' message type: \",\n                msg\n            );\n            return;\n        }\n\n        if (callback) {\n            try {\n                // console.log(\"Handling '\" + msg_type + \"' message: \", msg);\n                callback(fig, msg);\n            } catch (e) {\n                console.log(\n                    \"Exception inside the 'handler_\" + msg_type + \"' callback:\",\n                    e,\n                    e.stack,\n                    msg\n                );\n            }\n        }\n    };\n};\n\nfunction getModifiers(event) {\n    var mods = [];\n    if (event.ctrlKey) {\n        mods.push('ctrl');\n    }\n    if (event.altKey) {\n        mods.push('alt');\n    }\n    if (event.shiftKey) {\n        mods.push('shift');\n    }\n    if (event.metaKey) {\n        mods.push('meta');\n    }\n    return mods;\n}\n\n/*\n * return a copy of an object with only non-object keys\n * we need this to avoid circular references\n * https://stackoverflow.com/a/24161582/3208463\n */\nfunction simpleKeys(original) {\n    return Object.keys(original).reduce(function (obj, key) {\n        if (typeof original[key] !== 'object') {\n            obj[key] = original[key];\n        }\n        return obj;\n    }, {});\n}\n\nmpl.figure.prototype.mouse_event = function (event, name) {\n    if (name === 'button_press') {\n        this.canvas.focus();\n        this.canvas_div.focus();\n    }\n\n    // from https://stackoverflow.com/q/1114465\n    var boundingRect = this.canvas.getBoundingClientRect();\n    var x = (event.clientX - boundingRect.left) * this.ratio;\n    var y = (event.clientY - boundingRect.top) * this.ratio;\n\n    this.send_message(name, {\n        x: x,\n        y: y,\n        button: event.button,\n        step: event.step,\n        buttons: event.buttons,\n        modifiers: getModifiers(event),\n        guiEvent: simpleKeys(event),\n    });\n\n    return false;\n};\n\nmpl.figure.prototype._key_event_extra = function (_event, _name) {\n    // Handle any extra behaviour associated with a key event\n};\n\nmpl.figure.prototype.key_event = function (event, name) {\n    // Prevent repeat events\n    if (name === 'key_press') {\n        if (event.key === this._key) {\n            return;\n        } else {\n            this._key = event.key;\n        }\n    }\n    if (name === 'key_release') {\n        this._key = null;\n    }\n\n    var value = '';\n    if (event.ctrlKey && event.key !== 'Control') {\n        value += 'ctrl+';\n    }\n    else if (event.altKey && event.key !== 'Alt') {\n        value += 'alt+';\n    }\n    else if (event.shiftKey && event.key !== 'Shift') {\n        value += 'shift+';\n    }\n\n    value += 'k' + event.key;\n\n    this._key_event_extra(event, name);\n\n    this.send_message(name, { key: value, guiEvent: simpleKeys(event) });\n    return false;\n};\n\nmpl.figure.prototype.toolbar_button_onclick = function (name) {\n    if (name === 'download') {\n        this.handle_save(this, null);\n    } else {\n        this.send_message('toolbar_button', { name: name });\n    }\n};\n\nmpl.figure.prototype.toolbar_button_onmouseover = function (tooltip) {\n    this.message.textContent = tooltip;\n};\n\n///////////////// REMAINING CONTENT GENERATED BY embed_js.py /////////////////\n// prettier-ignore\nvar _JSXTOOLS_RESIZE_OBSERVER=function(A){var t,i=new WeakMap,n=new WeakMap,a=new WeakMap,r=new WeakMap,o=new Set;function s(e){if(!(this instanceof s))throw new TypeError(\"Constructor requires 'new' operator\");i.set(this,e)}function h(){throw new TypeError(\"Function is not a constructor\")}function c(e,t,i,n){e=0 in arguments?Number(arguments[0]):0,t=1 in arguments?Number(arguments[1]):0,i=2 in arguments?Number(arguments[2]):0,n=3 in arguments?Number(arguments[3]):0,this.right=(this.x=this.left=e)+(this.width=i),this.bottom=(this.y=this.top=t)+(this.height=n),Object.freeze(this)}function d(){t=requestAnimationFrame(d);var s=new WeakMap,p=new Set;o.forEach((function(t){r.get(t).forEach((function(i){var r=t instanceof window.SVGElement,o=a.get(t),d=r?0:parseFloat(o.paddingTop),f=r?0:parseFloat(o.paddingRight),l=r?0:parseFloat(o.paddingBottom),u=r?0:parseFloat(o.paddingLeft),g=r?0:parseFloat(o.borderTopWidth),m=r?0:parseFloat(o.borderRightWidth),w=r?0:parseFloat(o.borderBottomWidth),b=u+f,F=d+l,v=(r?0:parseFloat(o.borderLeftWidth))+m,W=g+w,y=r?0:t.offsetHeight-W-t.clientHeight,E=r?0:t.offsetWidth-v-t.clientWidth,R=b+v,z=F+W,M=r?t.width:parseFloat(o.width)-R-E,O=r?t.height:parseFloat(o.height)-z-y;if(n.has(t)){var k=n.get(t);if(k[0]===M&&k[1]===O)return}n.set(t,[M,O]);var S=Object.create(h.prototype);S.target=t,S.contentRect=new c(u,d,M,O),s.has(i)||(s.set(i,[]),p.add(i)),s.get(i).push(S)}))})),p.forEach((function(e){i.get(e).call(e,s.get(e),e)}))}return s.prototype.observe=function(i){if(i instanceof window.Element){r.has(i)||(r.set(i,new Set),o.add(i),a.set(i,window.getComputedStyle(i)));var n=r.get(i);n.has(this)||n.add(this),cancelAnimationFrame(t),t=requestAnimationFrame(d)}},s.prototype.unobserve=function(i){if(i instanceof window.Element&&r.has(i)){var n=r.get(i);n.has(this)&&(n.delete(this),n.size||(r.delete(i),o.delete(i))),n.size||r.delete(i),o.size||cancelAnimationFrame(t)}},A.DOMRectReadOnly=c,A.ResizeObserver=s,A.ResizeObserverEntry=h,A}; // eslint-disable-line\nmpl.toolbar_items = [[\"Home\", \"Reset original view\", \"fa fa-home\", \"home\"], [\"Back\", \"Back to previous view\", \"fa fa-arrow-left\", \"back\"], [\"Forward\", \"Forward to next view\", \"fa fa-arrow-right\", \"forward\"], [\"\", \"\", \"\", \"\"], [\"Pan\", \"Left button pans, Right button zooms\\nx/y fixes axis, CTRL fixes aspect\", \"fa fa-arrows\", \"pan\"], [\"Zoom\", \"Zoom to rectangle\\nx/y fixes axis\", \"fa fa-square-o\", \"zoom\"], [\"\", \"\", \"\", \"\"], [\"Download\", \"Download plot\", \"fa fa-floppy-o\", \"download\"]];\n\nmpl.extensions = [\"eps\", \"jpeg\", \"pgf\", \"pdf\", \"png\", \"ps\", \"raw\", \"svg\", \"tif\", \"webp\"];\n\nmpl.default_extension = \"png\";/* global mpl */\n\nvar comm_websocket_adapter = function (comm) {\n    // Create a \"websocket\"-like object which calls the given IPython comm\n    // object with the appropriate methods. Currently this is a non binary\n    // socket, so there is still some room for performance tuning.\n    var ws = {};\n\n    ws.binaryType = comm.kernel.ws.binaryType;\n    ws.readyState = comm.kernel.ws.readyState;\n    function updateReadyState(_event) {\n        if (comm.kernel.ws) {\n            ws.readyState = comm.kernel.ws.readyState;\n        } else {\n            ws.readyState = 3; // Closed state.\n        }\n    }\n    comm.kernel.ws.addEventListener('open', updateReadyState);\n    comm.kernel.ws.addEventListener('close', updateReadyState);\n    comm.kernel.ws.addEventListener('error', updateReadyState);\n\n    ws.close = function () {\n        comm.close();\n    };\n    ws.send = function (m) {\n        //console.log('sending', m);\n        comm.send(m);\n    };\n    // Register the callback with on_msg.\n    comm.on_msg(function (msg) {\n        //console.log('receiving', msg['content']['data'], msg);\n        var data = msg['content']['data'];\n        if (data['blob'] !== undefined) {\n            data = {\n                data: new Blob(msg['buffers'], { type: data['blob'] }),\n            };\n        }\n        // Pass the mpl event to the overridden (by mpl) onmessage function.\n        ws.onmessage(data);\n    });\n    return ws;\n};\n\nmpl.mpl_figure_comm = function (comm, msg) {\n    // This is the function which gets called when the mpl process\n    // starts-up an IPython Comm through the \"matplotlib\" channel.\n\n    var id = msg.content.data.id;\n    // Get hold of the div created by the display call when the Comm\n    // socket was opened in Python.\n    var element = document.getElementById(id);\n    var ws_proxy = comm_websocket_adapter(comm);\n\n    function ondownload(figure, _format) {\n        window.open(figure.canvas.toDataURL());\n    }\n\n    var fig = new mpl.figure(id, ws_proxy, ondownload, element);\n\n    // Call onopen now - mpl needs it, as it is assuming we've passed it a real\n    // web socket which is closed, not our websocket->open comm proxy.\n    ws_proxy.onopen();\n\n    fig.parent_element = element;\n    fig.cell_info = mpl.find_output_cell(\"<div id='\" + id + \"'></div>\");\n    if (!fig.cell_info) {\n        console.error('Failed to find cell for figure', id, fig);\n        return;\n    }\n    fig.cell_info[0].output_area.element.on(\n        'cleared',\n        { fig: fig },\n        fig._remove_fig_handler\n    );\n};\n\nmpl.figure.prototype.handle_close = function (fig, msg) {\n    var width = fig.canvas.width / fig.ratio;\n    fig.cell_info[0].output_area.element.off(\n        'cleared',\n        fig._remove_fig_handler\n    );\n    fig.resizeObserverInstance.unobserve(fig.canvas_div);\n\n    // Update the output cell to use the data from the current canvas.\n    fig.push_to_output();\n    var dataURL = fig.canvas.toDataURL();\n    // Re-enable the keyboard manager in IPython - without this line, in FF,\n    // the notebook keyboard shortcuts fail.\n    IPython.keyboard_manager.enable();\n    fig.parent_element.innerHTML =\n        '<img src=\"' + dataURL + '\" width=\"' + width + '\">';\n    fig.close_ws(fig, msg);\n};\n\nmpl.figure.prototype.close_ws = function (fig, msg) {\n    fig.send_message('closing', msg);\n    // fig.ws.close()\n};\n\nmpl.figure.prototype.push_to_output = function (_remove_interactive) {\n    // Turn the data on the canvas into data in the output cell.\n    var width = this.canvas.width / this.ratio;\n    var dataURL = this.canvas.toDataURL();\n    this.cell_info[1]['text/html'] =\n        '<img src=\"' + dataURL + '\" width=\"' + width + '\">';\n};\n\nmpl.figure.prototype.updated_canvas_event = function () {\n    // Tell IPython that the notebook contents must change.\n    IPython.notebook.set_dirty(true);\n    this.send_message('ack', {});\n    var fig = this;\n    // Wait a second, then push the new image to the DOM so\n    // that it is saved nicely (might be nice to debounce this).\n    setTimeout(function () {\n        fig.push_to_output();\n    }, 1000);\n};\n\nmpl.figure.prototype._init_toolbar = function () {\n    var fig = this;\n\n    var toolbar = document.createElement('div');\n    toolbar.classList = 'btn-toolbar';\n    this.root.appendChild(toolbar);\n\n    function on_click_closure(name) {\n        return function (_event) {\n            return fig.toolbar_button_onclick(name);\n        };\n    }\n\n    function on_mouseover_closure(tooltip) {\n        return function (event) {\n            if (!event.currentTarget.disabled) {\n                return fig.toolbar_button_onmouseover(tooltip);\n            }\n        };\n    }\n\n    fig.buttons = {};\n    var buttonGroup = document.createElement('div');\n    buttonGroup.classList = 'btn-group';\n    var button;\n    for (var toolbar_ind in mpl.toolbar_items) {\n        var name = mpl.toolbar_items[toolbar_ind][0];\n        var tooltip = mpl.toolbar_items[toolbar_ind][1];\n        var image = mpl.toolbar_items[toolbar_ind][2];\n        var method_name = mpl.toolbar_items[toolbar_ind][3];\n\n        if (!name) {\n            /* Instead of a spacer, we start a new button group. */\n            if (buttonGroup.hasChildNodes()) {\n                toolbar.appendChild(buttonGroup);\n            }\n            buttonGroup = document.createElement('div');\n            buttonGroup.classList = 'btn-group';\n            continue;\n        }\n\n        button = fig.buttons[name] = document.createElement('button');\n        button.classList = 'btn btn-default';\n        button.href = '#';\n        button.title = name;\n        button.innerHTML = '<i class=\"fa ' + image + ' fa-lg\"></i>';\n        button.addEventListener('click', on_click_closure(method_name));\n        button.addEventListener('mouseover', on_mouseover_closure(tooltip));\n        buttonGroup.appendChild(button);\n    }\n\n    if (buttonGroup.hasChildNodes()) {\n        toolbar.appendChild(buttonGroup);\n    }\n\n    // Add the status bar.\n    var status_bar = document.createElement('span');\n    status_bar.classList = 'mpl-message pull-right';\n    toolbar.appendChild(status_bar);\n    this.message = status_bar;\n\n    // Add the close button to the window.\n    var buttongrp = document.createElement('div');\n    buttongrp.classList = 'btn-group inline pull-right';\n    button = document.createElement('button');\n    button.classList = 'btn btn-mini btn-primary';\n    button.href = '#';\n    button.title = 'Stop Interaction';\n    button.innerHTML = '<i class=\"fa fa-power-off icon-remove icon-large\"></i>';\n    button.addEventListener('click', function (_evt) {\n        fig.handle_close(fig, {});\n    });\n    button.addEventListener(\n        'mouseover',\n        on_mouseover_closure('Stop Interaction')\n    );\n    buttongrp.appendChild(button);\n    var titlebar = this.root.querySelector('.ui-dialog-titlebar');\n    titlebar.insertBefore(buttongrp, titlebar.firstChild);\n};\n\nmpl.figure.prototype._remove_fig_handler = function (event) {\n    var fig = event.data.fig;\n    if (event.target !== this) {\n        // Ignore bubbled events from children.\n        return;\n    }\n    fig.close_ws(fig, {});\n};\n\nmpl.figure.prototype._root_extra_style = function (el) {\n    el.style.boxSizing = 'content-box'; // override notebook setting of border-box.\n};\n\nmpl.figure.prototype._canvas_extra_style = function (el) {\n    // this is important to make the div 'focusable\n    el.setAttribute('tabindex', 0);\n    // reach out to IPython and tell the keyboard manager to turn it's self\n    // off when our div gets focus\n\n    // location in version 3\n    if (IPython.notebook.keyboard_manager) {\n        IPython.notebook.keyboard_manager.register_events(el);\n    } else {\n        // location in version 2\n        IPython.keyboard_manager.register_events(el);\n    }\n};\n\nmpl.figure.prototype._key_event_extra = function (event, _name) {\n    // Check for shift+enter\n    if (event.shiftKey && event.which === 13) {\n        this.canvas_div.blur();\n        // select the cell after this one\n        var index = IPython.notebook.find_cell_index(this.cell_info[0]);\n        IPython.notebook.select(index + 1);\n    }\n};\n\nmpl.figure.prototype.handle_save = function (fig, _msg) {\n    fig.ondownload(fig, null);\n};\n\nmpl.find_output_cell = function (html_output) {\n    // Return the cell and output element which can be found *uniquely* in the notebook.\n    // Note - this is a bit hacky, but it is done because the \"notebook_saving.Notebook\"\n    // IPython event is triggered only after the cells have been serialised, which for\n    // our purposes (turning an active figure into a static one), is too late.\n    var cells = IPython.notebook.get_cells();\n    var ncells = cells.length;\n    for (var i = 0; i < ncells; i++) {\n        var cell = cells[i];\n        if (cell.cell_type === 'code') {\n            for (var j = 0; j < cell.output_area.outputs.length; j++) {\n                var data = cell.output_area.outputs[j];\n                if (data.data) {\n                    // IPython >= 3 moved mimebundle to data attribute of output\n                    data = data.data;\n                }\n                if (data['text/html'] === html_output) {\n                    return [cell, data, j];\n                }\n            }\n        }\n    }\n};\n\n// Register the function which deals with the matplotlib target/channel.\n// The kernel may be null if the page has been refreshed.\nif (IPython.notebook.kernel !== null) {\n    IPython.notebook.kernel.comm_manager.register_target(\n        'matplotlib',\n        mpl.mpl_figure_comm\n    );\n}\n",
      "text/plain": [
       "<IPython.core.display.Javascript object>"
      ]
     },
     "metadata": {},
     "output_type": "display_data"
    },
    {
     "data": {
      "text/html": [
       "<div id='d163a210-0c6f-4807-be30-d05ba946a520'></div>"
      ],
      "text/plain": [
       "<IPython.core.display.HTML object>"
      ]
     },
     "metadata": {},
     "output_type": "display_data"
    },
    {
     "data": {
      "image/png": "[encoded data removed]",
      "text/plain": [
       "<Figure size 2100x1050 with 2 Axes>"
      ]
     },
     "execution_count": 18,
     "metadata": {},
     "output_type": "execute_result"
    }
   ],
   "source": [
    "from src.utils.analysis import plot_mazes\n",
    "\n",
    "plot_mazes((('Input', input), ('Prediction', prediction)))\n"
   ]
  }
 ],
 "metadata": {
  "kernelspec": {
   "display_name": ".venv",
   "language": "python",
   "name": "python3"
  },
  "language_info": {
   "codemirror_mode": {
    "name": "ipython",
    "version": 3
   },
   "file_extension": ".py",
   "mimetype": "text/x-python",
   "name": "python",
   "nbconvert_exporter": "python",
   "pygments_lexer": "ipython3",
   "version": "3.10.16"
  }
 },
 "nbformat": 4,
 "nbformat_minor": 5
}
