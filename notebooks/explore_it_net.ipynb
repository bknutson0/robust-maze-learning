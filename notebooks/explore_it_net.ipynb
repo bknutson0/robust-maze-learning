{
 "cells": [
  {
   "cell_type": "code",
   "execution_count": 1,
   "metadata": {},
   "outputs": [],
   "source": [
    "# Import necessary modules\n",
    "import sys\n",
    "import os\n",
    "import torch \n",
    "# Set root folder to project root\n",
    "os.chdir(os.path.dirname(os.getcwd()))\n",
    "\n",
    "# Add root folder to path\n",
    "sys.path.append(os.getcwd())\n",
    "\n",
    "from src.utils.config import Hyperparameters\n",
    "from src.utils.model_loading import load_model\n",
    "from src.utils.maze_loading import load_mazes\n",
    "from src.utils.testing import is_correct\n",
    "from src.utils.analysis import plot_mazes"
   ]
  },
  {
   "cell_type": "code",
   "execution_count": null,
   "metadata": {},
   "outputs": [
    {
     "name": "stderr",
     "output_type": "stream",
     "text": [
      "2025-03-30 18:49:07,509 - src.utils.model_loading - INFO - Loaded model: dt_net from models/dt_net/original.pth to device: cuda:1\n",
      "2025-03-30 18:49:07,527 - src.utils.model_loading - INFO - Loaded model: dt_net from models/dt_net/2025-03-12_03:43:44/best.pth to device: cuda:1\n",
      "2025-03-30 18:49:07,550 - src.utils.model_loading - INFO - Loaded model: it_net from models/it_net/2025-03-26_23:59:57/best.pth to device: cuda:1\n",
      "2025-03-30 18:49:07,551 - src.utils.maze_loading - INFO - Attempting 10 mazes to generate 10 mazes with size: 49, percolation: 0.3, and deadend_start: True\n",
      "2025-03-30 18:49:07,610 - src.utils.maze_loading - INFO - Loaded 10 mazes with size: 49, percolation: 0.3, and deadend_start: True\n"
     ]
    }
   ],
   "source": [
    "# Load model\n",
    "dt_net_original = load_model(pretrained='models/dt_net/original.pth')\n",
    "dt_net = load_model(pretrained='models/dt_net/2025-03-12_03:43:44/best.pth') # train percolation: 0.5\n",
    "it_net = load_model(pretrained='models/it_net/2025-03-26_23:59:57/best.pth') # train percolation: 0.4\n",
    "model = it_net\n",
    "\n",
    "# Load mazes\n",
    "hyperparams = Hyperparameters()\n",
    "hyperparams.iters = 2000\n",
    "hyperparams.num_mazes = 10\n",
    "hyperparams.percolation = 0.3\n",
    "hyperparams.maze_size = 49\n",
    "inputs, solutions = load_mazes(hyperparams)\n",
    "\n",
    "# Predict\n",
    "# predictions = model.predict(inputs, iters=hyperparams.iters)\n",
    "with torch.no_grad():\n",
    "    model.eval()\n",
    "    latents = model.input_to_latent(inputs)\n",
    "    latents = model.latent_forward(latents, inputs, iters=hyperparams.iters)\n",
    "    #latents = model.latent_forward_layer(torch.cat([latents, inputs], dim=1))\n",
    "    outputs = model.latent_to_output(latents)\n",
    "    predictions = model.output_to_prediction(outputs, inputs)\n",
    "\n",
    "# Evaluate predictions\n",
    "corrects = is_correct(inputs, predictions, solutions)\n",
    "print(f'{corrects.sum()} out of {len(corrects)} predictions are correct.')\n",
    "\n",
    "# Plot results\n",
    "file_name=f'outputs/visuals/mazes/predictions_{model.name}_size-{hyperparams.maze_size}_iters-{hyperparams.iters}'\n",
    "print(f'Saving maze plots to {file_name}')\n",
    "plot_mazes(\n",
    "    inputs,\n",
    "    solutions,\n",
    "    predictions,\n",
    "    file_name=file_name\n",
    ")"
   ]
  }
 ],
 "metadata": {
  "kernelspec": {
   "display_name": ".venv",
   "language": "python",
   "name": "python3"
  },
  "language_info": {
   "codemirror_mode": {
    "name": "ipython",
    "version": 3
   },
   "file_extension": ".py",
   "mimetype": "text/x-python",
   "name": "python",
   "nbconvert_exporter": "python",
   "pygments_lexer": "ipython3",
   "version": "3.10.16"
  }
 },
 "nbformat": 4,
 "nbformat_minor": 2
}
