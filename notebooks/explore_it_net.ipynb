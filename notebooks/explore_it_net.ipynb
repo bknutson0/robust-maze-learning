{
 "cells": [
  {
   "cell_type": "code",
   "execution_count": 1,
   "metadata": {},
   "outputs": [],
   "source": [
    "# Import necessary modules\n",
    "import sys\n",
    "import os\n",
    "\n",
    "# Set root folder to project root\n",
    "os.chdir(os.path.dirname(os.getcwd()))\n",
    "\n",
    "# Add root folder to path\n",
    "sys.path.append(os.getcwd())\n",
    "\n",
    "from src.utils.config import Hyperparameters\n",
    "from src.utils.model_loading import load_model\n",
    "from src.utils.maze_loading import load_mazes\n",
    "from src.utils.testing import is_correct\n",
    "from src.utils.analysis import plot_mazes"
   ]
  },
  {
   "cell_type": "code",
   "execution_count": 2,
   "metadata": {},
   "outputs": [
    {
     "name": "stderr",
     "output_type": "stream",
     "text": [
      "2025-03-19 14:33:55,947 - src.utils.model_loading - INFO - Loaded dt_net to cuda:2\n",
      "2025-03-19 14:33:55,955 - src.utils.model_loading - INFO - Loaded models/dt_net/2025-03-12_03:43:44/best.pth to cuda:2\n",
      "2025-03-19 14:33:55,968 - src.utils.model_loading - INFO - Loaded models/it_net/2025-03-18_17:52:53/best.pth to cuda:2\n",
      "2025-03-19 14:33:55,969 - src.utils.maze_loading - INFO - Attempting 10 mazes to generate 10 mazes with size: 29, percolation: 0.5, and deadend_start: True\n",
      "2025-03-19 14:33:55,993 - src.utils.maze_loading - INFO - Loaded 10 mazes with size: 29, percolation: 0.5, and deadend_start: True\n"
     ]
    },
    {
     "name": "stdout",
     "output_type": "stream",
     "text": [
      "1 out of 10 predictions are correct.\n"
     ]
    }
   ],
   "source": [
    "# Load model\n",
    "dt_net_original = load_model('dt_net')\n",
    "dt_net = load_model('models/dt_net/2025-03-12_03:43:44/best.pth')\n",
    "it_net = load_model('models/it_net/2025-03-18_17:52:53/best.pth')\n",
    "model = it_net\n",
    "\n",
    "# Load mazes\n",
    "hyperparams = Hyperparameters()\n",
    "hyperparams.iters = 15\n",
    "hyperparams.num_mazes = 10\n",
    "hyperparams.percolation = 0.5\n",
    "hyperparams.maze_size = 29\n",
    "inputs, solutions = load_mazes(hyperparams)\n",
    "\n",
    "# Predict\n",
    "predictions = model.predict(inputs, iters=hyperparams.iters)\n",
    "\n",
    "# Evaluate predictions\n",
    "corrects = is_correct(inputs, predictions, solutions)\n",
    "print(f'{corrects.sum()} out of {len(corrects)} predictions are correct.')\n",
    "\n",
    "# Plot results\n",
    "plot_mazes(\n",
    "    inputs,\n",
    "    predictions,\n",
    "    solutions,\n",
    "    file_name=f'outputs/visuals/mazes/predictions_{model.name}_size-{hyperparams.maze_size}_iters-{hyperparams.iters}'\n",
    ")"
   ]
  }
 ],
 "metadata": {
  "kernelspec": {
   "display_name": ".venv",
   "language": "python",
   "name": "python3"
  },
  "language_info": {
   "codemirror_mode": {
    "name": "ipython",
    "version": 3
   },
   "file_extension": ".py",
   "mimetype": "text/x-python",
   "name": "python",
   "nbconvert_exporter": "python",
   "pygments_lexer": "ipython3",
   "version": "3.8.10"
  }
 },
 "nbformat": 4,
 "nbformat_minor": 2
}
