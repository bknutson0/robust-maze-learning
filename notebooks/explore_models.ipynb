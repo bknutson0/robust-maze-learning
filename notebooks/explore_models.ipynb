{
 "cells": [
  {
   "cell_type": "code",
   "execution_count": 1,
   "id": "a4266836",
   "metadata": {},
   "outputs": [],
   "source": [
    "# Import necessary modules\n",
    "import sys\n",
    "import os\n",
    "import torch \n",
    "# Set root folder to project root\n",
    "os.chdir(os.path.dirname(os.getcwd()))\n",
    "\n",
    "# Add root folder to path\n",
    "sys.path.append(os.getcwd())\n",
    "\n",
    "from src.utils.config import Hyperparameters\n",
    "from src.utils.model_loading import load_model, summarize_models\n",
    "from src.utils.maze_loading import load_mazes\n",
    "from src.utils.testing import is_correct\n",
    "from src.utils.analysis import plot_mazes"
   ]
  },
  {
   "cell_type": "code",
   "execution_count": 2,
   "id": "f4e79185",
   "metadata": {},
   "outputs": [
    {
     "name": "stderr",
     "output_type": "stream",
     "text": [
      "2025-06-03 11:39:38,262 - src.utils.model_loading - INFO - Loaded model: ff_net from models/ff_net/2025-04-21_00:26:24/best.pth to device: cuda:0\n",
      "2025-06-03 11:39:38,299 - src.utils.model_loading - INFO - Loaded pi_net from models/pi_net/original.pth to device: cuda:0\n",
      "2025-06-03 11:39:38,312 - src.utils.model_loading - INFO - Loaded model: dt_net from models/dt_net/original.pth to device: cuda:0\n",
      "2025-06-03 11:39:38,328 - src.utils.model_loading - INFO - Loaded model: it_net from models/it_net/2025-03-05_13:43:46/best.pth to device: cuda:0\n"
     ]
    },
    {
     "name": "stdout",
     "output_type": "stream",
     "text": [
      "Model   Params (M)  Size (MB)\n",
      "-----------------------------\n",
      "ff_net  8.89        33.91    \n",
      "pi_net  0.78        2.99     \n",
      "dt_net  0.78        2.99     \n",
      "it_net  1.37        5.24     \n"
     ]
    }
   ],
   "source": [
    "summarize_models()"
   ]
  }
 ],
 "metadata": {
  "kernelspec": {
   "display_name": ".venv",
   "language": "python",
   "name": "python3"
  },
  "language_info": {
   "codemirror_mode": {
    "name": "ipython",
    "version": 3
   },
   "file_extension": ".py",
   "mimetype": "text/x-python",
   "name": "python",
   "nbconvert_exporter": "python",
   "pygments_lexer": "ipython3",
   "version": "3.13.1"
  }
 },
 "nbformat": 4,
 "nbformat_minor": 5
}
